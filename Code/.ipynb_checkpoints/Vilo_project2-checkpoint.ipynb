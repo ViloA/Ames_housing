{
 "cells": [
  {
   "cell_type": "code",
   "execution_count": 381,
   "id": "7efb7a2c",
   "metadata": {},
   "outputs": [],
   "source": [
    "import pandas as pd\n",
    "import numpy as np\n",
    "\n",
    "from matplotlib import pyplot as plt\n",
    "import seaborn as sns\n",
    "\n",
    "from sklearn.metrics import mean_squared_error\n",
    "from sklearn.linear_model import LinearRegression, LassoCV, Lasso, Ridge\n",
    "from sklearn.model_selection import train_test_split, GridSearchCV\n",
    "from sklearn.feature_selection import SelectKBest, f_regression, chi2\n",
    "from sklearn.model_selection import cross_val_score\n",
    "from sklearn.preprocessing import StandardScaler\n",
    "from sklearn.pipeline import Pipeline\n",
    "from scipy.stats import linregress\n"
   ]
  },
  {
   "cell_type": "code",
   "execution_count": 118,
   "id": "5cd2cc52",
   "metadata": {},
   "outputs": [],
   "source": [
    "file_path1 = './datasets/train.csv'\n",
    "train = pd.read_csv(file_path1)\n",
    "\n",
    "file_path2 = './datasets/test.csv'\n",
    "test = pd.read_csv(file_path2)"
   ]
  },
  {
   "cell_type": "code",
   "execution_count": 119,
   "id": "02941ebe",
   "metadata": {},
   "outputs": [
    {
     "data": {
      "text/plain": [
       "(2051, 81)"
      ]
     },
     "execution_count": 119,
     "metadata": {},
     "output_type": "execute_result"
    }
   ],
   "source": [
    "train.shape"
   ]
  },
  {
   "cell_type": "code",
   "execution_count": 120,
   "id": "0ded9bad",
   "metadata": {
    "scrolled": true
   },
   "outputs": [
    {
     "data": {
      "text/plain": [
       "Index(['Id', 'PID', 'MS SubClass', 'MS Zoning', 'Lot Frontage', 'Lot Area',\n",
       "       'Street', 'Alley', 'Lot Shape', 'Land Contour', 'Utilities',\n",
       "       'Lot Config', 'Land Slope', 'Neighborhood', 'Condition 1',\n",
       "       'Condition 2', 'Bldg Type', 'House Style', 'Overall Qual',\n",
       "       'Overall Cond', 'Year Built', 'Year Remod/Add', 'Roof Style',\n",
       "       'Roof Matl', 'Exterior 1st', 'Exterior 2nd', 'Mas Vnr Type',\n",
       "       'Mas Vnr Area', 'Exter Qual', 'Exter Cond', 'Foundation', 'Bsmt Qual',\n",
       "       'Bsmt Cond', 'Bsmt Exposure', 'BsmtFin Type 1', 'BsmtFin SF 1',\n",
       "       'BsmtFin Type 2', 'BsmtFin SF 2', 'Bsmt Unf SF', 'Total Bsmt SF',\n",
       "       'Heating', 'Heating QC', 'Central Air', 'Electrical', '1st Flr SF',\n",
       "       '2nd Flr SF', 'Low Qual Fin SF', 'Gr Liv Area', 'Bsmt Full Bath',\n",
       "       'Bsmt Half Bath', 'Full Bath', 'Half Bath', 'Bedroom AbvGr',\n",
       "       'Kitchen AbvGr', 'Kitchen Qual', 'TotRms AbvGrd', 'Functional',\n",
       "       'Fireplaces', 'Fireplace Qu', 'Garage Type', 'Garage Yr Blt',\n",
       "       'Garage Finish', 'Garage Cars', 'Garage Area', 'Garage Qual',\n",
       "       'Garage Cond', 'Paved Drive', 'Wood Deck SF', 'Open Porch SF',\n",
       "       'Enclosed Porch', '3Ssn Porch', 'Screen Porch', 'Pool Area', 'Pool QC',\n",
       "       'Fence', 'Misc Feature', 'Misc Val', 'Mo Sold', 'Yr Sold', 'Sale Type',\n",
       "       'SalePrice'],\n",
       "      dtype='object')"
      ]
     },
     "execution_count": 120,
     "metadata": {},
     "output_type": "execute_result"
    }
   ],
   "source": [
    "train.columns"
   ]
  },
  {
   "cell_type": "markdown",
   "id": "8ae1518b",
   "metadata": {},
   "source": [
    "#### making columns lower case and snake_cased"
   ]
  },
  {
   "cell_type": "code",
   "execution_count": 121,
   "id": "a395cc65",
   "metadata": {},
   "outputs": [],
   "source": [
    "train.columns = [col.lower().replace(' ', '_') for col in train.columns]"
   ]
  },
  {
   "cell_type": "code",
   "execution_count": 122,
   "id": "dfff2e6f",
   "metadata": {
    "scrolled": true
   },
   "outputs": [
    {
     "data": {
      "text/plain": [
       "Index(['id', 'pid', 'ms_subclass', 'ms_zoning', 'lot_frontage', 'lot_area',\n",
       "       'street', 'alley', 'lot_shape', 'land_contour', 'utilities',\n",
       "       'lot_config', 'land_slope', 'neighborhood', 'condition_1',\n",
       "       'condition_2', 'bldg_type', 'house_style', 'overall_qual',\n",
       "       'overall_cond', 'year_built', 'year_remod/add', 'roof_style',\n",
       "       'roof_matl', 'exterior_1st', 'exterior_2nd', 'mas_vnr_type',\n",
       "       'mas_vnr_area', 'exter_qual', 'exter_cond', 'foundation', 'bsmt_qual',\n",
       "       'bsmt_cond', 'bsmt_exposure', 'bsmtfin_type_1', 'bsmtfin_sf_1',\n",
       "       'bsmtfin_type_2', 'bsmtfin_sf_2', 'bsmt_unf_sf', 'total_bsmt_sf',\n",
       "       'heating', 'heating_qc', 'central_air', 'electrical', '1st_flr_sf',\n",
       "       '2nd_flr_sf', 'low_qual_fin_sf', 'gr_liv_area', 'bsmt_full_bath',\n",
       "       'bsmt_half_bath', 'full_bath', 'half_bath', 'bedroom_abvgr',\n",
       "       'kitchen_abvgr', 'kitchen_qual', 'totrms_abvgrd', 'functional',\n",
       "       'fireplaces', 'fireplace_qu', 'garage_type', 'garage_yr_blt',\n",
       "       'garage_finish', 'garage_cars', 'garage_area', 'garage_qual',\n",
       "       'garage_cond', 'paved_drive', 'wood_deck_sf', 'open_porch_sf',\n",
       "       'enclosed_porch', '3ssn_porch', 'screen_porch', 'pool_area', 'pool_qc',\n",
       "       'fence', 'misc_feature', 'misc_val', 'mo_sold', 'yr_sold', 'sale_type',\n",
       "       'saleprice'],\n",
       "      dtype='object')"
      ]
     },
     "execution_count": 122,
     "metadata": {},
     "output_type": "execute_result"
    }
   ],
   "source": [
    "train.columns"
   ]
  },
  {
   "cell_type": "code",
   "execution_count": 123,
   "id": "bfdc83d1",
   "metadata": {},
   "outputs": [],
   "source": [
    "train_clean = train"
   ]
  },
  {
   "cell_type": "markdown",
   "id": "c914a736",
   "metadata": {},
   "source": [
    "#### Checking which columns have null values, and showing sum of those nulls"
   ]
  },
  {
   "cell_type": "code",
   "execution_count": 124,
   "id": "84c5b5ea",
   "metadata": {
    "scrolled": false
   },
   "outputs": [
    {
     "data": {
      "text/plain": [
       "lot_frontage       330\n",
       "alley             1911\n",
       "mas_vnr_type        22\n",
       "mas_vnr_area        22\n",
       "bsmt_qual           55\n",
       "bsmt_cond           55\n",
       "bsmt_exposure       58\n",
       "bsmtfin_type_1      55\n",
       "bsmtfin_sf_1         1\n",
       "bsmtfin_type_2      56\n",
       "bsmtfin_sf_2         1\n",
       "bsmt_unf_sf          1\n",
       "total_bsmt_sf        1\n",
       "bsmt_full_bath       2\n",
       "bsmt_half_bath       2\n",
       "fireplace_qu      1000\n",
       "garage_type        113\n",
       "garage_yr_blt      114\n",
       "garage_finish      114\n",
       "garage_cars          1\n",
       "garage_area          1\n",
       "garage_qual        114\n",
       "garage_cond        114\n",
       "pool_qc           2042\n",
       "fence             1651\n",
       "misc_feature      1986\n",
       "dtype: int64"
      ]
     },
     "execution_count": 124,
     "metadata": {},
     "output_type": "execute_result"
    }
   ],
   "source": [
    "check_nulls = train_clean[train_clean.columns[train_clean.isnull().any()].tolist()].isnull().sum()\n",
    "\n",
    "check_nulls"
   ]
  },
  {
   "cell_type": "markdown",
   "id": "18d1f849",
   "metadata": {},
   "source": [
    "#### Dropping columns that have greater than 50% null values"
   ]
  },
  {
   "cell_type": "code",
   "execution_count": 125,
   "id": "98aa4512",
   "metadata": {},
   "outputs": [],
   "source": [
    "train_clean.drop(['alley','fireplace_qu','pool_qc','fence','misc_feature'], axis=1, inplace=True)"
   ]
  },
  {
   "cell_type": "code",
   "execution_count": 126,
   "id": "77da2d7d",
   "metadata": {},
   "outputs": [
    {
     "data": {
      "text/plain": [
       "lot_frontage      330\n",
       "mas_vnr_type       22\n",
       "mas_vnr_area       22\n",
       "bsmt_qual          55\n",
       "bsmt_cond          55\n",
       "bsmt_exposure      58\n",
       "bsmtfin_type_1     55\n",
       "bsmtfin_sf_1        1\n",
       "bsmtfin_type_2     56\n",
       "bsmtfin_sf_2        1\n",
       "bsmt_unf_sf         1\n",
       "total_bsmt_sf       1\n",
       "bsmt_full_bath      2\n",
       "bsmt_half_bath      2\n",
       "garage_type       113\n",
       "garage_yr_blt     114\n",
       "garage_finish     114\n",
       "garage_cars         1\n",
       "garage_area         1\n",
       "garage_qual       114\n",
       "garage_cond       114\n",
       "dtype: int64"
      ]
     },
     "execution_count": 126,
     "metadata": {},
     "output_type": "execute_result"
    }
   ],
   "source": [
    "train_clean[train_clean.columns[train_clean.isnull().any()].tolist()].isnull().sum()"
   ]
  },
  {
   "cell_type": "markdown",
   "id": "6a9dfd50",
   "metadata": {},
   "source": [
    "Columns for submission file --- id, SalePrice"
   ]
  },
  {
   "cell_type": "markdown",
   "id": "ca7e4871",
   "metadata": {},
   "source": [
    "#### Checking for most correlated features to target "
   ]
  },
  {
   "cell_type": "code",
   "execution_count": 407,
   "id": "98112852",
   "metadata": {
    "scrolled": false
   },
   "outputs": [
    {
     "data": {
      "text/html": [
       "<div>\n",
       "<style scoped>\n",
       "    .dataframe tbody tr th:only-of-type {\n",
       "        vertical-align: middle;\n",
       "    }\n",
       "\n",
       "    .dataframe tbody tr th {\n",
       "        vertical-align: top;\n",
       "    }\n",
       "\n",
       "    .dataframe thead th {\n",
       "        text-align: right;\n",
       "    }\n",
       "</style>\n",
       "<table border=\"1\" class=\"dataframe\">\n",
       "  <thead>\n",
       "    <tr style=\"text-align: right;\">\n",
       "      <th></th>\n",
       "      <th>saleprice</th>\n",
       "    </tr>\n",
       "  </thead>\n",
       "  <tbody>\n",
       "    <tr>\n",
       "      <th>saleprice</th>\n",
       "      <td>1.000000</td>\n",
       "    </tr>\n",
       "    <tr>\n",
       "      <th>overall_qual</th>\n",
       "      <td>0.800207</td>\n",
       "    </tr>\n",
       "    <tr>\n",
       "      <th>gr_liv_area</th>\n",
       "      <td>0.697038</td>\n",
       "    </tr>\n",
       "    <tr>\n",
       "      <th>garage_area</th>\n",
       "      <td>0.650270</td>\n",
       "    </tr>\n",
       "    <tr>\n",
       "      <th>garage_cars</th>\n",
       "      <td>0.648220</td>\n",
       "    </tr>\n",
       "    <tr>\n",
       "      <th>total_bsmt_sf</th>\n",
       "      <td>0.628925</td>\n",
       "    </tr>\n",
       "    <tr>\n",
       "      <th>1st_flr_sf</th>\n",
       "      <td>0.618486</td>\n",
       "    </tr>\n",
       "    <tr>\n",
       "      <th>year_built</th>\n",
       "      <td>0.571849</td>\n",
       "    </tr>\n",
       "    <tr>\n",
       "      <th>year_remod/add</th>\n",
       "      <td>0.550370</td>\n",
       "    </tr>\n",
       "    <tr>\n",
       "      <th>full_bath</th>\n",
       "      <td>0.537969</td>\n",
       "    </tr>\n",
       "    <tr>\n",
       "      <th>garage_yr_blt</th>\n",
       "      <td>0.533922</td>\n",
       "    </tr>\n",
       "    <tr>\n",
       "      <th>mas_vnr_area</th>\n",
       "      <td>0.512230</td>\n",
       "    </tr>\n",
       "    <tr>\n",
       "      <th>totrms_abvgrd</th>\n",
       "      <td>0.504014</td>\n",
       "    </tr>\n",
       "    <tr>\n",
       "      <th>fireplaces</th>\n",
       "      <td>0.471093</td>\n",
       "    </tr>\n",
       "    <tr>\n",
       "      <th>bsmtfin_sf_1</th>\n",
       "      <td>0.423519</td>\n",
       "    </tr>\n",
       "    <tr>\n",
       "      <th>lot_frontage</th>\n",
       "      <td>0.341842</td>\n",
       "    </tr>\n",
       "    <tr>\n",
       "      <th>open_porch_sf</th>\n",
       "      <td>0.333476</td>\n",
       "    </tr>\n",
       "    <tr>\n",
       "      <th>wood_deck_sf</th>\n",
       "      <td>0.326490</td>\n",
       "    </tr>\n",
       "    <tr>\n",
       "      <th>lot_area</th>\n",
       "      <td>0.296566</td>\n",
       "    </tr>\n",
       "    <tr>\n",
       "      <th>bsmt_full_bath</th>\n",
       "      <td>0.283662</td>\n",
       "    </tr>\n",
       "  </tbody>\n",
       "</table>\n",
       "</div>"
      ],
      "text/plain": [
       "                saleprice\n",
       "saleprice        1.000000\n",
       "overall_qual     0.800207\n",
       "gr_liv_area      0.697038\n",
       "garage_area      0.650270\n",
       "garage_cars      0.648220\n",
       "total_bsmt_sf    0.628925\n",
       "1st_flr_sf       0.618486\n",
       "year_built       0.571849\n",
       "year_remod/add   0.550370\n",
       "full_bath        0.537969\n",
       "garage_yr_blt    0.533922\n",
       "mas_vnr_area     0.512230\n",
       "totrms_abvgrd    0.504014\n",
       "fireplaces       0.471093\n",
       "bsmtfin_sf_1     0.423519\n",
       "lot_frontage     0.341842\n",
       "open_porch_sf    0.333476\n",
       "wood_deck_sf     0.326490\n",
       "lot_area         0.296566\n",
       "bsmt_full_bath   0.283662"
      ]
     },
     "execution_count": 407,
     "metadata": {},
     "output_type": "execute_result"
    }
   ],
   "source": [
    "train_clean.corr().abs().sort_values(by='saleprice', ascending=False)\n",
    "top_corr1 = pd.DataFrame(train_clean.corr().abs().sort_values(by='saleprice', ascending=False)['saleprice'][:20])\n",
    "top_corr1"
   ]
  },
  {
   "cell_type": "markdown",
   "id": "174dec16",
   "metadata": {},
   "source": [
    "#### Saving top 10 columns correlated to the target, by absolute value"
   ]
  },
  {
   "cell_type": "code",
   "execution_count": 268,
   "id": "d5d5b246",
   "metadata": {},
   "outputs": [],
   "source": [
    "top_10 = ['overall_qual', 'gr_liv_area', 'garage_area', 'garage_cars', 'total_bsmt_sf', '1st_flr_sf', 'year_built', 'year_remod/add', 'full_bath', 'garage_yr_blt']"
   ]
  },
  {
   "cell_type": "markdown",
   "id": "df2966d0",
   "metadata": {},
   "source": [
    "#### Using scatterplots to see top 5 features"
   ]
  },
  {
   "cell_type": "code",
   "execution_count": 400,
   "id": "242c25b7",
   "metadata": {
    "scrolled": false
   },
   "outputs": [
    {
     "data": {
      "image/png": "[encoded data removed]",
      "text/plain": [
       "<Figure size 576x576 with 1 Axes>"
      ]
     },
     "metadata": {
      "needs_background": "light"
     },
     "output_type": "display_data"
    }
   ],
   "source": [
    "X_plot = train_clean['overall_qual']\n",
    "y_plot = train_clean['saleprice']\n",
    "\n",
    "plt.figure(figsize=(8,8))\n",
    "plt.title('saleprice vs overall_qual',\n",
    "            fontdict=dict(fontsize=14,\n",
    "            fontweight='bold',\n",
    "            color='black'),\n",
    "            pad=10)\n",
    "plt.scatter(X_plot, y_plot)\n",
    "plt.xlabel(\"Overall Quality\")\n",
    "plt.ylabel(\"Sale Price\")\n",
    "plt.show()\n",
    "\n"
   ]
  },
  {
   "cell_type": "code",
   "execution_count": 401,
   "id": "0ce6c26e",
   "metadata": {},
   "outputs": [
    {
     "data": {
      "image/png": "[encoded data removed]",
      "text/plain": [
       "<Figure size 576x576 with 1 Axes>"
      ]
     },
     "metadata": {
      "needs_background": "light"
     },
     "output_type": "display_data"
    }
   ],
   "source": [
    "X_plot = train_clean['gr_liv_area']\n",
    "y_plot = train_clean['saleprice']\n",
    "\n",
    "plt.figure(figsize=(8,8))\n",
    "plt.title('saleprice vs gr_liv_area',\n",
    "            fontdict=dict(fontsize=14,\n",
    "            fontweight='bold',\n",
    "            color='black'),\n",
    "            pad=10)\n",
    "plt.scatter(X_plot, y_plot,\n",
    "           alpha=0.5)\n",
    "plt.xlabel(\"gr_liv_area\")\n",
    "plt.ylabel(\"Sale Price\")\n",
    "plt.show()\n",
    "\n"
   ]
  },
  {
   "cell_type": "code",
   "execution_count": 402,
   "id": "d581f912",
   "metadata": {
    "scrolled": false
   },
   "outputs": [
    {
     "data": {
      "image/png": "[encoded data removed]",
      "text/plain": [
       "<Figure size 576x576 with 1 Axes>"
      ]
     },
     "metadata": {
      "needs_background": "light"
     },
     "output_type": "display_data"
    }
   ],
   "source": [
    "X_plot = train_clean['garage_area']\n",
    "y_plot = train_clean['saleprice']\n",
    "\n",
    "plt.figure(figsize=(8,8))\n",
    "plt.title('saleprice vs garage_area',\n",
    "            fontdict=dict(fontsize=14,\n",
    "            fontweight='bold',\n",
    "            color='black'),\n",
    "            pad=10)\n",
    "plt.scatter(X_plot, y_plot,\n",
    "           alpha=0.5)\n",
    "plt.xlabel(\"garage_area\")\n",
    "plt.ylabel(\"Sale Price\")\n",
    "plt.show()\n"
   ]
  },
  {
   "cell_type": "code",
   "execution_count": 403,
   "id": "24aee803",
   "metadata": {
    "scrolled": false
   },
   "outputs": [
    {
     "data": {
      "image/png": "[encoded data removed]",
      "text/plain": [
       "<Figure size 576x576 with 1 Axes>"
      ]
     },
     "metadata": {
      "needs_background": "light"
     },
     "output_type": "display_data"
    }
   ],
   "source": [
    "X_plot = train_clean['garage_cars']\n",
    "y_plot = train_clean['saleprice']\n",
    "\n",
    "plt.figure(figsize=(8,8))\n",
    "plt.title('saleprice vs garage_cars',\n",
    "            fontdict=dict(fontsize=14,\n",
    "            fontweight='bold',\n",
    "            color='black'),\n",
    "            pad=10)\n",
    "plt.scatter(X_plot, y_plot,\n",
    "           alpha=0.5)\n",
    "plt.xlabel(\"garage_cars\")\n",
    "plt.ylabel(\"Sale Price\")\n",
    "plt.show()"
   ]
  },
  {
   "cell_type": "code",
   "execution_count": 404,
   "id": "462a7bf3",
   "metadata": {
    "scrolled": false
   },
   "outputs": [
    {
     "data": {
      "image/png": "[encoded data removed]",
      "text/plain": [
       "<Figure size 576x576 with 1 Axes>"
      ]
     },
     "metadata": {
      "needs_background": "light"
     },
     "output_type": "display_data"
    }
   ],
   "source": [
    "X_plot = train_clean['total_bsmt_sf']\n",
    "y_plot = train_clean['saleprice']\n",
    "\n",
    "plt.figure(figsize=(8,8))\n",
    "plt.title('saleprice vs total_bsmt_sf',\n",
    "            fontdict=dict(fontsize=14,\n",
    "            fontweight='bold',\n",
    "            color='black'),\n",
    "            pad=10)\n",
    "plt.scatter(X_plot, y_plot,\n",
    "           alpha=0.5)\n",
    "plt.xlabel(\"total_bsmt_sf\")\n",
    "plt.ylabel(\"Sale Price\")\n",
    "plt.show()"
   ]
  },
  {
   "cell_type": "markdown",
   "id": "ee7703eb",
   "metadata": {},
   "source": [
    "#### Checking column datatypes and checking various categorical columns"
   ]
  },
  {
   "cell_type": "code",
   "execution_count": 129,
   "id": "4f644d9c",
   "metadata": {
    "scrolled": true
   },
   "outputs": [
    {
     "data": {
      "text/plain": [
       "id                   int64\n",
       "pid                  int64\n",
       "ms_subclass          int64\n",
       "ms_zoning           object\n",
       "lot_frontage       float64\n",
       "lot_area             int64\n",
       "street              object\n",
       "lot_shape           object\n",
       "land_contour        object\n",
       "utilities           object\n",
       "lot_config          object\n",
       "land_slope          object\n",
       "neighborhood        object\n",
       "condition_1         object\n",
       "condition_2         object\n",
       "bldg_type           object\n",
       "house_style         object\n",
       "overall_qual         int64\n",
       "overall_cond         int64\n",
       "year_built           int64\n",
       "year_remod/add       int64\n",
       "roof_style          object\n",
       "roof_matl           object\n",
       "exterior_1st        object\n",
       "exterior_2nd        object\n",
       "mas_vnr_type        object\n",
       "mas_vnr_area       float64\n",
       "exter_qual          object\n",
       "exter_cond          object\n",
       "foundation          object\n",
       "bsmt_qual           object\n",
       "bsmt_cond           object\n",
       "bsmt_exposure       object\n",
       "bsmtfin_type_1      object\n",
       "bsmtfin_sf_1       float64\n",
       "bsmtfin_type_2      object\n",
       "bsmtfin_sf_2       float64\n",
       "bsmt_unf_sf        float64\n",
       "total_bsmt_sf      float64\n",
       "heating             object\n",
       "heating_qc          object\n",
       "central_air         object\n",
       "electrical          object\n",
       "1st_flr_sf           int64\n",
       "2nd_flr_sf           int64\n",
       "low_qual_fin_sf      int64\n",
       "gr_liv_area          int64\n",
       "bsmt_full_bath     float64\n",
       "bsmt_half_bath     float64\n",
       "full_bath            int64\n",
       "dtype: object"
      ]
     },
     "execution_count": 129,
     "metadata": {},
     "output_type": "execute_result"
    }
   ],
   "source": [
    "train_clean.dtypes[:50]"
   ]
  },
  {
   "cell_type": "code",
   "execution_count": 130,
   "id": "dcc19d0d",
   "metadata": {},
   "outputs": [
    {
     "data": {
      "text/plain": [
       "array(['RL', 'RM', 'FV', 'C (all)', 'A (agr)', 'RH', 'I (all)'],\n",
       "      dtype=object)"
      ]
     },
     "execution_count": 130,
     "metadata": {},
     "output_type": "execute_result"
    }
   ],
   "source": [
    "train_clean['ms_zoning'].unique()"
   ]
  },
  {
   "cell_type": "code",
   "execution_count": 363,
   "id": "d940f5ef",
   "metadata": {},
   "outputs": [
    {
     "data": {
      "text/plain": [
       "array(['TA', 'Gd', 'Fa', nan, 'Ex', 'Po'], dtype=object)"
      ]
     },
     "execution_count": 363,
     "metadata": {},
     "output_type": "execute_result"
    }
   ],
   "source": [
    "train_clean['bsmt_qual'].unique()"
   ]
  },
  {
   "cell_type": "code",
   "execution_count": 127,
   "id": "961a553d",
   "metadata": {
    "scrolled": true
   },
   "outputs": [
    {
     "data": {
      "text/plain": [
       "array(['Sawyer', 'SawyerW', 'NAmes', 'Timber', 'Edwards', 'OldTown',\n",
       "       'BrDale', 'CollgCr', 'Somerst', 'Mitchel', 'StoneBr', 'NridgHt',\n",
       "       'Gilbert', 'Crawfor', 'IDOTRR', 'NWAmes', 'Veenker', 'MeadowV',\n",
       "       'SWISU', 'NoRidge', 'ClearCr', 'Blmngtn', 'BrkSide', 'NPkVill',\n",
       "       'Blueste', 'GrnHill', 'Greens', 'Landmrk'], dtype=object)"
      ]
     },
     "execution_count": 127,
     "metadata": {},
     "output_type": "execute_result"
    }
   ],
   "source": [
    "train_clean['neighborhood'].unique()"
   ]
  },
  {
   "cell_type": "code",
   "execution_count": 131,
   "id": "86f24b5f",
   "metadata": {},
   "outputs": [
    {
     "data": {
      "text/plain": [
       "array(['Lvl', 'HLS', 'Bnk', 'Low'], dtype=object)"
      ]
     },
     "execution_count": 131,
     "metadata": {},
     "output_type": "execute_result"
    }
   ],
   "source": [
    "train_clean['land_contour'].unique()"
   ]
  },
  {
   "cell_type": "code",
   "execution_count": 132,
   "id": "8495174c",
   "metadata": {},
   "outputs": [
    {
     "data": {
      "text/plain": [
       "array(['IR1', 'Reg', 'IR2', 'IR3'], dtype=object)"
      ]
     },
     "execution_count": 132,
     "metadata": {},
     "output_type": "execute_result"
    }
   ],
   "source": [
    "train_clean['lot_shape'].unique()"
   ]
  },
  {
   "cell_type": "code",
   "execution_count": 133,
   "id": "a40b56ac",
   "metadata": {},
   "outputs": [
    {
     "data": {
      "text/plain": [
       "array(['AllPub', 'NoSeWa', 'NoSewr'], dtype=object)"
      ]
     },
     "execution_count": 133,
     "metadata": {},
     "output_type": "execute_result"
    }
   ],
   "source": [
    "train_clean['utilities'].unique()"
   ]
  },
  {
   "cell_type": "code",
   "execution_count": 134,
   "id": "1669289f",
   "metadata": {
    "scrolled": true
   },
   "outputs": [
    {
     "data": {
      "text/plain": [
       "array(['CulDSac', 'Inside', 'Corner', 'FR2', 'FR3'], dtype=object)"
      ]
     },
     "execution_count": 134,
     "metadata": {},
     "output_type": "execute_result"
    }
   ],
   "source": [
    "train_clean['lot_config'].unique()"
   ]
  },
  {
   "cell_type": "markdown",
   "id": "377ed5b9",
   "metadata": {},
   "source": [
    "#### Creating dataframe dummies "
   ]
  },
  {
   "cell_type": "code",
   "execution_count": 135,
   "id": "bcd4adec",
   "metadata": {},
   "outputs": [],
   "source": [
    "train_clean_dummies = pd.get_dummies(train_clean)"
   ]
  },
  {
   "cell_type": "code",
   "execution_count": 136,
   "id": "c7501a44",
   "metadata": {
    "scrolled": true
   },
   "outputs": [
    {
     "data": {
      "text/html": [
       "<div>\n",
       "<style scoped>\n",
       "    .dataframe tbody tr th:only-of-type {\n",
       "        vertical-align: middle;\n",
       "    }\n",
       "\n",
       "    .dataframe tbody tr th {\n",
       "        vertical-align: top;\n",
       "    }\n",
       "\n",
       "    .dataframe thead th {\n",
       "        text-align: right;\n",
       "    }\n",
       "</style>\n",
       "<table border=\"1\" class=\"dataframe\">\n",
       "  <thead>\n",
       "    <tr style=\"text-align: right;\">\n",
       "      <th></th>\n",
       "      <th>id</th>\n",
       "      <th>pid</th>\n",
       "      <th>ms_subclass</th>\n",
       "      <th>lot_frontage</th>\n",
       "      <th>lot_area</th>\n",
       "      <th>overall_qual</th>\n",
       "      <th>overall_cond</th>\n",
       "      <th>year_built</th>\n",
       "      <th>year_remod/add</th>\n",
       "      <th>mas_vnr_area</th>\n",
       "      <th>...</th>\n",
       "      <th>paved_drive_Y</th>\n",
       "      <th>sale_type_COD</th>\n",
       "      <th>sale_type_CWD</th>\n",
       "      <th>sale_type_Con</th>\n",
       "      <th>sale_type_ConLD</th>\n",
       "      <th>sale_type_ConLI</th>\n",
       "      <th>sale_type_ConLw</th>\n",
       "      <th>sale_type_New</th>\n",
       "      <th>sale_type_Oth</th>\n",
       "      <th>sale_type_WD</th>\n",
       "    </tr>\n",
       "  </thead>\n",
       "  <tbody>\n",
       "    <tr>\n",
       "      <th>0</th>\n",
       "      <td>109</td>\n",
       "      <td>533352170</td>\n",
       "      <td>60</td>\n",
       "      <td>NaN</td>\n",
       "      <td>13517</td>\n",
       "      <td>6</td>\n",
       "      <td>8</td>\n",
       "      <td>1976</td>\n",
       "      <td>2005</td>\n",
       "      <td>289.0</td>\n",
       "      <td>...</td>\n",
       "      <td>1</td>\n",
       "      <td>0</td>\n",
       "      <td>0</td>\n",
       "      <td>0</td>\n",
       "      <td>0</td>\n",
       "      <td>0</td>\n",
       "      <td>0</td>\n",
       "      <td>0</td>\n",
       "      <td>0</td>\n",
       "      <td>1</td>\n",
       "    </tr>\n",
       "    <tr>\n",
       "      <th>1</th>\n",
       "      <td>544</td>\n",
       "      <td>531379050</td>\n",
       "      <td>60</td>\n",
       "      <td>43.0</td>\n",
       "      <td>11492</td>\n",
       "      <td>7</td>\n",
       "      <td>5</td>\n",
       "      <td>1996</td>\n",
       "      <td>1997</td>\n",
       "      <td>132.0</td>\n",
       "      <td>...</td>\n",
       "      <td>1</td>\n",
       "      <td>0</td>\n",
       "      <td>0</td>\n",
       "      <td>0</td>\n",
       "      <td>0</td>\n",
       "      <td>0</td>\n",
       "      <td>0</td>\n",
       "      <td>0</td>\n",
       "      <td>0</td>\n",
       "      <td>1</td>\n",
       "    </tr>\n",
       "    <tr>\n",
       "      <th>2</th>\n",
       "      <td>153</td>\n",
       "      <td>535304180</td>\n",
       "      <td>20</td>\n",
       "      <td>68.0</td>\n",
       "      <td>7922</td>\n",
       "      <td>5</td>\n",
       "      <td>7</td>\n",
       "      <td>1953</td>\n",
       "      <td>2007</td>\n",
       "      <td>0.0</td>\n",
       "      <td>...</td>\n",
       "      <td>1</td>\n",
       "      <td>0</td>\n",
       "      <td>0</td>\n",
       "      <td>0</td>\n",
       "      <td>0</td>\n",
       "      <td>0</td>\n",
       "      <td>0</td>\n",
       "      <td>0</td>\n",
       "      <td>0</td>\n",
       "      <td>1</td>\n",
       "    </tr>\n",
       "    <tr>\n",
       "      <th>3</th>\n",
       "      <td>318</td>\n",
       "      <td>916386060</td>\n",
       "      <td>60</td>\n",
       "      <td>73.0</td>\n",
       "      <td>9802</td>\n",
       "      <td>5</td>\n",
       "      <td>5</td>\n",
       "      <td>2006</td>\n",
       "      <td>2007</td>\n",
       "      <td>0.0</td>\n",
       "      <td>...</td>\n",
       "      <td>1</td>\n",
       "      <td>0</td>\n",
       "      <td>0</td>\n",
       "      <td>0</td>\n",
       "      <td>0</td>\n",
       "      <td>0</td>\n",
       "      <td>0</td>\n",
       "      <td>0</td>\n",
       "      <td>0</td>\n",
       "      <td>1</td>\n",
       "    </tr>\n",
       "    <tr>\n",
       "      <th>4</th>\n",
       "      <td>255</td>\n",
       "      <td>906425045</td>\n",
       "      <td>50</td>\n",
       "      <td>82.0</td>\n",
       "      <td>14235</td>\n",
       "      <td>6</td>\n",
       "      <td>8</td>\n",
       "      <td>1900</td>\n",
       "      <td>1993</td>\n",
       "      <td>0.0</td>\n",
       "      <td>...</td>\n",
       "      <td>0</td>\n",
       "      <td>0</td>\n",
       "      <td>0</td>\n",
       "      <td>0</td>\n",
       "      <td>0</td>\n",
       "      <td>0</td>\n",
       "      <td>0</td>\n",
       "      <td>0</td>\n",
       "      <td>0</td>\n",
       "      <td>1</td>\n",
       "    </tr>\n",
       "  </tbody>\n",
       "</table>\n",
       "<p>5 rows × 272 columns</p>\n",
       "</div>"
      ],
      "text/plain": [
       "    id        pid  ms_subclass  lot_frontage  lot_area  overall_qual  \\\n",
       "0  109  533352170           60           NaN     13517             6   \n",
       "1  544  531379050           60          43.0     11492             7   \n",
       "2  153  535304180           20          68.0      7922             5   \n",
       "3  318  916386060           60          73.0      9802             5   \n",
       "4  255  906425045           50          82.0     14235             6   \n",
       "\n",
       "   overall_cond  year_built  year_remod/add  mas_vnr_area  ...  paved_drive_Y  \\\n",
       "0             8        1976            2005         289.0  ...              1   \n",
       "1             5        1996            1997         132.0  ...              1   \n",
       "2             7        1953            2007           0.0  ...              1   \n",
       "3             5        2006            2007           0.0  ...              1   \n",
       "4             8        1900            1993           0.0  ...              0   \n",
       "\n",
       "   sale_type_COD  sale_type_CWD  sale_type_Con  sale_type_ConLD  \\\n",
       "0              0              0              0                0   \n",
       "1              0              0              0                0   \n",
       "2              0              0              0                0   \n",
       "3              0              0              0                0   \n",
       "4              0              0              0                0   \n",
       "\n",
       "   sale_type_ConLI  sale_type_ConLw  sale_type_New  sale_type_Oth  \\\n",
       "0                0                0              0              0   \n",
       "1                0                0              0              0   \n",
       "2                0                0              0              0   \n",
       "3                0                0              0              0   \n",
       "4                0                0              0              0   \n",
       "\n",
       "   sale_type_WD   \n",
       "0              1  \n",
       "1              1  \n",
       "2              1  \n",
       "3              1  \n",
       "4              1  \n",
       "\n",
       "[5 rows x 272 columns]"
      ]
     },
     "execution_count": 136,
     "metadata": {},
     "output_type": "execute_result"
    }
   ],
   "source": [
    "train_clean_dummies.head()"
   ]
  },
  {
   "cell_type": "markdown",
   "id": "7bcc1a9c",
   "metadata": {},
   "source": [
    "#### Seeing what null values are left and manually finding and imputing the mean of each column"
   ]
  },
  {
   "cell_type": "code",
   "execution_count": 137,
   "id": "dc5e2ccb",
   "metadata": {
    "scrolled": false
   },
   "outputs": [
    {
     "data": {
      "text/plain": [
       "lot_frontage        330\n",
       "garage_yr_blt       114\n",
       "mas_vnr_area         22\n",
       "bsmt_half_bath        2\n",
       "bsmt_full_bath        2\n",
       "bsmt_unf_sf           1\n",
       "bsmtfin_sf_1          1\n",
       "garage_area           1\n",
       "total_bsmt_sf         1\n",
       "bsmtfin_sf_2          1\n",
       "garage_cars           1\n",
       "foundation_PConc      0\n",
       "dtype: int64"
      ]
     },
     "execution_count": 137,
     "metadata": {},
     "output_type": "execute_result"
    }
   ],
   "source": [
    "train_clean_dummies.isnull().sum().sort_values(ascending=False)[:12]"
   ]
  },
  {
   "cell_type": "code",
   "execution_count": 138,
   "id": "37386ddc",
   "metadata": {},
   "outputs": [],
   "source": [
    "train_clean_dummies['lot_frontage'].fillna(value= 69, inplace = True)\n",
    "train_clean_dummies['garage_yr_blt'].fillna(value= 1979, inplace = True)\n",
    "train_clean_dummies['mas_vnr_area'].fillna(value= 100, inplace = True)\n",
    "train_clean_dummies['bsmt_half_bath'].fillna(value= 0, inplace = True)\n",
    "train_clean_dummies['bsmt_full_bath'].fillna(value= 0.5, inplace = True)\n",
    "train_clean_dummies['bsmt_unf_sf'].fillna(value= 568, inplace = True)\n",
    "train_clean_dummies['bsmtfin_sf_1'].fillna(value= 442, inplace = True)\n",
    "train_clean_dummies['garage_area'].fillna(value= 474, inplace = True)\n",
    "train_clean_dummies['total_bsmt_sf'].fillna(value= 1058, inplace = True)\n",
    "train_clean_dummies['bsmtfin_sf_2'].fillna(value= 48, inplace = True)\n",
    "train_clean_dummies['garage_cars'].fillna(value= 2, inplace = True)\n"
   ]
  },
  {
   "cell_type": "markdown",
   "id": "13e80502",
   "metadata": {},
   "source": [
    "#### Checking top correlation to saleprice by absolute value, after using using dummies on categories."
   ]
  },
  {
   "cell_type": "code",
   "execution_count": 376,
   "id": "00e57e0d",
   "metadata": {
    "scrolled": false
   },
   "outputs": [],
   "source": [
    "top_corr = pd.DataFrame(train_clean_dummies.corr().abs().sort_values(by='saleprice', ascending=False)['saleprice'][:26])"
   ]
  },
  {
   "cell_type": "code",
   "execution_count": 377,
   "id": "1f279c7a",
   "metadata": {},
   "outputs": [
    {
     "data": {
      "text/html": [
       "<div>\n",
       "<style scoped>\n",
       "    .dataframe tbody tr th:only-of-type {\n",
       "        vertical-align: middle;\n",
       "    }\n",
       "\n",
       "    .dataframe tbody tr th {\n",
       "        vertical-align: top;\n",
       "    }\n",
       "\n",
       "    .dataframe thead th {\n",
       "        text-align: right;\n",
       "    }\n",
       "</style>\n",
       "<table border=\"1\" class=\"dataframe\">\n",
       "  <thead>\n",
       "    <tr style=\"text-align: right;\">\n",
       "      <th></th>\n",
       "      <th>saleprice</th>\n",
       "    </tr>\n",
       "  </thead>\n",
       "  <tbody>\n",
       "    <tr>\n",
       "      <th>saleprice</th>\n",
       "      <td>1.000000</td>\n",
       "    </tr>\n",
       "    <tr>\n",
       "      <th>overall_qual</th>\n",
       "      <td>0.808801</td>\n",
       "    </tr>\n",
       "    <tr>\n",
       "      <th>gr_liv_area</th>\n",
       "      <td>0.721258</td>\n",
       "    </tr>\n",
       "    <tr>\n",
       "      <th>total_bsmt_sf</th>\n",
       "      <td>0.663803</td>\n",
       "    </tr>\n",
       "    <tr>\n",
       "      <th>garage_area</th>\n",
       "      <td>0.658120</td>\n",
       "    </tr>\n",
       "    <tr>\n",
       "      <th>garage_cars</th>\n",
       "      <td>0.651989</td>\n",
       "    </tr>\n",
       "    <tr>\n",
       "      <th>1st_flr_sf</th>\n",
       "      <td>0.646387</td>\n",
       "    </tr>\n",
       "    <tr>\n",
       "      <th>exter_qual_TA</th>\n",
       "      <td>0.605444</td>\n",
       "    </tr>\n",
       "    <tr>\n",
       "      <th>bsmt_qual_Ex</th>\n",
       "      <td>0.591912</td>\n",
       "    </tr>\n",
       "    <tr>\n",
       "      <th>year_built</th>\n",
       "      <td>0.577410</td>\n",
       "    </tr>\n",
       "    <tr>\n",
       "      <th>kitchen_qual_Ex</th>\n",
       "      <td>0.553985</td>\n",
       "    </tr>\n",
       "    <tr>\n",
       "      <th>year_remod/add</th>\n",
       "      <td>0.553663</td>\n",
       "    </tr>\n",
       "    <tr>\n",
       "      <th>kitchen_qual_TA</th>\n",
       "      <td>0.542783</td>\n",
       "    </tr>\n",
       "    <tr>\n",
       "      <th>full_bath</th>\n",
       "      <td>0.538670</td>\n",
       "    </tr>\n",
       "    <tr>\n",
       "      <th>foundation_PConc</th>\n",
       "      <td>0.534196</td>\n",
       "    </tr>\n",
       "    <tr>\n",
       "      <th>mas_vnr_area</th>\n",
       "      <td>0.520154</td>\n",
       "    </tr>\n",
       "    <tr>\n",
       "      <th>garage_yr_blt</th>\n",
       "      <td>0.518424</td>\n",
       "    </tr>\n",
       "    <tr>\n",
       "      <th>totrms_abvgrd</th>\n",
       "      <td>0.508191</td>\n",
       "    </tr>\n",
       "    <tr>\n",
       "      <th>exter_qual_Ex</th>\n",
       "      <td>0.496969</td>\n",
       "    </tr>\n",
       "    <tr>\n",
       "      <th>fireplaces</th>\n",
       "      <td>0.470356</td>\n",
       "    </tr>\n",
       "    <tr>\n",
       "      <th>bsmtfin_type_1_GLQ</th>\n",
       "      <td>0.466772</td>\n",
       "    </tr>\n",
       "    <tr>\n",
       "      <th>bsmt_qual_TA</th>\n",
       "      <td>0.461304</td>\n",
       "    </tr>\n",
       "    <tr>\n",
       "      <th>heating_qc_Ex</th>\n",
       "      <td>0.458028</td>\n",
       "    </tr>\n",
       "    <tr>\n",
       "      <th>exter_qual_Gd</th>\n",
       "      <td>0.454933</td>\n",
       "    </tr>\n",
       "    <tr>\n",
       "      <th>neighborhood_NridgHt</th>\n",
       "      <td>0.444715</td>\n",
       "    </tr>\n",
       "    <tr>\n",
       "      <th>bsmtfin_sf_1</th>\n",
       "      <td>0.441580</td>\n",
       "    </tr>\n",
       "  </tbody>\n",
       "</table>\n",
       "</div>"
      ],
      "text/plain": [
       "                      saleprice\n",
       "saleprice              1.000000\n",
       "overall_qual           0.808801\n",
       "gr_liv_area            0.721258\n",
       "total_bsmt_sf          0.663803\n",
       "garage_area            0.658120\n",
       "garage_cars            0.651989\n",
       "1st_flr_sf             0.646387\n",
       "exter_qual_TA          0.605444\n",
       "bsmt_qual_Ex           0.591912\n",
       "year_built             0.577410\n",
       "kitchen_qual_Ex        0.553985\n",
       "year_remod/add         0.553663\n",
       "kitchen_qual_TA        0.542783\n",
       "full_bath              0.538670\n",
       "foundation_PConc       0.534196\n",
       "mas_vnr_area           0.520154\n",
       "garage_yr_blt          0.518424\n",
       "totrms_abvgrd          0.508191\n",
       "exter_qual_Ex          0.496969\n",
       "fireplaces             0.470356\n",
       "bsmtfin_type_1_GLQ     0.466772\n",
       "bsmt_qual_TA           0.461304\n",
       "heating_qc_Ex          0.458028\n",
       "exter_qual_Gd          0.454933\n",
       "neighborhood_NridgHt   0.444715\n",
       "bsmtfin_sf_1           0.441580"
      ]
     },
     "execution_count": 377,
     "metadata": {},
     "output_type": "execute_result"
    }
   ],
   "source": [
    "top_corr"
   ]
  },
  {
   "cell_type": "code",
   "execution_count": 379,
   "id": "511150d7",
   "metadata": {
    "scrolled": false
   },
   "outputs": [
    {
     "data": {
      "image/png": "[encoded data removed]",
      "text/plain": [
       "<Figure size 576x576 with 1 Axes>"
      ]
     },
     "metadata": {
      "needs_background": "light"
     },
     "output_type": "display_data"
    }
   ],
   "source": [
    "plt.figure(figsize=(8,8))\n",
    "sns.histplot(train_clean_dummies.overall_qual, kde=True)\n",
    "plt.show()"
   ]
  },
  {
   "cell_type": "code",
   "execution_count": 345,
   "id": "5bf2020f",
   "metadata": {},
   "outputs": [],
   "source": [
    "over_50_corr = train_clean_dummies[['overall_qual','gr_liv_area', 'total_bsmt_sf', 'garage_area', 'garage_cars', '1st_flr_sf',\\\n",
    "                'exter_qual_TA', 'bsmt_qual_Ex', 'year_built', 'kitchen_qual_Ex', 'year_remod/add',\\\n",
    "                'kitchen_qual_TA', 'full_bath', 'foundation_PConc', 'mas_vnr_area', 'garage_yr_blt', 'totrms_abvgrd']]"
   ]
  },
  {
   "cell_type": "code",
   "execution_count": 346,
   "id": "9fc8c7ac",
   "metadata": {},
   "outputs": [],
   "source": [
    "X = over_50_corr\n",
    "y = train_clean_dummies['saleprice']\n",
    "\n",
    "\n",
    "X_train, X_test, y_train, y_test = train_test_split(X, y, random_state = 42, train_size=.80)"
   ]
  },
  {
   "cell_type": "code",
   "execution_count": 347,
   "id": "3cf1f49f",
   "metadata": {},
   "outputs": [
    {
     "data": {
      "text/plain": [
       "LinearRegression(n_jobs=-1)"
      ]
     },
     "execution_count": 347,
     "metadata": {},
     "output_type": "execute_result"
    }
   ],
   "source": [
    "lr = LinearRegression(n_jobs=-1)\n",
    "lr.fit(X, y)"
   ]
  },
  {
   "cell_type": "code",
   "execution_count": 348,
   "id": "d88ce06d",
   "metadata": {},
   "outputs": [
    {
     "data": {
      "text/plain": [
       "0.8848267130454254"
      ]
     },
     "execution_count": 348,
     "metadata": {},
     "output_type": "execute_result"
    }
   ],
   "source": [
    "lr.score(X_train, y_train)"
   ]
  },
  {
   "cell_type": "code",
   "execution_count": 349,
   "id": "9a9c2015",
   "metadata": {
    "scrolled": true
   },
   "outputs": [
    {
     "data": {
      "text/plain": [
       "0.86869883822523"
      ]
     },
     "execution_count": 349,
     "metadata": {},
     "output_type": "execute_result"
    }
   ],
   "source": [
    "lr.score(X_test, y_test)"
   ]
  },
  {
   "cell_type": "code",
   "execution_count": 350,
   "id": "f341138e",
   "metadata": {},
   "outputs": [
    {
     "data": {
      "text/plain": [
       "27065.767166669193"
      ]
     },
     "execution_count": 350,
     "metadata": {},
     "output_type": "execute_result"
    }
   ],
   "source": [
    "preds = lr.predict(X)\n",
    "\n",
    "mean_squared_error(y, preds,squared=False)"
   ]
  },
  {
   "cell_type": "code",
   "execution_count": 342,
   "id": "f7721c17",
   "metadata": {
    "scrolled": true
   },
   "outputs": [
    {
     "data": {
      "text/plain": [
       "'Min score: 0.86, Max score: 0.9, Mean Score 0.88, Confidence interval 0.03'"
      ]
     },
     "execution_count": 342,
     "metadata": {},
     "output_type": "execute_result"
    }
   ],
   "source": [
    "scores1 = cross_val_score(lr, X, y, cv=10,\n",
    "                         n_jobs= -1)\n",
    "\n",
    "f'Min score: {round(scores1.min(), 2)}, Max score: {round(scores1.max(), 2)}, Mean Score {round(np.mean(scores1), 2)}\\\n",
    ", Confidence interval {round(2 * np.std(scores1), 2)}'\n",
    "\n"
   ]
  },
  {
   "cell_type": "code",
   "execution_count": 361,
   "id": "4adb2b1e",
   "metadata": {
    "scrolled": false
   },
   "outputs": [
    {
     "data": {
      "text/html": [
       "<div>\n",
       "<style scoped>\n",
       "    .dataframe tbody tr th:only-of-type {\n",
       "        vertical-align: middle;\n",
       "    }\n",
       "\n",
       "    .dataframe tbody tr th {\n",
       "        vertical-align: top;\n",
       "    }\n",
       "\n",
       "    .dataframe thead th {\n",
       "        text-align: right;\n",
       "    }\n",
       "</style>\n",
       "<table border=\"1\" class=\"dataframe\">\n",
       "  <thead>\n",
       "    <tr style=\"text-align: right;\">\n",
       "      <th></th>\n",
       "      <th>Feature</th>\n",
       "      <th>Coef</th>\n",
       "    </tr>\n",
       "  </thead>\n",
       "  <tbody>\n",
       "    <tr>\n",
       "      <th>9</th>\n",
       "      <td>kitchen_qual_Ex</td>\n",
       "      <td>36650.971242</td>\n",
       "    </tr>\n",
       "    <tr>\n",
       "      <th>7</th>\n",
       "      <td>bsmt_qual_Ex</td>\n",
       "      <td>34906.046730</td>\n",
       "    </tr>\n",
       "    <tr>\n",
       "      <th>0</th>\n",
       "      <td>overall_qual</td>\n",
       "      <td>11651.885220</td>\n",
       "    </tr>\n",
       "    <tr>\n",
       "      <th>13</th>\n",
       "      <td>foundation_PConc</td>\n",
       "      <td>2833.198491</td>\n",
       "    </tr>\n",
       "    <tr>\n",
       "      <th>10</th>\n",
       "      <td>year_remod/add</td>\n",
       "      <td>305.312657</td>\n",
       "    </tr>\n",
       "    <tr>\n",
       "      <th>8</th>\n",
       "      <td>year_built</td>\n",
       "      <td>275.341936</td>\n",
       "    </tr>\n",
       "    <tr>\n",
       "      <th>1</th>\n",
       "      <td>gr_liv_area</td>\n",
       "      <td>59.603636</td>\n",
       "    </tr>\n",
       "    <tr>\n",
       "      <th>3</th>\n",
       "      <td>garage_area</td>\n",
       "      <td>42.193691</td>\n",
       "    </tr>\n",
       "    <tr>\n",
       "      <th>14</th>\n",
       "      <td>mas_vnr_area</td>\n",
       "      <td>32.716177</td>\n",
       "    </tr>\n",
       "    <tr>\n",
       "      <th>2</th>\n",
       "      <td>total_bsmt_sf</td>\n",
       "      <td>25.206856</td>\n",
       "    </tr>\n",
       "    <tr>\n",
       "      <th>5</th>\n",
       "      <td>1st_flr_sf</td>\n",
       "      <td>11.223018</td>\n",
       "    </tr>\n",
       "    <tr>\n",
       "      <th>15</th>\n",
       "      <td>garage_yr_blt</td>\n",
       "      <td>-87.758713</td>\n",
       "    </tr>\n",
       "    <tr>\n",
       "      <th>4</th>\n",
       "      <td>garage_cars</td>\n",
       "      <td>-1306.999494</td>\n",
       "    </tr>\n",
       "    <tr>\n",
       "      <th>16</th>\n",
       "      <td>totrms_abvgrd</td>\n",
       "      <td>-2217.126141</td>\n",
       "    </tr>\n",
       "    <tr>\n",
       "      <th>11</th>\n",
       "      <td>kitchen_qual_TA</td>\n",
       "      <td>-3618.666687</td>\n",
       "    </tr>\n",
       "    <tr>\n",
       "      <th>6</th>\n",
       "      <td>exter_qual_TA</td>\n",
       "      <td>-4494.919539</td>\n",
       "    </tr>\n",
       "    <tr>\n",
       "      <th>12</th>\n",
       "      <td>full_bath</td>\n",
       "      <td>-8416.352076</td>\n",
       "    </tr>\n",
       "  </tbody>\n",
       "</table>\n",
       "</div>"
      ],
      "text/plain": [
       "             Feature          Coef\n",
       "9    kitchen_qual_Ex  36650.971242\n",
       "7       bsmt_qual_Ex  34906.046730\n",
       "0       overall_qual  11651.885220\n",
       "13  foundation_PConc   2833.198491\n",
       "10    year_remod/add    305.312657\n",
       "8         year_built    275.341936\n",
       "1        gr_liv_area     59.603636\n",
       "3        garage_area     42.193691\n",
       "14      mas_vnr_area     32.716177\n",
       "2      total_bsmt_sf     25.206856\n",
       "5         1st_flr_sf     11.223018\n",
       "15     garage_yr_blt    -87.758713\n",
       "4        garage_cars  -1306.999494\n",
       "16     totrms_abvgrd  -2217.126141\n",
       "11   kitchen_qual_TA  -3618.666687\n",
       "6      exter_qual_TA  -4494.919539\n",
       "12         full_bath  -8416.352076"
      ]
     },
     "execution_count": 361,
     "metadata": {},
     "output_type": "execute_result"
    }
   ],
   "source": [
    "coefficients = pd.concat([pd.DataFrame(X.columns),pd.DataFrame(np.transpose(lr.coef_))], axis = 1)\n",
    "coefficients.columns = ['Feature', 'Coef']\n",
    "coefficients.sort_values(by='Coef', ascending=False)"
   ]
  },
  {
   "cell_type": "code",
   "execution_count": null,
   "id": "7dcd45a2",
   "metadata": {},
   "outputs": [],
   "source": []
  },
  {
   "cell_type": "code",
   "execution_count": 405,
   "id": "3c6e7979",
   "metadata": {
    "scrolled": false
   },
   "outputs": [
    {
     "data": {
      "image/png": "[encoded data removed]",
      "text/plain": [
       "<Figure size 576x576 with 1 Axes>"
      ]
     },
     "metadata": {
      "needs_background": "light"
     },
     "output_type": "display_data"
    },
    {
     "data": {
      "text/plain": [
       "'Min score: 0.86, Max score: 0.9, Mean Score 0.88, Confidence interval 0.03'"
      ]
     },
     "execution_count": 405,
     "metadata": {},
     "output_type": "execute_result"
    }
   ],
   "source": [
    "predictions  =  lr.predict(X)\n",
    "score        =  lr.score(X, y)\n",
    "\n",
    "# Plot the model\n",
    "plt.figure(figsize=(8,8))\n",
    "plt.title('Actual price vs Predicted price',\n",
    "            fontdict=dict(fontsize=14,\n",
    "            fontweight='bold',\n",
    "            color='black'),\n",
    "            pad=10)\n",
    "plt.scatter(predictions, y,\n",
    "           alpha=.5)\n",
    "plt.xlabel(\"Predicted Values\")\n",
    "plt.ylabel(\"Actual Values - y\")\n",
    "\n",
    "m, b = np.polyfit(predictions, y, 1)\n",
    "plt.plot(predictions, m*predictions + b)\n",
    "plt.show()\n",
    "\n",
    "\n",
    "f'Min score: {round(scores1.min(), 2)}, Max score: {round(scores1.max(), 2)}, Mean Score {round(np.mean(scores1), 2)}\\\n",
    ", Confidence interval {round(2 * np.std(scores1), 2)}'\n",
    "\n",
    "\n"
   ]
  },
  {
   "cell_type": "code",
   "execution_count": null,
   "id": "5d9d8aa0",
   "metadata": {},
   "outputs": [],
   "source": []
  },
  {
   "cell_type": "markdown",
   "id": "fffbbffb",
   "metadata": {},
   "source": [
    "#### Did some testing using SelectKBest to try to select features automatically"
   ]
  },
  {
   "cell_type": "code",
   "execution_count": 197,
   "id": "6afdec7d",
   "metadata": {},
   "outputs": [
    {
     "name": "stderr",
     "output_type": "stream",
     "text": [
      "/Users/viloavila/opt/anaconda3/lib/python3.9/site-packages/sklearn/feature_selection/_univariate_selection.py:302: RuntimeWarning: invalid value encountered in true_divide\n",
      "  corr /= X_norms\n"
     ]
    },
    {
     "data": {
      "text/plain": [
       "(2043, 150)"
      ]
     },
     "execution_count": 197,
     "metadata": {},
     "output_type": "execute_result"
    }
   ],
   "source": [
    "# X_new = SelectKBest(score_func=f_regression, k=150).fit_transform(X, y)\n",
    "# X_new.shape\n"
   ]
  },
  {
   "cell_type": "code",
   "execution_count": 198,
   "id": "018384c8",
   "metadata": {},
   "outputs": [],
   "source": [
    "# select = SelectKBest(score_func=f_regression, k=100).fit(X,y)\n",
    "# X_feat = select.transform(X)\n",
    "# # z = select.fit_transform(X, y) \n",
    "\n",
    "\n",
    "\n",
    "# print(\"After selecting best 10 features:\", z.shape) \n"
   ]
  },
  {
   "cell_type": "code",
   "execution_count": 205,
   "id": "d661866b",
   "metadata": {},
   "outputs": [],
   "source": [
    "# top 5 gives us train/test of 76/82\n",
    "# top 15 gives us train/test of 81/87\n",
    "# top 20 gives us train/test of 83/88\n",
    "# top 25 gives us train/test of 83/88\n",
    "# top 30 gives us train/test of 84/88\n",
    "# top 50 gives us train/test of 85/89\n",
    "# top 100 gives us train/test of 88/89\n",
    "# top 120 gives us train/test of 88/90\n",
    "# top 150 gives us train/test of 90.0/90.4 - RMSE = 24,909\n",
    "# top 180 gives us train/test of 90/90\n",
    "# top 200 gives us train/test of 90.8/90.26 - RMSE = 24,129\n",
    "# top 230 gives us train/test of 90.9/90.5 - RMSE = 23,933\n",
    "# top 240 gives us train/test of 91.0/90.2 - RMSE = 23,916\n",
    "# top 250 gives us train/test of 91.1/90.3 - RMSE = 23,770\n",
    "# top 270 gives us train/test of 92.9 / 91.9 - RMSE = 21,279\n"
   ]
  },
  {
   "cell_type": "markdown",
   "id": "cc328899",
   "metadata": {},
   "source": [
    "#### Attempted to use LassoCV for modeling and I didnt have as much luck"
   ]
  },
  {
   "cell_type": "code",
   "execution_count": 241,
   "id": "e5451f6f",
   "metadata": {
    "scrolled": true
   },
   "outputs": [
    {
     "data": {
      "text/plain": [
       "0.06664008401804422"
      ]
     },
     "execution_count": 241,
     "metadata": {},
     "output_type": "execute_result"
    }
   ],
   "source": [
    "\n",
    "X = train_clean_dummies.drop(columns = ['saleprice'])\n",
    "y = train_clean_dummies['saleprice']\n",
    "#\n",
    "# Create an instance of Lasso Regression implementation\n",
    "#\n",
    "lasso_cv = LassoCV(cv=5)\n",
    "#\n",
    "# Fit the Lasso model\n",
    "#\n",
    "lasso_cv.fit(X, y)\n",
    "#\n",
    "# Create the model score\n",
    "#\n",
    "lasso_cv.score(X, y)\n",
    "# lasso.coef_"
   ]
  },
  {
   "cell_type": "code",
   "execution_count": 240,
   "id": "8e9b0c3f",
   "metadata": {},
   "outputs": [
    {
     "name": "stdout",
     "output_type": "stream",
     "text": [
      "best alpha: 5060393510.555578\n",
      "score: 0.06664037646177545\n"
     ]
    }
   ],
   "source": [
    "X = train_clean_dummies.drop(columns = ['saleprice'])\n",
    "y = train_clean_dummies['saleprice']\n",
    "\n",
    "# fit LassoCV\n",
    "lasso_cv = LassoCV(cv=10).fit(X, y)\n",
    "\n",
    "print('best alpha:', lasso_cv.alpha_)\n",
    "print('score:', lasso_cv.score(X, y))"
   ]
  },
  {
   "cell_type": "code",
   "execution_count": 165,
   "id": "9ef31d0f",
   "metadata": {},
   "outputs": [],
   "source": [
    "new_lasso = Lasso(alpha=lasso_cv.alpha_)\n",
    "new_lasso.fit(X, y)\n",
    "\n",
    "final_columns = [col for col, coef in zip(X.columns, new_lasso.coef_) if coef]"
   ]
  },
  {
   "cell_type": "code",
   "execution_count": 166,
   "id": "9e99bde9",
   "metadata": {},
   "outputs": [
    {
     "data": {
      "text/plain": [
       "0.06033933422557164"
      ]
     },
     "execution_count": 166,
     "metadata": {},
     "output_type": "execute_result"
    }
   ],
   "source": [
    "# fit final linear regression\n",
    "lr = LinearRegression(n_jobs=-1)\n",
    "\n",
    "scores = cross_val_score(lr, X[final_columns], y,\n",
    "                         cv=10, n_jobs=-1)\n",
    "scores.mean()"
   ]
  },
  {
   "cell_type": "code",
   "execution_count": 168,
   "id": "21825c88",
   "metadata": {},
   "outputs": [],
   "source": [
    "\n",
    "target = 'saleprice'\n",
    "features = [col for col in train_clean_dummies.columns if col != target]\n",
    "y = train_clean_dummies[target]\n",
    "\n",
    "# fit standard scaler - only on features, leave the target alone\n",
    "ss = StandardScaler()\n",
    "ss.fit(train_clean_dummies[features], y)\n",
    "\n",
    "# save the standardized values\n",
    "new_df = pd.DataFrame(ss.transform(train_clean_dummies[features]),\n",
    "             columns=features)\n",
    "new_df['saleprice'] = y\n",
    "\n",
    "X = new_df[features]"
   ]
  },
  {
   "cell_type": "code",
   "execution_count": 169,
   "id": "7691d674",
   "metadata": {},
   "outputs": [
    {
     "data": {
      "text/plain": [
       "1"
      ]
     },
     "execution_count": 169,
     "metadata": {},
     "output_type": "execute_result"
    }
   ],
   "source": [
    "lr = LinearRegression(n_jobs = -1)\n",
    "\n",
    "scores = cross_val_score(lr, X, y, cv=10,\n",
    "                         n_jobs= -1)\n",
    "\n",
    "f'{round(np.mean(scores), 2)} \\u00B1 {round(2 * np.std(scores), 2)}'\n",
    "coeff_used = np.sum(new_lasso.coef_!=0)\n",
    "coeff_used"
   ]
  },
  {
   "cell_type": "markdown",
   "id": "2273d4c8",
   "metadata": {},
   "source": [
    "#### Used below Lasso model while testing various alphas and went with my best scores"
   ]
  },
  {
   "cell_type": "code",
   "execution_count": 262,
   "id": "431ce5e0",
   "metadata": {},
   "outputs": [
    {
     "name": "stdout",
     "output_type": "stream",
     "text": [
      "83\n",
      "[0.91684057 0.93871216 0.92430586 0.9392147  0.93145601 0.92222842\n",
      " 0.93733918 0.92224132 0.90877498 0.93130201]\n"
     ]
    },
    {
     "data": {
      "text/plain": [
       "(0.9087749836274084, 0.9392146995707343, 0.93, 0.02)"
      ]
     },
     "execution_count": 262,
     "metadata": {},
     "output_type": "execute_result"
    }
   ],
   "source": [
    "X = train_clean_dummies.drop(columns = ['saleprice'])\n",
    "y = train_clean_dummies['saleprice']\n",
    "# Create training and test split\n",
    "#\n",
    "X_train, X_test, y_train, y_test = train_test_split(X, y, test_size=0.2, random_state=420)\n",
    "#\n",
    "# Create an instance of Lasso Regression implementation\n",
    "#\n",
    "lasso = Lasso(alpha=20, normalize=True)\n",
    "#\n",
    "# Fit the Lasso model\n",
    "#\n",
    "lasso.fit(X_train, y_train)\n",
    "#\n",
    "# Create the model score\n",
    "#\n",
    "lasso.score(X_test, y_test), lasso.score(X_train, y_train)\n",
    "print(np.sum(lasso.coef_!=0))\n",
    "\n",
    "scores = cross_val_score(lasso, X, y, cv=10,\n",
    "                         n_jobs= -1)\n",
    "\n",
    "print(scores)\n",
    "scores.min(), scores.max(), round(np.mean(scores), 2), round(2 * np.std(scores), 2)"
   ]
  },
  {
   "cell_type": "code",
   "execution_count": 253,
   "id": "a73baf65",
   "metadata": {
    "scrolled": true
   },
   "outputs": [
    {
     "data": {
      "text/plain": [
       "9      -62571.805540\n",
       "1299   -59329.191254\n",
       "1695   -58754.326899\n",
       "1192   -55918.574590\n",
       "1320   -55353.958693\n",
       "318    -54675.708516\n",
       "1516   -53781.772909\n",
       "1784   -52838.480431\n",
       "534    -52571.620078\n",
       "508    -52376.949123\n",
       "913    -52270.693924\n",
       "562    -51334.356211\n",
       "0      -51144.353753\n",
       "1201   -51120.355790\n",
       "916    -51039.510796\n",
       "1656   -49815.855880\n",
       "845    -49772.185293\n",
       "467    -49561.337977\n",
       "857    -49454.728822\n",
       "1628   -49378.791162\n",
       "Name: saleprice, dtype: float64"
      ]
     },
     "execution_count": 253,
     "metadata": {},
     "output_type": "execute_result"
    }
   ],
   "source": [
    "\n",
    "prediction = lasso.predict(X_train)\n",
    "residual = (y_train - prediction)\n",
    "\n",
    "residual.sort_values()[:20]"
   ]
  },
  {
   "cell_type": "markdown",
   "id": "77ff2e6b",
   "metadata": {},
   "source": [
    "#### After running some tests I discovered the below values to be outliers and I have dropped them from the testing dataframe"
   ]
  },
  {
   "cell_type": "code",
   "execution_count": 195,
   "id": "eb0ab456",
   "metadata": {},
   "outputs": [],
   "source": [
    "train_clean_dummies.drop(train_clean_dummies.index[[1897, 1249, 1612, 348, 125, 960, 1885, 1671]], inplace=True)"
   ]
  },
  {
   "cell_type": "code",
   "execution_count": 254,
   "id": "2e288f38",
   "metadata": {},
   "outputs": [
    {
     "data": {
      "image/png": "[encoded data removed]",
      "text/plain": [
       "<Figure size 576x576 with 1 Axes>"
      ]
     },
     "metadata": {
      "needs_background": "light"
     },
     "output_type": "display_data"
    },
    {
     "name": "stdout",
     "output_type": "stream",
     "text": [
      "score:  0.9152799023813004\n"
     ]
    }
   ],
   "source": [
    "predictions  =  lasso.predict(X_test)\n",
    "score        =  lasso.score(X_test, y_test)\n",
    "\n",
    "# Plot the model\n",
    "plt.figure(figsize=(8,8))\n",
    "plt.scatter(predictions, y_test)\n",
    "plt.xlabel(\"Predicted Values\")\n",
    "plt.ylabel(\"Actual Values - y\")\n",
    "plt.show()\n",
    "\n",
    "print(\"score: \", score)"
   ]
  },
  {
   "cell_type": "markdown",
   "id": "70e122ef",
   "metadata": {},
   "source": [
    "#### Used a ridge model, attempted various alphas"
   ]
  },
  {
   "cell_type": "code",
   "execution_count": 319,
   "id": "617979b1",
   "metadata": {
    "scrolled": false
   },
   "outputs": [
    {
     "name": "stderr",
     "output_type": "stream",
     "text": [
      "/Users/viloavila/opt/anaconda3/lib/python3.9/site-packages/sklearn/linear_model/_ridge.py:147: LinAlgWarning: Ill-conditioned matrix (rcond=1.10633e-19): result may not be accurate.\n",
      "  return linalg.solve(A, Xy, sym_pos=True,\n"
     ]
    },
    {
     "data": {
      "text/plain": [
       "Ridge()"
      ]
     },
     "execution_count": 319,
     "metadata": {},
     "output_type": "execute_result"
    }
   ],
   "source": [
    "X_ridge = train_clean_dummies.drop(columns = ['saleprice'])\n",
    "y_ridge = train_clean_dummies['saleprice']\n",
    " \n",
    "X_train, X_test, y_train, y_test = train_test_split(X_ridge, y_ridge, test_size=0.2, random_state=420)\n",
    "\n",
    "clf = Ridge(alpha=20.0)\n",
    "clf.fit(X_ridge, y_ridge)\n",
    "Ridge()"
   ]
  },
  {
   "cell_type": "code",
   "execution_count": 320,
   "id": "be9de735",
   "metadata": {
    "scrolled": true
   },
   "outputs": [
    {
     "name": "stderr",
     "output_type": "stream",
     "text": [
      "/Users/viloavila/opt/anaconda3/lib/python3.9/site-packages/sklearn/linear_model/_ridge.py:147: LinAlgWarning: Ill-conditioned matrix (rcond=1.53086e-19): result may not be accurate.\n",
      "  return linalg.solve(A, Xy, sym_pos=True,\n",
      "/Users/viloavila/opt/anaconda3/lib/python3.9/site-packages/sklearn/linear_model/_ridge.py:147: LinAlgWarning: Ill-conditioned matrix (rcond=1.5488e-19): result may not be accurate.\n",
      "  return linalg.solve(A, Xy, sym_pos=True,\n",
      "/Users/viloavila/opt/anaconda3/lib/python3.9/site-packages/sklearn/linear_model/_ridge.py:147: LinAlgWarning: Ill-conditioned matrix (rcond=1.5356e-19): result may not be accurate.\n",
      "  return linalg.solve(A, Xy, sym_pos=True,\n",
      "/Users/viloavila/opt/anaconda3/lib/python3.9/site-packages/sklearn/linear_model/_ridge.py:147: LinAlgWarning: Ill-conditioned matrix (rcond=1.51057e-19): result may not be accurate.\n",
      "  return linalg.solve(A, Xy, sym_pos=True,\n",
      "/Users/viloavila/opt/anaconda3/lib/python3.9/site-packages/sklearn/linear_model/_ridge.py:147: LinAlgWarning: Ill-conditioned matrix (rcond=1.5331e-19): result may not be accurate.\n",
      "  return linalg.solve(A, Xy, sym_pos=True,\n",
      "/Users/viloavila/opt/anaconda3/lib/python3.9/site-packages/sklearn/linear_model/_ridge.py:147: LinAlgWarning: Ill-conditioned matrix (rcond=1.52715e-19): result may not be accurate.\n",
      "  return linalg.solve(A, Xy, sym_pos=True,\n",
      "/Users/viloavila/opt/anaconda3/lib/python3.9/site-packages/sklearn/linear_model/_ridge.py:147: LinAlgWarning: Ill-conditioned matrix (rcond=1.53096e-19): result may not be accurate.\n",
      "  return linalg.solve(A, Xy, sym_pos=True,\n",
      "/Users/viloavila/opt/anaconda3/lib/python3.9/site-packages/sklearn/linear_model/_ridge.py:147: LinAlgWarning: Ill-conditioned matrix (rcond=1.59813e-19): result may not be accurate.\n",
      "  return linalg.solve(A, Xy, sym_pos=True,\n",
      "/Users/viloavila/opt/anaconda3/lib/python3.9/site-packages/sklearn/linear_model/_ridge.py:147: LinAlgWarning: Ill-conditioned matrix (rcond=1.52295e-19): result may not be accurate.\n",
      "  return linalg.solve(A, Xy, sym_pos=True,\n",
      "/Users/viloavila/opt/anaconda3/lib/python3.9/site-packages/sklearn/linear_model/_ridge.py:147: LinAlgWarning: Ill-conditioned matrix (rcond=1.52475e-19): result may not be accurate.\n",
      "  return linalg.solve(A, Xy, sym_pos=True,\n"
     ]
    },
    {
     "data": {
      "text/plain": [
       "'Min score: 0.89, Max score: 0.94, Mean Score 0.93, Confidence interval 0.03'"
      ]
     },
     "execution_count": 320,
     "metadata": {},
     "output_type": "execute_result"
    }
   ],
   "source": [
    "scores2 = cross_val_score(clf, X_train, y_train, cv=10,\n",
    "                         n_jobs= -1)\n",
    "\n",
    "f'Min score: {round(scores2.min(), 2)}, Max score: {round(scores2.max(), 2)}, Mean Score {round(np.mean(scores2), 2)}\\\n",
    ", Confidence interval {round(2 * np.std(scores2), 2)}'\n",
    "\n"
   ]
  },
  {
   "cell_type": "code",
   "execution_count": 321,
   "id": "803dfd28",
   "metadata": {},
   "outputs": [
    {
     "name": "stderr",
     "output_type": "stream",
     "text": [
      "/Users/viloavila/opt/anaconda3/lib/python3.9/site-packages/sklearn/linear_model/_ridge.py:147: LinAlgWarning: Ill-conditioned matrix (rcond=6.41793e-19): result may not be accurate.\n",
      "  return linalg.solve(A, Xy, sym_pos=True,\n",
      "/Users/viloavila/opt/anaconda3/lib/python3.9/site-packages/sklearn/linear_model/_ridge.py:147: LinAlgWarning: Ill-conditioned matrix (rcond=6.58938e-19): result may not be accurate.\n",
      "  return linalg.solve(A, Xy, sym_pos=True,\n",
      "/Users/viloavila/opt/anaconda3/lib/python3.9/site-packages/sklearn/linear_model/_ridge.py:147: LinAlgWarning: Ill-conditioned matrix (rcond=6.36619e-19): result may not be accurate.\n",
      "  return linalg.solve(A, Xy, sym_pos=True,\n",
      "/Users/viloavila/opt/anaconda3/lib/python3.9/site-packages/sklearn/linear_model/_ridge.py:147: LinAlgWarning: Ill-conditioned matrix (rcond=6.38701e-19): result may not be accurate.\n",
      "  return linalg.solve(A, Xy, sym_pos=True,\n",
      "/Users/viloavila/opt/anaconda3/lib/python3.9/site-packages/sklearn/linear_model/_ridge.py:147: LinAlgWarning: Ill-conditioned matrix (rcond=6.69948e-19): result may not be accurate.\n",
      "  return linalg.solve(A, Xy, sym_pos=True,\n",
      "/Users/viloavila/opt/anaconda3/lib/python3.9/site-packages/sklearn/linear_model/_ridge.py:147: LinAlgWarning: Ill-conditioned matrix (rcond=6.26238e-19): result may not be accurate.\n",
      "  return linalg.solve(A, Xy, sym_pos=True,\n",
      "/Users/viloavila/opt/anaconda3/lib/python3.9/site-packages/sklearn/linear_model/_ridge.py:147: LinAlgWarning: Ill-conditioned matrix (rcond=6.35588e-19): result may not be accurate.\n",
      "  return linalg.solve(A, Xy, sym_pos=True,\n",
      "/Users/viloavila/opt/anaconda3/lib/python3.9/site-packages/sklearn/linear_model/_ridge.py:147: LinAlgWarning: Ill-conditioned matrix (rcond=6.26366e-19): result may not be accurate.\n",
      "  return linalg.solve(A, Xy, sym_pos=True,\n",
      "/Users/viloavila/opt/anaconda3/lib/python3.9/site-packages/sklearn/linear_model/_ridge.py:147: LinAlgWarning: Ill-conditioned matrix (rcond=6.29947e-19): result may not be accurate.\n",
      "  return linalg.solve(A, Xy, sym_pos=True,\n",
      "/Users/viloavila/opt/anaconda3/lib/python3.9/site-packages/sklearn/linear_model/_ridge.py:147: LinAlgWarning: Ill-conditioned matrix (rcond=6.15722e-19): result may not be accurate.\n",
      "  return linalg.solve(A, Xy, sym_pos=True,\n"
     ]
    },
    {
     "data": {
      "text/plain": [
       "'Min score: 0.82, Max score: 0.94, Mean Score 0.9, Confidence interval 0.08'"
      ]
     },
     "execution_count": 321,
     "metadata": {},
     "output_type": "execute_result"
    }
   ],
   "source": [
    "scores2 = cross_val_score(clf, X_test, y_test, cv=10,\n",
    "                         n_jobs= -1)\n",
    "\n",
    "f'Min score: {round(scores2.min(), 2)}, Max score: {round(scores2.max(), 2)}, Mean Score {round(np.mean(scores2), 2)}\\\n",
    ", Confidence interval {round(2 * np.std(scores2), 2)}'"
   ]
  },
  {
   "cell_type": "markdown",
   "id": "6f26af92",
   "metadata": {},
   "source": [
    "#### Did some testing using GridSearchCV in an attempt to select features. "
   ]
  },
  {
   "cell_type": "code",
   "execution_count": 173,
   "id": "89f706fc",
   "metadata": {},
   "outputs": [],
   "source": [
    "X = train_clean_dummies.drop(columns = ['saleprice'])\n",
    "y = train_clean_dummies['saleprice']\n",
    "\n",
    "X_train, X_test, y_train, y_test = train_test_split(X, y, test_size=0.2, random_state=42)"
   ]
  },
  {
   "cell_type": "code",
   "execution_count": 174,
   "id": "7313d1c7",
   "metadata": {},
   "outputs": [],
   "source": [
    "pipeline = Pipeline([\n",
    "                     ('scaler',StandardScaler()),\n",
    "                     ('model',Lasso())\n",
    "])"
   ]
  },
  {
   "cell_type": "code",
   "execution_count": 175,
   "id": "25c3c9c6",
   "metadata": {},
   "outputs": [],
   "source": [
    "search = GridSearchCV(pipeline,\n",
    "                      {'model__alpha':np.arange(10,20,0.2)},\n",
    "                      cv = 5, scoring=\"neg_mean_squared_error\",verbose=3\n",
    "                      )"
   ]
  },
  {
   "cell_type": "code",
   "execution_count": 176,
   "id": "28aebc84",
   "metadata": {
    "scrolled": true
   },
   "outputs": [
    {
     "name": "stdout",
     "output_type": "stream",
     "text": [
      "Fitting 5 folds for each of 50 candidates, totalling 250 fits\n",
      "[CV 1/5] END ........model__alpha=10.0;, score=-573403797.608 total time=   0.2s\n",
      "[CV 2/5] END ........model__alpha=10.0;, score=-696268079.872 total time=   0.2s\n",
      "[CV 3/5] END ........model__alpha=10.0;, score=-602840716.842 total time=   0.2s\n"
     ]
    },
    {
     "name": "stderr",
     "output_type": "stream",
     "text": [
      "/Users/viloavila/opt/anaconda3/lib/python3.9/site-packages/sklearn/linear_model/_coordinate_descent.py:530: ConvergenceWarning: Objective did not converge. You might want to increase the number of iterations. Duality gap: 871098071.0839844, tolerance: 826453149.3005567\n",
      "  model = cd_fast.enet_coordinate_descent(\n",
      "/Users/viloavila/opt/anaconda3/lib/python3.9/site-packages/sklearn/linear_model/_coordinate_descent.py:530: ConvergenceWarning: Objective did not converge. You might want to increase the number of iterations. Duality gap: 1140725494.2947388, tolerance: 797539424.6529875\n",
      "  model = cd_fast.enet_coordinate_descent(\n"
     ]
    },
    {
     "name": "stdout",
     "output_type": "stream",
     "text": [
      "[CV 4/5] END .......model__alpha=10.0;, score=-1627986920.510 total time=   0.2s\n",
      "[CV 5/5] END .......model__alpha=10.0;, score=-1682293732.886 total time=   0.2s\n"
     ]
    },
    {
     "name": "stderr",
     "output_type": "stream",
     "text": [
      "/Users/viloavila/opt/anaconda3/lib/python3.9/site-packages/sklearn/linear_model/_coordinate_descent.py:530: ConvergenceWarning: Objective did not converge. You might want to increase the number of iterations. Duality gap: 961550298.8498535, tolerance: 874706017.577294\n",
      "  model = cd_fast.enet_coordinate_descent(\n"
     ]
    },
    {
     "name": "stdout",
     "output_type": "stream",
     "text": [
      "[CV 1/5] END ........model__alpha=10.2;, score=-573310245.567 total time=   0.2s\n",
      "[CV 2/5] END ........model__alpha=10.2;, score=-696160382.336 total time=   0.2s\n"
     ]
    },
    {
     "name": "stderr",
     "output_type": "stream",
     "text": [
      "/Users/viloavila/opt/anaconda3/lib/python3.9/site-packages/sklearn/linear_model/_coordinate_descent.py:530: ConvergenceWarning: Objective did not converge. You might want to increase the number of iterations. Duality gap: 875696532.038208, tolerance: 826453149.3005567\n",
      "  model = cd_fast.enet_coordinate_descent(\n",
      "/Users/viloavila/opt/anaconda3/lib/python3.9/site-packages/sklearn/linear_model/_coordinate_descent.py:530: ConvergenceWarning: Objective did not converge. You might want to increase the number of iterations. Duality gap: 1147527203.263977, tolerance: 797539424.6529875\n",
      "  model = cd_fast.enet_coordinate_descent(\n"
     ]
    },
    {
     "name": "stdout",
     "output_type": "stream",
     "text": [
      "[CV 3/5] END ........model__alpha=10.2;, score=-602781466.890 total time=   0.2s\n",
      "[CV 4/5] END .......model__alpha=10.2;, score=-1627472276.646 total time=   0.2s\n",
      "[CV 5/5] END .......model__alpha=10.2;, score=-1681293380.897 total time=   0.2s\n",
      "[CV 1/5] END model__alpha=10.399999999999999;, score=-573210772.081 total time=   0.2s\n"
     ]
    },
    {
     "name": "stderr",
     "output_type": "stream",
     "text": [
      "/Users/viloavila/opt/anaconda3/lib/python3.9/site-packages/sklearn/linear_model/_coordinate_descent.py:530: ConvergenceWarning: Objective did not converge. You might want to increase the number of iterations. Duality gap: 1012467796.3917236, tolerance: 823890400.1556158\n",
      "  model = cd_fast.enet_coordinate_descent(\n"
     ]
    },
    {
     "name": "stdout",
     "output_type": "stream",
     "text": [
      "[CV 2/5] END model__alpha=10.399999999999999;, score=-696033331.892 total time=   0.2s\n",
      "[CV 3/5] END model__alpha=10.399999999999999;, score=-602722881.263 total time=   0.2s\n"
     ]
    },
    {
     "name": "stderr",
     "output_type": "stream",
     "text": [
      "/Users/viloavila/opt/anaconda3/lib/python3.9/site-packages/sklearn/linear_model/_coordinate_descent.py:530: ConvergenceWarning: Objective did not converge. You might want to increase the number of iterations. Duality gap: 880231677.4946289, tolerance: 826453149.3005567\n",
      "  model = cd_fast.enet_coordinate_descent(\n",
      "/Users/viloavila/opt/anaconda3/lib/python3.9/site-packages/sklearn/linear_model/_coordinate_descent.py:530: ConvergenceWarning: Objective did not converge. You might want to increase the number of iterations. Duality gap: 1154290252.939209, tolerance: 797539424.6529875\n",
      "  model = cd_fast.enet_coordinate_descent(\n"
     ]
    },
    {
     "name": "stdout",
     "output_type": "stream",
     "text": [
      "[CV 4/5] END model__alpha=10.399999999999999;, score=-1626958183.785 total time=   0.2s\n",
      "[CV 5/5] END model__alpha=10.399999999999999;, score=-1680294707.302 total time=   0.2s\n"
     ]
    },
    {
     "name": "stderr",
     "output_type": "stream",
     "text": [
      "/Users/viloavila/opt/anaconda3/lib/python3.9/site-packages/sklearn/linear_model/_coordinate_descent.py:530: ConvergenceWarning: Objective did not converge. You might want to increase the number of iterations. Duality gap: 1072446924.9404297, tolerance: 823890400.1556158\n",
      "  model = cd_fast.enet_coordinate_descent(\n"
     ]
    },
    {
     "name": "stdout",
     "output_type": "stream",
     "text": [
      "[CV 1/5] END model__alpha=10.599999999999998;, score=-573105686.784 total time=   0.2s\n",
      "[CV 2/5] END model__alpha=10.599999999999998;, score=-695903672.330 total time=   0.2s\n"
     ]
    },
    {
     "name": "stderr",
     "output_type": "stream",
     "text": [
      "/Users/viloavila/opt/anaconda3/lib/python3.9/site-packages/sklearn/linear_model/_coordinate_descent.py:530: ConvergenceWarning: Objective did not converge. You might want to increase the number of iterations. Duality gap: 884714411.9545898, tolerance: 826453149.3005567\n",
      "  model = cd_fast.enet_coordinate_descent(\n",
      "/Users/viloavila/opt/anaconda3/lib/python3.9/site-packages/sklearn/linear_model/_coordinate_descent.py:530: ConvergenceWarning: Objective did not converge. You might want to increase the number of iterations. Duality gap: 1161007196.4865723, tolerance: 797539424.6529875\n",
      "  model = cd_fast.enet_coordinate_descent(\n"
     ]
    },
    {
     "name": "stdout",
     "output_type": "stream",
     "text": [
      "[CV 3/5] END model__alpha=10.599999999999998;, score=-602664469.512 total time=   0.2s\n",
      "[CV 4/5] END model__alpha=10.599999999999998;, score=-1626444628.942 total time=   0.2s\n",
      "[CV 5/5] END model__alpha=10.599999999999998;, score=-1679271133.778 total time=   0.2s\n",
      "[CV 1/5] END model__alpha=10.799999999999997;, score=-572999285.015 total time=   0.2s\n"
     ]
    },
    {
     "name": "stderr",
     "output_type": "stream",
     "text": [
      "/Users/viloavila/opt/anaconda3/lib/python3.9/site-packages/sklearn/linear_model/_coordinate_descent.py:530: ConvergenceWarning: Objective did not converge. You might want to increase the number of iterations. Duality gap: 1067505726.3157959, tolerance: 823890400.1556158\n",
      "  model = cd_fast.enet_coordinate_descent(\n",
      "/Users/viloavila/opt/anaconda3/lib/python3.9/site-packages/sklearn/linear_model/_coordinate_descent.py:530: ConvergenceWarning: Objective did not converge. You might want to increase the number of iterations. Duality gap: 872242526.8572998, tolerance: 851324810.643811\n",
      "  model = cd_fast.enet_coordinate_descent(\n"
     ]
    },
    {
     "name": "stdout",
     "output_type": "stream",
     "text": [
      "[CV 2/5] END model__alpha=10.799999999999997;, score=-695777195.451 total time=   0.2s\n",
      "[CV 3/5] END model__alpha=10.799999999999997;, score=-602606710.880 total time=   0.2s\n"
     ]
    },
    {
     "name": "stderr",
     "output_type": "stream",
     "text": [
      "/Users/viloavila/opt/anaconda3/lib/python3.9/site-packages/sklearn/linear_model/_coordinate_descent.py:530: ConvergenceWarning: Objective did not converge. You might want to increase the number of iterations. Duality gap: 889140230.0853271, tolerance: 826453149.3005567\n",
      "  model = cd_fast.enet_coordinate_descent(\n",
      "/Users/viloavila/opt/anaconda3/lib/python3.9/site-packages/sklearn/linear_model/_coordinate_descent.py:530: ConvergenceWarning: Objective did not converge. You might want to increase the number of iterations. Duality gap: 1167681742.1148682, tolerance: 797539424.6529875\n",
      "  model = cd_fast.enet_coordinate_descent(\n"
     ]
    },
    {
     "name": "stdout",
     "output_type": "stream",
     "text": [
      "[CV 4/5] END model__alpha=10.799999999999997;, score=-1625931623.936 total time=   0.2s\n",
      "[CV 5/5] END model__alpha=10.799999999999997;, score=-1678253845.488 total time=   0.2s\n"
     ]
    },
    {
     "name": "stderr",
     "output_type": "stream",
     "text": [
      "/Users/viloavila/opt/anaconda3/lib/python3.9/site-packages/sklearn/linear_model/_coordinate_descent.py:530: ConvergenceWarning: Objective did not converge. You might want to increase the number of iterations. Duality gap: 1073994862.2365723, tolerance: 823890400.1556158\n",
      "  model = cd_fast.enet_coordinate_descent(\n",
      "/Users/viloavila/opt/anaconda3/lib/python3.9/site-packages/sklearn/linear_model/_coordinate_descent.py:530: ConvergenceWarning: Objective did not converge. You might want to increase the number of iterations. Duality gap: 947641179.697876, tolerance: 851324810.643811\n",
      "  model = cd_fast.enet_coordinate_descent(\n"
     ]
    },
    {
     "name": "stdout",
     "output_type": "stream",
     "text": [
      "[CV 1/5] END model__alpha=10.999999999999996;, score=-572894234.423 total time=   0.2s\n",
      "[CV 2/5] END model__alpha=10.999999999999996;, score=-695660303.293 total time=   0.2s\n"
     ]
    },
    {
     "name": "stderr",
     "output_type": "stream",
     "text": [
      "/Users/viloavila/opt/anaconda3/lib/python3.9/site-packages/sklearn/linear_model/_coordinate_descent.py:530: ConvergenceWarning: Objective did not converge. You might want to increase the number of iterations. Duality gap: 898939586.4095459, tolerance: 826453149.3005567\n",
      "  model = cd_fast.enet_coordinate_descent(\n",
      "/Users/viloavila/opt/anaconda3/lib/python3.9/site-packages/sklearn/linear_model/_coordinate_descent.py:530: ConvergenceWarning: Objective did not converge. You might want to increase the number of iterations. Duality gap: 1174319253.3485107, tolerance: 797539424.6529875\n",
      "  model = cd_fast.enet_coordinate_descent(\n"
     ]
    },
    {
     "name": "stdout",
     "output_type": "stream",
     "text": [
      "[CV 3/5] END model__alpha=10.999999999999996;, score=-602559566.480 total time=   0.2s\n",
      "[CV 4/5] END model__alpha=10.999999999999996;, score=-1625419184.807 total time=   0.2s\n",
      "[CV 5/5] END model__alpha=10.999999999999996;, score=-1677236741.720 total time=   0.2s\n",
      "[CV 1/5] END model__alpha=11.199999999999996;, score=-572790885.445 total time=   0.2s\n"
     ]
    },
    {
     "name": "stderr",
     "output_type": "stream",
     "text": [
      "/Users/viloavila/opt/anaconda3/lib/python3.9/site-packages/sklearn/linear_model/_coordinate_descent.py:530: ConvergenceWarning: Objective did not converge. You might want to increase the number of iterations. Duality gap: 1080905483.727295, tolerance: 823890400.1556158\n",
      "  model = cd_fast.enet_coordinate_descent(\n",
      "/Users/viloavila/opt/anaconda3/lib/python3.9/site-packages/sklearn/linear_model/_coordinate_descent.py:530: ConvergenceWarning: Objective did not converge. You might want to increase the number of iterations. Duality gap: 939912758.742981, tolerance: 851324810.643811\n",
      "  model = cd_fast.enet_coordinate_descent(\n"
     ]
    },
    {
     "name": "stdout",
     "output_type": "stream",
     "text": [
      "[CV 2/5] END model__alpha=11.199999999999996;, score=-695548120.312 total time=   0.2s\n",
      "[CV 3/5] END model__alpha=11.199999999999996;, score=-602515320.597 total time=   0.2s\n"
     ]
    },
    {
     "name": "stderr",
     "output_type": "stream",
     "text": [
      "/Users/viloavila/opt/anaconda3/lib/python3.9/site-packages/sklearn/linear_model/_coordinate_descent.py:530: ConvergenceWarning: Objective did not converge. You might want to increase the number of iterations. Duality gap: 904399939.7645264, tolerance: 826453149.3005567\n",
      "  model = cd_fast.enet_coordinate_descent(\n",
      "/Users/viloavila/opt/anaconda3/lib/python3.9/site-packages/sklearn/linear_model/_coordinate_descent.py:530: ConvergenceWarning: Objective did not converge. You might want to increase the number of iterations. Duality gap: 1180908450.0944214, tolerance: 797539424.6529875\n",
      "  model = cd_fast.enet_coordinate_descent(\n"
     ]
    },
    {
     "name": "stdout",
     "output_type": "stream",
     "text": [
      "[CV 4/5] END model__alpha=11.199999999999996;, score=-1624907290.828 total time=   0.2s\n",
      "[CV 5/5] END model__alpha=11.199999999999996;, score=-1676220771.036 total time=   0.2s\n"
     ]
    },
    {
     "name": "stderr",
     "output_type": "stream",
     "text": [
      "/Users/viloavila/opt/anaconda3/lib/python3.9/site-packages/sklearn/linear_model/_coordinate_descent.py:530: ConvergenceWarning: Objective did not converge. You might want to increase the number of iterations. Duality gap: 1085350855.5622559, tolerance: 823890400.1556158\n",
      "  model = cd_fast.enet_coordinate_descent(\n",
      "/Users/viloavila/opt/anaconda3/lib/python3.9/site-packages/sklearn/linear_model/_coordinate_descent.py:530: ConvergenceWarning: Objective did not converge. You might want to increase the number of iterations. Duality gap: 944221795.1958008, tolerance: 851324810.643811\n",
      "  model = cd_fast.enet_coordinate_descent(\n"
     ]
    },
    {
     "name": "stdout",
     "output_type": "stream",
     "text": [
      "[CV 1/5] END model__alpha=11.399999999999995;, score=-572692308.586 total time=   0.2s\n",
      "[CV 2/5] END model__alpha=11.399999999999995;, score=-695438621.261 total time=   0.2s\n"
     ]
    },
    {
     "name": "stderr",
     "output_type": "stream",
     "text": [
      "/Users/viloavila/opt/anaconda3/lib/python3.9/site-packages/sklearn/linear_model/_coordinate_descent.py:530: ConvergenceWarning: Objective did not converge. You might want to increase the number of iterations. Duality gap: 908588776.2821045, tolerance: 826453149.3005567\n",
      "  model = cd_fast.enet_coordinate_descent(\n",
      "/Users/viloavila/opt/anaconda3/lib/python3.9/site-packages/sklearn/linear_model/_coordinate_descent.py:530: ConvergenceWarning: Objective did not converge. You might want to increase the number of iterations. Duality gap: 1187449789.1156006, tolerance: 797539424.6529875\n",
      "  model = cd_fast.enet_coordinate_descent(\n"
     ]
    },
    {
     "name": "stdout",
     "output_type": "stream",
     "text": [
      "[CV 3/5] END model__alpha=11.399999999999995;, score=-602471151.776 total time=   0.2s\n",
      "[CV 4/5] END model__alpha=11.399999999999995;, score=-1624395965.102 total time=   0.2s\n",
      "[CV 5/5] END model__alpha=11.399999999999995;, score=-1675202989.938 total time=   0.2s\n",
      "[CV 1/5] END model__alpha=11.599999999999994;, score=-572617090.358 total time=   0.2s\n"
     ]
    },
    {
     "name": "stderr",
     "output_type": "stream",
     "text": [
      "/Users/viloavila/opt/anaconda3/lib/python3.9/site-packages/sklearn/linear_model/_coordinate_descent.py:530: ConvergenceWarning: Objective did not converge. You might want to increase the number of iterations. Duality gap: 1089224952.6313477, tolerance: 823890400.1556158\n",
      "  model = cd_fast.enet_coordinate_descent(\n",
      "/Users/viloavila/opt/anaconda3/lib/python3.9/site-packages/sklearn/linear_model/_coordinate_descent.py:530: ConvergenceWarning: Objective did not converge. You might want to increase the number of iterations. Duality gap: 953460901.538269, tolerance: 851324810.643811\n",
      "  model = cd_fast.enet_coordinate_descent(\n"
     ]
    },
    {
     "name": "stdout",
     "output_type": "stream",
     "text": [
      "[CV 2/5] END model__alpha=11.599999999999994;, score=-695330570.643 total time=   0.2s\n",
      "[CV 3/5] END model__alpha=11.599999999999994;, score=-602433471.205 total time=   0.2s\n"
     ]
    },
    {
     "name": "stderr",
     "output_type": "stream",
     "text": [
      "/Users/viloavila/opt/anaconda3/lib/python3.9/site-packages/sklearn/linear_model/_coordinate_descent.py:530: ConvergenceWarning: Objective did not converge. You might want to increase the number of iterations. Duality gap: 1222712226.0568848, tolerance: 797539424.6529875\n",
      "  model = cd_fast.enet_coordinate_descent(\n"
     ]
    },
    {
     "name": "stdout",
     "output_type": "stream",
     "text": [
      "[CV 4/5] END model__alpha=11.599999999999994;, score=-1623894032.259 total time=   0.2s\n",
      "[CV 5/5] END model__alpha=11.599999999999994;, score=-1674186084.118 total time=   0.2s\n"
     ]
    },
    {
     "name": "stderr",
     "output_type": "stream",
     "text": [
      "/Users/viloavila/opt/anaconda3/lib/python3.9/site-packages/sklearn/linear_model/_coordinate_descent.py:530: ConvergenceWarning: Objective did not converge. You might want to increase the number of iterations. Duality gap: 1093718540.6921387, tolerance: 823890400.1556158\n",
      "  model = cd_fast.enet_coordinate_descent(\n",
      "/Users/viloavila/opt/anaconda3/lib/python3.9/site-packages/sklearn/linear_model/_coordinate_descent.py:530: ConvergenceWarning: Objective did not converge. You might want to increase the number of iterations. Duality gap: 959538488.7995605, tolerance: 851324810.643811\n",
      "  model = cd_fast.enet_coordinate_descent(\n"
     ]
    },
    {
     "name": "stdout",
     "output_type": "stream",
     "text": [
      "[CV 1/5] END model__alpha=11.799999999999994;, score=-572542134.057 total time=   0.2s\n",
      "[CV 2/5] END model__alpha=11.799999999999994;, score=-695223040.155 total time=   0.2s\n",
      "[CV 3/5] END model__alpha=11.799999999999994;, score=-602387735.393 total time=   0.2s\n",
      "[CV 4/5] END model__alpha=11.799999999999994;, score=-1623424228.064 total time=   0.2s\n"
     ]
    },
    {
     "name": "stderr",
     "output_type": "stream",
     "text": [
      "/Users/viloavila/opt/anaconda3/lib/python3.9/site-packages/sklearn/linear_model/_coordinate_descent.py:530: ConvergenceWarning: Objective did not converge. You might want to increase the number of iterations. Duality gap: 1199851264.1878052, tolerance: 797539424.6529875\n",
      "  model = cd_fast.enet_coordinate_descent(\n"
     ]
    },
    {
     "name": "stdout",
     "output_type": "stream",
     "text": [
      "[CV 5/5] END model__alpha=11.799999999999994;, score=-1673170550.613 total time=   0.2s\n",
      "[CV 1/5] END model__alpha=11.999999999999993;, score=-572467463.922 total time=   0.2s\n"
     ]
    },
    {
     "name": "stderr",
     "output_type": "stream",
     "text": [
      "/Users/viloavila/opt/anaconda3/lib/python3.9/site-packages/sklearn/linear_model/_coordinate_descent.py:530: ConvergenceWarning: Objective did not converge. You might want to increase the number of iterations. Duality gap: 1098734652.3754883, tolerance: 823890400.1556158\n",
      "  model = cd_fast.enet_coordinate_descent(\n",
      "/Users/viloavila/opt/anaconda3/lib/python3.9/site-packages/sklearn/linear_model/_coordinate_descent.py:530: ConvergenceWarning: Objective did not converge. You might want to increase the number of iterations. Duality gap: 964026868.9585571, tolerance: 851324810.643811\n",
      "  model = cd_fast.enet_coordinate_descent(\n"
     ]
    },
    {
     "name": "stdout",
     "output_type": "stream",
     "text": [
      "[CV 2/5] END model__alpha=11.999999999999993;, score=-695115837.571 total time=   0.2s\n",
      "[CV 3/5] END model__alpha=11.999999999999993;, score=-602338290.542 total time=   0.2s\n"
     ]
    },
    {
     "name": "stderr",
     "output_type": "stream",
     "text": [
      "/Users/viloavila/opt/anaconda3/lib/python3.9/site-packages/sklearn/linear_model/_coordinate_descent.py:530: ConvergenceWarning: Objective did not converge. You might want to increase the number of iterations. Duality gap: 1206336732.3548584, tolerance: 797539424.6529875\n",
      "  model = cd_fast.enet_coordinate_descent(\n"
     ]
    },
    {
     "name": "stdout",
     "output_type": "stream",
     "text": [
      "[CV 4/5] END model__alpha=11.999999999999993;, score=-1622931953.611 total time=   0.2s\n",
      "[CV 5/5] END model__alpha=11.999999999999993;, score=-1672155496.907 total time=   0.2s\n"
     ]
    },
    {
     "name": "stderr",
     "output_type": "stream",
     "text": [
      "/Users/viloavila/opt/anaconda3/lib/python3.9/site-packages/sklearn/linear_model/_coordinate_descent.py:530: ConvergenceWarning: Objective did not converge. You might want to increase the number of iterations. Duality gap: 1104022612.1785889, tolerance: 823890400.1556158\n",
      "  model = cd_fast.enet_coordinate_descent(\n",
      "/Users/viloavila/opt/anaconda3/lib/python3.9/site-packages/sklearn/linear_model/_coordinate_descent.py:530: ConvergenceWarning: Objective did not converge. You might want to increase the number of iterations. Duality gap: 940411295.8912354, tolerance: 851324810.643811\n",
      "  model = cd_fast.enet_coordinate_descent(\n"
     ]
    },
    {
     "name": "stdout",
     "output_type": "stream",
     "text": [
      "[CV 1/5] END model__alpha=12.199999999999992;, score=-572393087.215 total time=   0.2s\n",
      "[CV 2/5] END model__alpha=12.199999999999992;, score=-695017990.769 total time=   0.2s\n",
      "[CV 3/5] END model__alpha=12.199999999999992;, score=-602289985.738 total time=   0.2s\n",
      "[CV 4/5] END model__alpha=12.199999999999992;, score=-1622458323.296 total time=   0.2s\n"
     ]
    },
    {
     "name": "stderr",
     "output_type": "stream",
     "text": [
      "/Users/viloavila/opt/anaconda3/lib/python3.9/site-packages/sklearn/linear_model/_coordinate_descent.py:530: ConvergenceWarning: Objective did not converge. You might want to increase the number of iterations. Duality gap: 1212841793.1365967, tolerance: 797539424.6529875\n",
      "  model = cd_fast.enet_coordinate_descent(\n"
     ]
    },
    {
     "name": "stdout",
     "output_type": "stream",
     "text": [
      "[CV 5/5] END model__alpha=12.199999999999992;, score=-1671140777.511 total time=   0.2s\n",
      "[CV 1/5] END model__alpha=12.399999999999991;, score=-572318999.445 total time=   0.2s\n"
     ]
    },
    {
     "name": "stderr",
     "output_type": "stream",
     "text": [
      "/Users/viloavila/opt/anaconda3/lib/python3.9/site-packages/sklearn/linear_model/_coordinate_descent.py:530: ConvergenceWarning: Objective did not converge. You might want to increase the number of iterations. Duality gap: 1109439378.683838, tolerance: 823890400.1556158\n",
      "  model = cd_fast.enet_coordinate_descent(\n",
      "/Users/viloavila/opt/anaconda3/lib/python3.9/site-packages/sklearn/linear_model/_coordinate_descent.py:530: ConvergenceWarning: Objective did not converge. You might want to increase the number of iterations. Duality gap: 978676351.9594727, tolerance: 851324810.643811\n",
      "  model = cd_fast.enet_coordinate_descent(\n"
     ]
    },
    {
     "name": "stdout",
     "output_type": "stream",
     "text": [
      "[CV 2/5] END model__alpha=12.399999999999991;, score=-694915795.577 total time=   0.2s\n",
      "[CV 3/5] END model__alpha=12.399999999999991;, score=-602241911.820 total time=   0.2s\n"
     ]
    },
    {
     "name": "stderr",
     "output_type": "stream",
     "text": [
      "/Users/viloavila/opt/anaconda3/lib/python3.9/site-packages/sklearn/linear_model/_coordinate_descent.py:530: ConvergenceWarning: Objective did not converge. You might want to increase the number of iterations. Duality gap: 1219285872.7981567, tolerance: 797539424.6529875\n",
      "  model = cd_fast.enet_coordinate_descent(\n"
     ]
    },
    {
     "name": "stdout",
     "output_type": "stream",
     "text": [
      "[CV 4/5] END model__alpha=12.399999999999991;, score=-1622048283.945 total time=   0.2s\n",
      "[CV 5/5] END model__alpha=12.399999999999991;, score=-1670126117.749 total time=   0.2s\n"
     ]
    },
    {
     "name": "stderr",
     "output_type": "stream",
     "text": [
      "/Users/viloavila/opt/anaconda3/lib/python3.9/site-packages/sklearn/linear_model/_coordinate_descent.py:530: ConvergenceWarning: Objective did not converge. You might want to increase the number of iterations. Duality gap: 1114835724.3077393, tolerance: 823890400.1556158\n",
      "  model = cd_fast.enet_coordinate_descent(\n",
      "/Users/viloavila/opt/anaconda3/lib/python3.9/site-packages/sklearn/linear_model/_coordinate_descent.py:530: ConvergenceWarning: Objective did not converge. You might want to increase the number of iterations. Duality gap: 976723029.2741089, tolerance: 851324810.643811\n",
      "  model = cd_fast.enet_coordinate_descent(\n"
     ]
    },
    {
     "name": "stdout",
     "output_type": "stream",
     "text": [
      "[CV 1/5] END model__alpha=12.59999999999999;, score=-572245205.632 total time=   0.2s\n",
      "[CV 2/5] END model__alpha=12.59999999999999;, score=-694810087.167 total time=   0.2s\n",
      "[CV 3/5] END model__alpha=12.59999999999999;, score=-602196980.938 total time=   0.2s\n",
      "[CV 4/5] END model__alpha=12.59999999999999;, score=-1621647324.197 total time=   0.2s\n"
     ]
    },
    {
     "name": "stderr",
     "output_type": "stream",
     "text": [
      "/Users/viloavila/opt/anaconda3/lib/python3.9/site-packages/sklearn/linear_model/_coordinate_descent.py:530: ConvergenceWarning: Objective did not converge. You might want to increase the number of iterations. Duality gap: 1225694022.4300537, tolerance: 797539424.6529875\n",
      "  model = cd_fast.enet_coordinate_descent(\n"
     ]
    },
    {
     "name": "stdout",
     "output_type": "stream",
     "text": [
      "[CV 5/5] END model__alpha=12.59999999999999;, score=-1669111231.855 total time=   0.2s\n",
      "[CV 1/5] END model__alpha=12.79999999999999;, score=-572171700.718 total time=   0.2s\n"
     ]
    },
    {
     "name": "stderr",
     "output_type": "stream",
     "text": [
      "/Users/viloavila/opt/anaconda3/lib/python3.9/site-packages/sklearn/linear_model/_coordinate_descent.py:530: ConvergenceWarning: Objective did not converge. You might want to increase the number of iterations. Duality gap: 1120172404.0430908, tolerance: 823890400.1556158\n",
      "  model = cd_fast.enet_coordinate_descent(\n",
      "/Users/viloavila/opt/anaconda3/lib/python3.9/site-packages/sklearn/linear_model/_coordinate_descent.py:530: ConvergenceWarning: Objective did not converge. You might want to increase the number of iterations. Duality gap: 979421583.7402954, tolerance: 851324810.643811\n",
      "  model = cd_fast.enet_coordinate_descent(\n"
     ]
    },
    {
     "name": "stdout",
     "output_type": "stream",
     "text": [
      "[CV 2/5] END model__alpha=12.79999999999999;, score=-694704924.826 total time=   0.2s\n",
      "[CV 3/5] END model__alpha=12.79999999999999;, score=-602158890.241 total time=   0.2s\n"
     ]
    },
    {
     "name": "stderr",
     "output_type": "stream",
     "text": [
      "/Users/viloavila/opt/anaconda3/lib/python3.9/site-packages/sklearn/linear_model/_coordinate_descent.py:530: ConvergenceWarning: Objective did not converge. You might want to increase the number of iterations. Duality gap: 1232060751.2365723, tolerance: 797539424.6529875\n",
      "  model = cd_fast.enet_coordinate_descent(\n"
     ]
    },
    {
     "name": "stdout",
     "output_type": "stream",
     "text": [
      "[CV 4/5] END model__alpha=12.79999999999999;, score=-1621246754.375 total time=   0.2s\n",
      "[CV 5/5] END model__alpha=12.79999999999999;, score=-1668096880.992 total time=   0.2s\n"
     ]
    },
    {
     "name": "stderr",
     "output_type": "stream",
     "text": [
      "/Users/viloavila/opt/anaconda3/lib/python3.9/site-packages/sklearn/linear_model/_coordinate_descent.py:530: ConvergenceWarning: Objective did not converge. You might want to increase the number of iterations. Duality gap: 1125446279.1088867, tolerance: 823890400.1556158\n",
      "  model = cd_fast.enet_coordinate_descent(\n",
      "/Users/viloavila/opt/anaconda3/lib/python3.9/site-packages/sklearn/linear_model/_coordinate_descent.py:530: ConvergenceWarning: Objective did not converge. You might want to increase the number of iterations. Duality gap: 984187657.2345581, tolerance: 851324810.643811\n",
      "  model = cd_fast.enet_coordinate_descent(\n"
     ]
    },
    {
     "name": "stdout",
     "output_type": "stream",
     "text": [
      "[CV 1/5] END model__alpha=12.99999999999999;, score=-572098480.337 total time=   0.2s\n",
      "[CV 2/5] END model__alpha=12.99999999999999;, score=-694600618.788 total time=   0.2s\n",
      "[CV 3/5] END model__alpha=12.99999999999999;, score=-602121900.958 total time=   0.2s\n",
      "[CV 4/5] END model__alpha=12.99999999999999;, score=-1620846724.726 total time=   0.2s\n"
     ]
    },
    {
     "name": "stderr",
     "output_type": "stream",
     "text": [
      "/Users/viloavila/opt/anaconda3/lib/python3.9/site-packages/sklearn/linear_model/_coordinate_descent.py:530: ConvergenceWarning: Objective did not converge. You might want to increase the number of iterations. Duality gap: 1238390191.7061157, tolerance: 797539424.6529875\n",
      "  model = cd_fast.enet_coordinate_descent(\n"
     ]
    },
    {
     "name": "stdout",
     "output_type": "stream",
     "text": [
      "[CV 5/5] END model__alpha=12.99999999999999;, score=-1667082145.741 total time=   0.2s\n",
      "[CV 1/5] END model__alpha=13.199999999999989;, score=-572025542.122 total time=   0.2s\n"
     ]
    },
    {
     "name": "stderr",
     "output_type": "stream",
     "text": [
      "/Users/viloavila/opt/anaconda3/lib/python3.9/site-packages/sklearn/linear_model/_coordinate_descent.py:530: ConvergenceWarning: Objective did not converge. You might want to increase the number of iterations. Duality gap: 1130652793.7312012, tolerance: 823890400.1556158\n",
      "  model = cd_fast.enet_coordinate_descent(\n",
      "/Users/viloavila/opt/anaconda3/lib/python3.9/site-packages/sklearn/linear_model/_coordinate_descent.py:530: ConvergenceWarning: Objective did not converge. You might want to increase the number of iterations. Duality gap: 989040664.8265381, tolerance: 851324810.643811\n",
      "  model = cd_fast.enet_coordinate_descent(\n"
     ]
    },
    {
     "name": "stdout",
     "output_type": "stream",
     "text": [
      "[CV 2/5] END model__alpha=13.199999999999989;, score=-694497297.106 total time=   0.2s\n",
      "[CV 3/5] END model__alpha=13.199999999999989;, score=-602079761.589 total time=   0.2s\n"
     ]
    },
    {
     "name": "stderr",
     "output_type": "stream",
     "text": [
      "/Users/viloavila/opt/anaconda3/lib/python3.9/site-packages/sklearn/linear_model/_coordinate_descent.py:530: ConvergenceWarning: Objective did not converge. You might want to increase the number of iterations. Duality gap: 1244675754.7110596, tolerance: 797539424.6529875\n",
      "  model = cd_fast.enet_coordinate_descent(\n"
     ]
    },
    {
     "name": "stdout",
     "output_type": "stream",
     "text": [
      "[CV 4/5] END model__alpha=13.199999999999989;, score=-1620447464.123 total time=   0.2s\n",
      "[CV 5/5] END model__alpha=13.199999999999989;, score=-1666063713.536 total time=   0.2s\n"
     ]
    },
    {
     "name": "stderr",
     "output_type": "stream",
     "text": [
      "/Users/viloavila/opt/anaconda3/lib/python3.9/site-packages/sklearn/linear_model/_coordinate_descent.py:530: ConvergenceWarning: Objective did not converge. You might want to increase the number of iterations. Duality gap: 1135763844.977417, tolerance: 823890400.1556158\n",
      "  model = cd_fast.enet_coordinate_descent(\n",
      "/Users/viloavila/opt/anaconda3/lib/python3.9/site-packages/sklearn/linear_model/_coordinate_descent.py:530: ConvergenceWarning: Objective did not converge. You might want to increase the number of iterations. Duality gap: 993691881.1775513, tolerance: 851324810.643811\n",
      "  model = cd_fast.enet_coordinate_descent(\n"
     ]
    },
    {
     "name": "stdout",
     "output_type": "stream",
     "text": [
      "[CV 1/5] END model__alpha=13.399999999999988;, score=-571952887.182 total time=   0.2s\n",
      "[CV 2/5] END model__alpha=13.399999999999988;, score=-694395077.013 total time=   0.2s\n",
      "[CV 3/5] END model__alpha=13.399999999999988;, score=-602032989.189 total time=   0.2s\n",
      "[CV 4/5] END model__alpha=13.399999999999988;, score=-1620048587.767 total time=   0.2s\n"
     ]
    },
    {
     "name": "stderr",
     "output_type": "stream",
     "text": [
      "/Users/viloavila/opt/anaconda3/lib/python3.9/site-packages/sklearn/linear_model/_coordinate_descent.py:530: ConvergenceWarning: Objective did not converge. You might want to increase the number of iterations. Duality gap: 1250920558.7943115, tolerance: 797539424.6529875\n",
      "  model = cd_fast.enet_coordinate_descent(\n"
     ]
    },
    {
     "name": "stdout",
     "output_type": "stream",
     "text": [
      "[CV 5/5] END model__alpha=13.399999999999988;, score=-1665038473.297 total time=   0.2s\n",
      "[CV 1/5] END model__alpha=13.599999999999987;, score=-571880515.112 total time=   0.2s\n"
     ]
    },
    {
     "name": "stderr",
     "output_type": "stream",
     "text": [
      "/Users/viloavila/opt/anaconda3/lib/python3.9/site-packages/sklearn/linear_model/_coordinate_descent.py:530: ConvergenceWarning: Objective did not converge. You might want to increase the number of iterations. Duality gap: 1140786131.9475098, tolerance: 823890400.1556158\n",
      "  model = cd_fast.enet_coordinate_descent(\n",
      "/Users/viloavila/opt/anaconda3/lib/python3.9/site-packages/sklearn/linear_model/_coordinate_descent.py:530: ConvergenceWarning: Objective did not converge. You might want to increase the number of iterations. Duality gap: 998286351.4125977, tolerance: 851324810.643811\n",
      "  model = cd_fast.enet_coordinate_descent(\n"
     ]
    },
    {
     "name": "stdout",
     "output_type": "stream",
     "text": [
      "[CV 2/5] END model__alpha=13.599999999999987;, score=-694293049.819 total time=   0.2s\n",
      "[CV 3/5] END model__alpha=13.599999999999987;, score=-601986700.129 total time=   0.2s\n"
     ]
    },
    {
     "name": "stderr",
     "output_type": "stream",
     "text": [
      "/Users/viloavila/opt/anaconda3/lib/python3.9/site-packages/sklearn/linear_model/_coordinate_descent.py:530: ConvergenceWarning: Objective did not converge. You might want to increase the number of iterations. Duality gap: 1257129988.2062378, tolerance: 797539424.6529875\n",
      "  model = cd_fast.enet_coordinate_descent(\n"
     ]
    },
    {
     "name": "stdout",
     "output_type": "stream",
     "text": [
      "[CV 4/5] END model__alpha=13.599999999999987;, score=-1619650114.659 total time=   0.2s\n",
      "[CV 5/5] END model__alpha=13.599999999999987;, score=-1663986983.401 total time=   0.2s\n"
     ]
    },
    {
     "name": "stderr",
     "output_type": "stream",
     "text": [
      "/Users/viloavila/opt/anaconda3/lib/python3.9/site-packages/sklearn/linear_model/_coordinate_descent.py:530: ConvergenceWarning: Objective did not converge. You might want to increase the number of iterations. Duality gap: 1145754795.7928467, tolerance: 823890400.1556158\n",
      "  model = cd_fast.enet_coordinate_descent(\n",
      "/Users/viloavila/opt/anaconda3/lib/python3.9/site-packages/sklearn/linear_model/_coordinate_descent.py:530: ConvergenceWarning: Objective did not converge. You might want to increase the number of iterations. Duality gap: 1002871297.5881348, tolerance: 851324810.643811\n",
      "  model = cd_fast.enet_coordinate_descent(\n"
     ]
    },
    {
     "name": "stdout",
     "output_type": "stream",
     "text": [
      "[CV 1/5] END model__alpha=13.799999999999986;, score=-571808422.175 total time=   0.2s\n",
      "[CV 2/5] END model__alpha=13.799999999999986;, score=-694191400.992 total time=   0.2s\n",
      "[CV 3/5] END model__alpha=13.799999999999986;, score=-601944419.068 total time=   0.2s\n",
      "[CV 4/5] END model__alpha=13.799999999999986;, score=-1619252037.280 total time=   0.2s\n"
     ]
    },
    {
     "name": "stderr",
     "output_type": "stream",
     "text": [
      "/Users/viloavila/opt/anaconda3/lib/python3.9/site-packages/sklearn/linear_model/_coordinate_descent.py:530: ConvergenceWarning: Objective did not converge. You might want to increase the number of iterations. Duality gap: 1263302588.2705688, tolerance: 797539424.6529875\n",
      "  model = cd_fast.enet_coordinate_descent(\n"
     ]
    },
    {
     "name": "stdout",
     "output_type": "stream",
     "text": [
      "[CV 5/5] END model__alpha=13.799999999999986;, score=-1662907778.934 total time=   0.2s\n",
      "[CV 1/5] END model__alpha=13.999999999999986;, score=-571736609.391 total time=   0.2s\n"
     ]
    },
    {
     "name": "stderr",
     "output_type": "stream",
     "text": [
      "/Users/viloavila/opt/anaconda3/lib/python3.9/site-packages/sklearn/linear_model/_coordinate_descent.py:530: ConvergenceWarning: Objective did not converge. You might want to increase the number of iterations. Duality gap: 1150670512.6865234, tolerance: 823890400.1556158\n",
      "  model = cd_fast.enet_coordinate_descent(\n",
      "/Users/viloavila/opt/anaconda3/lib/python3.9/site-packages/sklearn/linear_model/_coordinate_descent.py:530: ConvergenceWarning: Objective did not converge. You might want to increase the number of iterations. Duality gap: 1007484708.6797485, tolerance: 851324810.643811\n",
      "  model = cd_fast.enet_coordinate_descent(\n"
     ]
    },
    {
     "name": "stdout",
     "output_type": "stream",
     "text": [
      "[CV 2/5] END model__alpha=13.999999999999986;, score=-694090126.536 total time=   0.2s\n",
      "[CV 3/5] END model__alpha=13.999999999999986;, score=-601911650.819 total time=   0.2s\n"
     ]
    },
    {
     "name": "stderr",
     "output_type": "stream",
     "text": [
      "/Users/viloavila/opt/anaconda3/lib/python3.9/site-packages/sklearn/linear_model/_coordinate_descent.py:530: ConvergenceWarning: Objective did not converge. You might want to increase the number of iterations. Duality gap: 1269438486.2011108, tolerance: 797539424.6529875\n",
      "  model = cd_fast.enet_coordinate_descent(\n"
     ]
    },
    {
     "name": "stdout",
     "output_type": "stream",
     "text": [
      "[CV 4/5] END model__alpha=13.999999999999986;, score=-1618854352.759 total time=   0.2s\n",
      "[CV 5/5] END model__alpha=13.999999999999986;, score=-1661829387.033 total time=   0.2s\n"
     ]
    },
    {
     "name": "stderr",
     "output_type": "stream",
     "text": [
      "/Users/viloavila/opt/anaconda3/lib/python3.9/site-packages/sklearn/linear_model/_coordinate_descent.py:530: ConvergenceWarning: Objective did not converge. You might want to increase the number of iterations. Duality gap: 1155526330.730713, tolerance: 823890400.1556158\n",
      "  model = cd_fast.enet_coordinate_descent(\n",
      "/Users/viloavila/opt/anaconda3/lib/python3.9/site-packages/sklearn/linear_model/_coordinate_descent.py:530: ConvergenceWarning: Objective did not converge. You might want to increase the number of iterations. Duality gap: 1012099011.661377, tolerance: 851324810.643811\n",
      "  model = cd_fast.enet_coordinate_descent(\n"
     ]
    },
    {
     "name": "stdout",
     "output_type": "stream",
     "text": [
      "[CV 1/5] END model__alpha=14.199999999999985;, score=-571665079.710 total time=   0.2s\n",
      "[CV 2/5] END model__alpha=14.199999999999985;, score=-693989203.720 total time=   0.2s\n",
      "[CV 3/5] END model__alpha=14.199999999999985;, score=-601879787.727 total time=   0.2s\n",
      "[CV 4/5] END model__alpha=14.199999999999985;, score=-1618457061.159 total time=   0.2s\n"
     ]
    },
    {
     "name": "stderr",
     "output_type": "stream",
     "text": [
      "/Users/viloavila/opt/anaconda3/lib/python3.9/site-packages/sklearn/linear_model/_coordinate_descent.py:530: ConvergenceWarning: Objective did not converge. You might want to increase the number of iterations. Duality gap: 1275537889.7526245, tolerance: 797539424.6529875\n",
      "  model = cd_fast.enet_coordinate_descent(\n"
     ]
    },
    {
     "name": "stdout",
     "output_type": "stream",
     "text": [
      "[CV 5/5] END model__alpha=14.199999999999985;, score=-1660746958.080 total time=   0.2s\n",
      "[CV 1/5] END model__alpha=14.399999999999984;, score=-571593840.159 total time=   0.2s\n"
     ]
    },
    {
     "name": "stderr",
     "output_type": "stream",
     "text": [
      "/Users/viloavila/opt/anaconda3/lib/python3.9/site-packages/sklearn/linear_model/_coordinate_descent.py:530: ConvergenceWarning: Objective did not converge. You might want to increase the number of iterations. Duality gap: 1160298781.3709717, tolerance: 823890400.1556158\n",
      "  model = cd_fast.enet_coordinate_descent(\n",
      "/Users/viloavila/opt/anaconda3/lib/python3.9/site-packages/sklearn/linear_model/_coordinate_descent.py:530: ConvergenceWarning: Objective did not converge. You might want to increase the number of iterations. Duality gap: 1016694983.2445068, tolerance: 851324810.643811\n",
      "  model = cd_fast.enet_coordinate_descent(\n"
     ]
    },
    {
     "name": "stdout",
     "output_type": "stream",
     "text": [
      "[CV 2/5] END model__alpha=14.399999999999984;, score=-693888596.239 total time=   0.2s\n",
      "[CV 3/5] END model__alpha=14.399999999999984;, score=-601848541.159 total time=   0.2s\n"
     ]
    },
    {
     "name": "stderr",
     "output_type": "stream",
     "text": [
      "/Users/viloavila/opt/anaconda3/lib/python3.9/site-packages/sklearn/linear_model/_coordinate_descent.py:530: ConvergenceWarning: Objective did not converge. You might want to increase the number of iterations. Duality gap: 1281600215.527893, tolerance: 797539424.6529875\n",
      "  model = cd_fast.enet_coordinate_descent(\n"
     ]
    },
    {
     "name": "stdout",
     "output_type": "stream",
     "text": [
      "[CV 4/5] END model__alpha=14.399999999999984;, score=-1618060163.389 total time=   0.2s\n",
      "[CV 5/5] END model__alpha=14.399999999999984;, score=-1659667736.544 total time=   0.2s\n"
     ]
    },
    {
     "name": "stderr",
     "output_type": "stream",
     "text": [
      "/Users/viloavila/opt/anaconda3/lib/python3.9/site-packages/sklearn/linear_model/_coordinate_descent.py:530: ConvergenceWarning: Objective did not converge. You might want to increase the number of iterations. Duality gap: 1164994431.3061523, tolerance: 823890400.1556158\n",
      "  model = cd_fast.enet_coordinate_descent(\n",
      "/Users/viloavila/opt/anaconda3/lib/python3.9/site-packages/sklearn/linear_model/_coordinate_descent.py:530: ConvergenceWarning: Objective did not converge. You might want to increase the number of iterations. Duality gap: 1021277171.7030029, tolerance: 851324810.643811\n",
      "  model = cd_fast.enet_coordinate_descent(\n"
     ]
    },
    {
     "name": "stdout",
     "output_type": "stream",
     "text": [
      "[CV 1/5] END model__alpha=14.599999999999984;, score=-571522902.396 total time=   0.2s\n",
      "[CV 2/5] END model__alpha=14.599999999999984;, score=-693788244.293 total time=   0.2s\n",
      "[CV 3/5] END model__alpha=14.599999999999984;, score=-601817460.514 total time=   0.2s\n",
      "[CV 4/5] END model__alpha=14.599999999999984;, score=-1617663659.280 total time=   0.2s\n"
     ]
    },
    {
     "name": "stderr",
     "output_type": "stream",
     "text": [
      "/Users/viloavila/opt/anaconda3/lib/python3.9/site-packages/sklearn/linear_model/_coordinate_descent.py:530: ConvergenceWarning: Objective did not converge. You might want to increase the number of iterations. Duality gap: 1287626117.8461914, tolerance: 797539424.6529875\n",
      "  model = cd_fast.enet_coordinate_descent(\n"
     ]
    },
    {
     "name": "stdout",
     "output_type": "stream",
     "text": [
      "[CV 5/5] END model__alpha=14.599999999999984;, score=-1658589620.379 total time=   0.2s\n",
      "[CV 1/5] END model__alpha=14.799999999999983;, score=-571452307.369 total time=   0.2s\n"
     ]
    },
    {
     "name": "stderr",
     "output_type": "stream",
     "text": [
      "/Users/viloavila/opt/anaconda3/lib/python3.9/site-packages/sklearn/linear_model/_coordinate_descent.py:530: ConvergenceWarning: Objective did not converge. You might want to increase the number of iterations. Duality gap: 1169601174.9519043, tolerance: 823890400.1556158\n",
      "  model = cd_fast.enet_coordinate_descent(\n",
      "/Users/viloavila/opt/anaconda3/lib/python3.9/site-packages/sklearn/linear_model/_coordinate_descent.py:530: ConvergenceWarning: Objective did not converge. You might want to increase the number of iterations. Duality gap: 1025991889.4157104, tolerance: 851324810.643811\n",
      "  model = cd_fast.enet_coordinate_descent(\n"
     ]
    },
    {
     "name": "stdout",
     "output_type": "stream",
     "text": [
      "[CV 2/5] END model__alpha=14.799999999999983;, score=-693687325.242 total time=   0.2s\n",
      "[CV 3/5] END model__alpha=14.799999999999983;, score=-601785859.563 total time=   0.2s\n"
     ]
    },
    {
     "name": "stderr",
     "output_type": "stream",
     "text": [
      "/Users/viloavila/opt/anaconda3/lib/python3.9/site-packages/sklearn/linear_model/_coordinate_descent.py:530: ConvergenceWarning: Objective did not converge. You might want to increase the number of iterations. Duality gap: 1293614706.0534058, tolerance: 797539424.6529875\n",
      "  model = cd_fast.enet_coordinate_descent(\n"
     ]
    },
    {
     "name": "stdout",
     "output_type": "stream",
     "text": [
      "[CV 4/5] END model__alpha=14.799999999999983;, score=-1617264488.799 total time=   0.2s\n",
      "[CV 5/5] END model__alpha=14.799999999999983;, score=-1657512818.500 total time=   0.2s\n"
     ]
    },
    {
     "name": "stderr",
     "output_type": "stream",
     "text": [
      "/Users/viloavila/opt/anaconda3/lib/python3.9/site-packages/sklearn/linear_model/_coordinate_descent.py:530: ConvergenceWarning: Objective did not converge. You might want to increase the number of iterations. Duality gap: 1173777967.190796, tolerance: 823890400.1556158\n",
      "  model = cd_fast.enet_coordinate_descent(\n",
      "/Users/viloavila/opt/anaconda3/lib/python3.9/site-packages/sklearn/linear_model/_coordinate_descent.py:530: ConvergenceWarning: Objective did not converge. You might want to increase the number of iterations. Duality gap: 1031110320.989624, tolerance: 851324810.643811\n",
      "  model = cd_fast.enet_coordinate_descent(\n"
     ]
    },
    {
     "name": "stdout",
     "output_type": "stream",
     "text": [
      "[CV 1/5] END model__alpha=14.999999999999982;, score=-571375806.043 total time=   0.2s\n",
      "[CV 2/5] END model__alpha=14.999999999999982;, score=-693585291.291 total time=   0.2s\n",
      "[CV 3/5] END model__alpha=14.999999999999982;, score=-601754232.006 total time=   0.2s\n",
      "[CV 4/5] END model__alpha=14.999999999999982;, score=-1616880438.620 total time=   0.2s\n"
     ]
    },
    {
     "name": "stderr",
     "output_type": "stream",
     "text": [
      "/Users/viloavila/opt/anaconda3/lib/python3.9/site-packages/sklearn/linear_model/_coordinate_descent.py:530: ConvergenceWarning: Objective did not converge. You might want to increase the number of iterations. Duality gap: 1299570691.6826782, tolerance: 797539424.6529875\n",
      "  model = cd_fast.enet_coordinate_descent(\n"
     ]
    },
    {
     "name": "stdout",
     "output_type": "stream",
     "text": [
      "[CV 5/5] END model__alpha=14.999999999999982;, score=-1656436904.775 total time=   0.2s\n",
      "[CV 1/5] END model__alpha=15.199999999999982;, score=-571284375.496 total time=   0.2s\n"
     ]
    },
    {
     "name": "stderr",
     "output_type": "stream",
     "text": [
      "/Users/viloavila/opt/anaconda3/lib/python3.9/site-packages/sklearn/linear_model/_coordinate_descent.py:530: ConvergenceWarning: Objective did not converge. You might want to increase the number of iterations. Duality gap: 1178366027.5274658, tolerance: 823890400.1556158\n",
      "  model = cd_fast.enet_coordinate_descent(\n",
      "/Users/viloavila/opt/anaconda3/lib/python3.9/site-packages/sklearn/linear_model/_coordinate_descent.py:530: ConvergenceWarning: Objective did not converge. You might want to increase the number of iterations. Duality gap: 1035070383.8015137, tolerance: 851324810.643811\n",
      "  model = cd_fast.enet_coordinate_descent(\n"
     ]
    },
    {
     "name": "stdout",
     "output_type": "stream",
     "text": [
      "[CV 2/5] END model__alpha=15.199999999999982;, score=-693483546.970 total time=   0.2s\n",
      "[CV 3/5] END model__alpha=15.199999999999982;, score=-601722871.992 total time=   0.2s\n"
     ]
    },
    {
     "name": "stderr",
     "output_type": "stream",
     "text": [
      "/Users/viloavila/opt/anaconda3/lib/python3.9/site-packages/sklearn/linear_model/_coordinate_descent.py:530: ConvergenceWarning: Objective did not converge. You might want to increase the number of iterations. Duality gap: 1305493629.9300537, tolerance: 797539424.6529875\n",
      "  model = cd_fast.enet_coordinate_descent(\n"
     ]
    },
    {
     "name": "stdout",
     "output_type": "stream",
     "text": [
      "[CV 4/5] END model__alpha=15.199999999999982;, score=-1616508795.868 total time=   0.2s\n",
      "[CV 5/5] END model__alpha=15.199999999999982;, score=-1655361897.887 total time=   0.2s\n"
     ]
    },
    {
     "name": "stderr",
     "output_type": "stream",
     "text": [
      "/Users/viloavila/opt/anaconda3/lib/python3.9/site-packages/sklearn/linear_model/_coordinate_descent.py:530: ConvergenceWarning: Objective did not converge. You might want to increase the number of iterations. Duality gap: 1182846813.3100586, tolerance: 823890400.1556158\n",
      "  model = cd_fast.enet_coordinate_descent(\n",
      "/Users/viloavila/opt/anaconda3/lib/python3.9/site-packages/sklearn/linear_model/_coordinate_descent.py:530: ConvergenceWarning: Objective did not converge. You might want to increase the number of iterations. Duality gap: 1039411130.4452515, tolerance: 851324810.643811\n",
      "  model = cd_fast.enet_coordinate_descent(\n"
     ]
    },
    {
     "name": "stdout",
     "output_type": "stream",
     "text": [
      "[CV 1/5] END model__alpha=15.39999999999998;, score=-571195370.857 total time=   0.2s\n",
      "[CV 2/5] END model__alpha=15.39999999999998;, score=-693382365.988 total time=   0.2s\n",
      "[CV 3/5] END model__alpha=15.39999999999998;, score=-601691666.534 total time=   0.2s\n",
      "[CV 4/5] END model__alpha=15.39999999999998;, score=-1616135762.156 total time=   0.2s\n"
     ]
    },
    {
     "name": "stderr",
     "output_type": "stream",
     "text": [
      "/Users/viloavila/opt/anaconda3/lib/python3.9/site-packages/sklearn/linear_model/_coordinate_descent.py:530: ConvergenceWarning: Objective did not converge. You might want to increase the number of iterations. Duality gap: 1311374649.6638184, tolerance: 797539424.6529875\n",
      "  model = cd_fast.enet_coordinate_descent(\n"
     ]
    },
    {
     "name": "stdout",
     "output_type": "stream",
     "text": [
      "[CV 5/5] END model__alpha=15.39999999999998;, score=-1654287475.325 total time=   0.2s\n",
      "[CV 1/5] END model__alpha=15.59999999999998;, score=-571106676.444 total time=   0.2s\n"
     ]
    },
    {
     "name": "stderr",
     "output_type": "stream",
     "text": [
      "/Users/viloavila/opt/anaconda3/lib/python3.9/site-packages/sklearn/linear_model/_coordinate_descent.py:530: ConvergenceWarning: Objective did not converge. You might want to increase the number of iterations. Duality gap: 1187268465.614502, tolerance: 823890400.1556158\n",
      "  model = cd_fast.enet_coordinate_descent(\n",
      "/Users/viloavila/opt/anaconda3/lib/python3.9/site-packages/sklearn/linear_model/_coordinate_descent.py:530: ConvergenceWarning: Objective did not converge. You might want to increase the number of iterations. Duality gap: 1043722350.8162231, tolerance: 851324810.643811\n",
      "  model = cd_fast.enet_coordinate_descent(\n"
     ]
    },
    {
     "name": "stdout",
     "output_type": "stream",
     "text": [
      "[CV 2/5] END model__alpha=15.59999999999998;, score=-693281606.970 total time=   0.2s\n",
      "[CV 3/5] END model__alpha=15.59999999999998;, score=-601660170.288 total time=   0.2s\n"
     ]
    },
    {
     "name": "stderr",
     "output_type": "stream",
     "text": [
      "/Users/viloavila/opt/anaconda3/lib/python3.9/site-packages/sklearn/linear_model/_coordinate_descent.py:530: ConvergenceWarning: Objective did not converge. You might want to increase the number of iterations. Duality gap: 1317264147.5324707, tolerance: 797539424.6529875\n",
      "  model = cd_fast.enet_coordinate_descent(\n"
     ]
    },
    {
     "name": "stdout",
     "output_type": "stream",
     "text": [
      "[CV 4/5] END model__alpha=15.59999999999998;, score=-1615753332.983 total time=   0.2s\n",
      "[CV 5/5] END model__alpha=15.59999999999998;, score=-1653213862.478 total time=   0.2s\n"
     ]
    },
    {
     "name": "stderr",
     "output_type": "stream",
     "text": [
      "/Users/viloavila/opt/anaconda3/lib/python3.9/site-packages/sklearn/linear_model/_coordinate_descent.py:530: ConvergenceWarning: Objective did not converge. You might want to increase the number of iterations. Duality gap: 1191633248.5318604, tolerance: 823890400.1556158\n",
      "  model = cd_fast.enet_coordinate_descent(\n",
      "/Users/viloavila/opt/anaconda3/lib/python3.9/site-packages/sklearn/linear_model/_coordinate_descent.py:530: ConvergenceWarning: Objective did not converge. You might want to increase the number of iterations. Duality gap: 1048003486.3248901, tolerance: 851324810.643811\n",
      "  model = cd_fast.enet_coordinate_descent(\n"
     ]
    },
    {
     "name": "stdout",
     "output_type": "stream",
     "text": [
      "[CV 1/5] END model__alpha=15.79999999999998;, score=-571018277.851 total time=   0.2s\n",
      "[CV 2/5] END model__alpha=15.79999999999998;, score=-693181277.916 total time=   0.2s\n",
      "[CV 3/5] END model__alpha=15.79999999999998;, score=-601629633.746 total time=   0.2s\n",
      "[CV 4/5] END model__alpha=15.79999999999998;, score=-1615371309.308 total time=   0.2s\n"
     ]
    },
    {
     "name": "stderr",
     "output_type": "stream",
     "text": [
      "/Users/viloavila/opt/anaconda3/lib/python3.9/site-packages/sklearn/linear_model/_coordinate_descent.py:530: ConvergenceWarning: Objective did not converge. You might want to increase the number of iterations. Duality gap: 1323124203.1013794, tolerance: 797539424.6529875\n",
      "  model = cd_fast.enet_coordinate_descent(\n"
     ]
    },
    {
     "name": "stdout",
     "output_type": "stream",
     "text": [
      "[CV 5/5] END model__alpha=15.79999999999998;, score=-1652141093.207 total time=   0.2s\n",
      "[CV 1/5] END model__alpha=15.999999999999979;, score=-570930175.733 total time=   0.2s\n"
     ]
    },
    {
     "name": "stderr",
     "output_type": "stream",
     "text": [
      "/Users/viloavila/opt/anaconda3/lib/python3.9/site-packages/sklearn/linear_model/_coordinate_descent.py:530: ConvergenceWarning: Objective did not converge. You might want to increase the number of iterations. Duality gap: 1195939745.0898438, tolerance: 823890400.1556158\n",
      "  model = cd_fast.enet_coordinate_descent(\n",
      "/Users/viloavila/opt/anaconda3/lib/python3.9/site-packages/sklearn/linear_model/_coordinate_descent.py:530: ConvergenceWarning: Objective did not converge. You might want to increase the number of iterations. Duality gap: 1052238734.5217285, tolerance: 851324810.643811\n",
      "  model = cd_fast.enet_coordinate_descent(\n"
     ]
    },
    {
     "name": "stdout",
     "output_type": "stream",
     "text": [
      "[CV 2/5] END model__alpha=15.999999999999979;, score=-693081434.997 total time=   0.2s\n",
      "[CV 3/5] END model__alpha=15.999999999999979;, score=-601599996.494 total time=   0.2s\n"
     ]
    },
    {
     "name": "stderr",
     "output_type": "stream",
     "text": [
      "/Users/viloavila/opt/anaconda3/lib/python3.9/site-packages/sklearn/linear_model/_coordinate_descent.py:530: ConvergenceWarning: Objective did not converge. You might want to increase the number of iterations. Duality gap: 1328834287.0760498, tolerance: 797539424.6529875\n",
      "  model = cd_fast.enet_coordinate_descent(\n"
     ]
    },
    {
     "name": "stdout",
     "output_type": "stream",
     "text": [
      "[CV 4/5] END model__alpha=15.999999999999979;, score=-1614985998.043 total time=   0.2s\n",
      "[CV 5/5] END model__alpha=15.999999999999979;, score=-1651069069.114 total time=   0.2s\n"
     ]
    },
    {
     "name": "stderr",
     "output_type": "stream",
     "text": [
      "/Users/viloavila/opt/anaconda3/lib/python3.9/site-packages/sklearn/linear_model/_coordinate_descent.py:530: ConvergenceWarning: Objective did not converge. You might want to increase the number of iterations. Duality gap: 1200194865.874878, tolerance: 823890400.1556158\n",
      "  model = cd_fast.enet_coordinate_descent(\n",
      "/Users/viloavila/opt/anaconda3/lib/python3.9/site-packages/sklearn/linear_model/_coordinate_descent.py:530: ConvergenceWarning: Objective did not converge. You might want to increase the number of iterations. Duality gap: 1056452551.1014404, tolerance: 851324810.643811\n",
      "  model = cd_fast.enet_coordinate_descent(\n"
     ]
    },
    {
     "name": "stdout",
     "output_type": "stream",
     "text": [
      "[CV 1/5] END model__alpha=16.199999999999978;, score=-570842369.151 total time=   0.2s\n",
      "[CV 2/5] END model__alpha=16.199999999999978;, score=-692983459.028 total time=   0.2s\n",
      "[CV 3/5] END model__alpha=16.199999999999978;, score=-601573371.065 total time=   0.2s\n",
      "[CV 4/5] END model__alpha=16.199999999999978;, score=-1614551248.340 total time=   0.2s\n"
     ]
    },
    {
     "name": "stderr",
     "output_type": "stream",
     "text": [
      "/Users/viloavila/opt/anaconda3/lib/python3.9/site-packages/sklearn/linear_model/_coordinate_descent.py:530: ConvergenceWarning: Objective did not converge. You might want to increase the number of iterations. Duality gap: 1334280364.5862427, tolerance: 797539424.6529875\n",
      "  model = cd_fast.enet_coordinate_descent(\n"
     ]
    },
    {
     "name": "stdout",
     "output_type": "stream",
     "text": [
      "[CV 5/5] END model__alpha=16.199999999999978;, score=-1649998508.810 total time=   0.2s\n",
      "[CV 1/5] END model__alpha=16.399999999999977;, score=-570755420.032 total time=   0.2s\n"
     ]
    },
    {
     "name": "stderr",
     "output_type": "stream",
     "text": [
      "/Users/viloavila/opt/anaconda3/lib/python3.9/site-packages/sklearn/linear_model/_coordinate_descent.py:530: ConvergenceWarning: Objective did not converge. You might want to increase the number of iterations. Duality gap: 1204404979.4326172, tolerance: 823890400.1556158\n",
      "  model = cd_fast.enet_coordinate_descent(\n",
      "/Users/viloavila/opt/anaconda3/lib/python3.9/site-packages/sklearn/linear_model/_coordinate_descent.py:530: ConvergenceWarning: Objective did not converge. You might want to increase the number of iterations. Duality gap: 1060394114.6733398, tolerance: 851324810.643811\n",
      "  model = cd_fast.enet_coordinate_descent(\n"
     ]
    },
    {
     "name": "stdout",
     "output_type": "stream",
     "text": [
      "[CV 2/5] END model__alpha=16.399999999999977;, score=-692883910.842 total time=   0.2s\n",
      "[CV 3/5] END model__alpha=16.399999999999977;, score=-601549012.804 total time=   0.2s\n"
     ]
    },
    {
     "name": "stderr",
     "output_type": "stream",
     "text": [
      "/Users/viloavila/opt/anaconda3/lib/python3.9/site-packages/sklearn/linear_model/_coordinate_descent.py:530: ConvergenceWarning: Objective did not converge. You might want to increase the number of iterations. Duality gap: 1339620630.835022, tolerance: 797539424.6529875\n",
      "  model = cd_fast.enet_coordinate_descent(\n"
     ]
    },
    {
     "name": "stdout",
     "output_type": "stream",
     "text": [
      "[CV 4/5] END model__alpha=16.399999999999977;, score=-1614114754.048 total time=   0.2s\n",
      "[CV 5/5] END model__alpha=16.399999999999977;, score=-1648928331.818 total time=   0.2s\n"
     ]
    },
    {
     "name": "stderr",
     "output_type": "stream",
     "text": [
      "/Users/viloavila/opt/anaconda3/lib/python3.9/site-packages/sklearn/linear_model/_coordinate_descent.py:530: ConvergenceWarning: Objective did not converge. You might want to increase the number of iterations. Duality gap: 1208609993.6123047, tolerance: 823890400.1556158\n",
      "  model = cd_fast.enet_coordinate_descent(\n",
      "/Users/viloavila/opt/anaconda3/lib/python3.9/site-packages/sklearn/linear_model/_coordinate_descent.py:530: ConvergenceWarning: Objective did not converge. You might want to increase the number of iterations. Duality gap: 1064678833.2848511, tolerance: 851324810.643811\n",
      "  model = cd_fast.enet_coordinate_descent(\n"
     ]
    },
    {
     "name": "stdout",
     "output_type": "stream",
     "text": [
      "[CV 1/5] END model__alpha=16.599999999999977;, score=-570669389.728 total time=   0.2s\n",
      "[CV 2/5] END model__alpha=16.599999999999977;, score=-692781422.919 total time=   0.2s\n",
      "[CV 3/5] END model__alpha=16.599999999999977;, score=-601527160.995 total time=   0.2s\n",
      "[CV 4/5] END model__alpha=16.599999999999977;, score=-1613694434.975 total time=   0.2s\n"
     ]
    },
    {
     "name": "stderr",
     "output_type": "stream",
     "text": [
      "/Users/viloavila/opt/anaconda3/lib/python3.9/site-packages/sklearn/linear_model/_coordinate_descent.py:530: ConvergenceWarning: Objective did not converge. You might want to increase the number of iterations. Duality gap: 1345324158.2521973, tolerance: 797539424.6529875\n",
      "  model = cd_fast.enet_coordinate_descent(\n"
     ]
    },
    {
     "name": "stdout",
     "output_type": "stream",
     "text": [
      "[CV 5/5] END model__alpha=16.599999999999977;, score=-1647858955.027 total time=   0.2s\n",
      "[CV 1/5] END model__alpha=16.799999999999976;, score=-570583647.688 total time=   0.2s\n"
     ]
    },
    {
     "name": "stderr",
     "output_type": "stream",
     "text": [
      "/Users/viloavila/opt/anaconda3/lib/python3.9/site-packages/sklearn/linear_model/_coordinate_descent.py:530: ConvergenceWarning: Objective did not converge. You might want to increase the number of iterations. Duality gap: 1212774350.487793, tolerance: 823890400.1556158\n",
      "  model = cd_fast.enet_coordinate_descent(\n",
      "/Users/viloavila/opt/anaconda3/lib/python3.9/site-packages/sklearn/linear_model/_coordinate_descent.py:530: ConvergenceWarning: Objective did not converge. You might want to increase the number of iterations. Duality gap: 1068936644.112915, tolerance: 851324810.643811\n",
      "  model = cd_fast.enet_coordinate_descent(\n"
     ]
    },
    {
     "name": "stdout",
     "output_type": "stream",
     "text": [
      "[CV 2/5] END model__alpha=16.799999999999976;, score=-692664206.557 total time=   0.2s\n",
      "[CV 3/5] END model__alpha=16.799999999999976;, score=-601506816.118 total time=   0.2s\n"
     ]
    },
    {
     "name": "stderr",
     "output_type": "stream",
     "text": [
      "/Users/viloavila/opt/anaconda3/lib/python3.9/site-packages/sklearn/linear_model/_coordinate_descent.py:530: ConvergenceWarning: Objective did not converge. You might want to increase the number of iterations. Duality gap: 1351004138.6230469, tolerance: 797539424.6529875\n",
      "  model = cd_fast.enet_coordinate_descent(\n"
     ]
    },
    {
     "name": "stdout",
     "output_type": "stream",
     "text": [
      "[CV 4/5] END model__alpha=16.799999999999976;, score=-1613274616.848 total time=   0.2s\n",
      "[CV 5/5] END model__alpha=16.799999999999976;, score=-1646790426.396 total time=   0.2s\n"
     ]
    },
    {
     "name": "stderr",
     "output_type": "stream",
     "text": [
      "/Users/viloavila/opt/anaconda3/lib/python3.9/site-packages/sklearn/linear_model/_coordinate_descent.py:530: ConvergenceWarning: Objective did not converge. You might want to increase the number of iterations. Duality gap: 1216897377.8189697, tolerance: 823890400.1556158\n",
      "  model = cd_fast.enet_coordinate_descent(\n",
      "/Users/viloavila/opt/anaconda3/lib/python3.9/site-packages/sklearn/linear_model/_coordinate_descent.py:530: ConvergenceWarning: Objective did not converge. You might want to increase the number of iterations. Duality gap: 1073088984.1502075, tolerance: 851324810.643811\n",
      "  model = cd_fast.enet_coordinate_descent(\n"
     ]
    },
    {
     "name": "stdout",
     "output_type": "stream",
     "text": [
      "[CV 1/5] END model__alpha=16.999999999999975;, score=-570498193.820 total time=   0.2s\n",
      "[CV 2/5] END model__alpha=16.999999999999975;, score=-692551939.136 total time=   0.2s\n",
      "[CV 3/5] END model__alpha=16.999999999999975;, score=-601486169.726 total time=   0.2s\n",
      "[CV 4/5] END model__alpha=16.999999999999975;, score=-1612855229.349 total time=   0.2s\n"
     ]
    },
    {
     "name": "stderr",
     "output_type": "stream",
     "text": [
      "/Users/viloavila/opt/anaconda3/lib/python3.9/site-packages/sklearn/linear_model/_coordinate_descent.py:530: ConvergenceWarning: Objective did not converge. You might want to increase the number of iterations. Duality gap: 1356651964.4975586, tolerance: 797539424.6529875\n",
      "  model = cd_fast.enet_coordinate_descent(\n"
     ]
    },
    {
     "name": "stdout",
     "output_type": "stream",
     "text": [
      "[CV 5/5] END model__alpha=16.999999999999975;, score=-1645704858.278 total time=   0.2s\n",
      "[CV 1/5] END model__alpha=17.199999999999974;, score=-570413028.636 total time=   0.2s\n"
     ]
    },
    {
     "name": "stderr",
     "output_type": "stream",
     "text": [
      "/Users/viloavila/opt/anaconda3/lib/python3.9/site-packages/sklearn/linear_model/_coordinate_descent.py:530: ConvergenceWarning: Objective did not converge. You might want to increase the number of iterations. Duality gap: 1220979303.4575195, tolerance: 823890400.1556158\n",
      "  model = cd_fast.enet_coordinate_descent(\n",
      "/Users/viloavila/opt/anaconda3/lib/python3.9/site-packages/sklearn/linear_model/_coordinate_descent.py:530: ConvergenceWarning: Objective did not converge. You might want to increase the number of iterations. Duality gap: 1077204720.2636108, tolerance: 851324810.643811\n",
      "  model = cd_fast.enet_coordinate_descent(\n"
     ]
    },
    {
     "name": "stdout",
     "output_type": "stream",
     "text": [
      "[CV 2/5] END model__alpha=17.199999999999974;, score=-692440137.832 total time=   0.2s\n",
      "[CV 3/5] END model__alpha=17.199999999999974;, score=-601467253.740 total time=   0.2s\n"
     ]
    },
    {
     "name": "stderr",
     "output_type": "stream",
     "text": [
      "/Users/viloavila/opt/anaconda3/lib/python3.9/site-packages/sklearn/linear_model/_coordinate_descent.py:530: ConvergenceWarning: Objective did not converge. You might want to increase the number of iterations. Duality gap: 1362274077.1101685, tolerance: 797539424.6529875\n",
      "  model = cd_fast.enet_coordinate_descent(\n"
     ]
    },
    {
     "name": "stdout",
     "output_type": "stream",
     "text": [
      "[CV 4/5] END model__alpha=17.199999999999974;, score=-1612444093.065 total time=   0.2s\n",
      "[CV 5/5] END model__alpha=17.199999999999974;, score=-1644653778.287 total time=   0.2s\n"
     ]
    },
    {
     "name": "stderr",
     "output_type": "stream",
     "text": [
      "/Users/viloavila/opt/anaconda3/lib/python3.9/site-packages/sklearn/linear_model/_coordinate_descent.py:530: ConvergenceWarning: Objective did not converge. You might want to increase the number of iterations. Duality gap: 1225019150.8338623, tolerance: 823890400.1556158\n",
      "  model = cd_fast.enet_coordinate_descent(\n",
      "/Users/viloavila/opt/anaconda3/lib/python3.9/site-packages/sklearn/linear_model/_coordinate_descent.py:530: ConvergenceWarning: Objective did not converge. You might want to increase the number of iterations. Duality gap: 1081283650.8183594, tolerance: 851324810.643811\n",
      "  model = cd_fast.enet_coordinate_descent(\n"
     ]
    },
    {
     "name": "stdout",
     "output_type": "stream",
     "text": [
      "[CV 1/5] END model__alpha=17.399999999999974;, score=-570328165.557 total time=   0.2s\n",
      "[CV 2/5] END model__alpha=17.399999999999974;, score=-692327943.711 total time=   0.2s\n",
      "[CV 3/5] END model__alpha=17.399999999999974;, score=-601449431.335 total time=   0.2s\n",
      "[CV 4/5] END model__alpha=17.399999999999974;, score=-1612041247.107 total time=   0.2s\n"
     ]
    },
    {
     "name": "stderr",
     "output_type": "stream",
     "text": [
      "/Users/viloavila/opt/anaconda3/lib/python3.9/site-packages/sklearn/linear_model/_coordinate_descent.py:530: ConvergenceWarning: Objective did not converge. You might want to increase the number of iterations. Duality gap: 1367878807.4641724, tolerance: 797539424.6529875\n",
      "  model = cd_fast.enet_coordinate_descent(\n"
     ]
    },
    {
     "name": "stdout",
     "output_type": "stream",
     "text": [
      "[CV 5/5] END model__alpha=17.399999999999974;, score=-1643620719.773 total time=   0.2s\n",
      "[CV 1/5] END model__alpha=17.599999999999973;, score=-570250419.143 total time=   0.2s\n"
     ]
    },
    {
     "name": "stderr",
     "output_type": "stream",
     "text": [
      "/Users/viloavila/opt/anaconda3/lib/python3.9/site-packages/sklearn/linear_model/_coordinate_descent.py:530: ConvergenceWarning: Objective did not converge. You might want to increase the number of iterations. Duality gap: 1229065135.1074219, tolerance: 823890400.1556158\n",
      "  model = cd_fast.enet_coordinate_descent(\n",
      "/Users/viloavila/opt/anaconda3/lib/python3.9/site-packages/sklearn/linear_model/_coordinate_descent.py:530: ConvergenceWarning: Objective did not converge. You might want to increase the number of iterations. Duality gap: 1085961906.0361938, tolerance: 851324810.643811\n",
      "  model = cd_fast.enet_coordinate_descent(\n"
     ]
    },
    {
     "name": "stdout",
     "output_type": "stream",
     "text": [
      "[CV 2/5] END model__alpha=17.599999999999973;, score=-692214825.773 total time=   0.2s\n",
      "[CV 3/5] END model__alpha=17.599999999999973;, score=-601439097.583 total time=   0.2s\n"
     ]
    },
    {
     "name": "stderr",
     "output_type": "stream",
     "text": [
      "/Users/viloavila/opt/anaconda3/lib/python3.9/site-packages/sklearn/linear_model/_coordinate_descent.py:530: ConvergenceWarning: Objective did not converge. You might want to increase the number of iterations. Duality gap: 1373456402.0443115, tolerance: 797539424.6529875\n",
      "  model = cd_fast.enet_coordinate_descent(\n"
     ]
    },
    {
     "name": "stdout",
     "output_type": "stream",
     "text": [
      "[CV 4/5] END model__alpha=17.599999999999973;, score=-1611638794.092 total time=   0.2s\n",
      "[CV 5/5] END model__alpha=17.599999999999973;, score=-1642546055.117 total time=   0.2s\n"
     ]
    },
    {
     "name": "stderr",
     "output_type": "stream",
     "text": [
      "/Users/viloavila/opt/anaconda3/lib/python3.9/site-packages/sklearn/linear_model/_coordinate_descent.py:530: ConvergenceWarning: Objective did not converge. You might want to increase the number of iterations. Duality gap: 1233110597.812622, tolerance: 823890400.1556158\n",
      "  model = cd_fast.enet_coordinate_descent(\n",
      "/Users/viloavila/opt/anaconda3/lib/python3.9/site-packages/sklearn/linear_model/_coordinate_descent.py:530: ConvergenceWarning: Objective did not converge. You might want to increase the number of iterations. Duality gap: 1088997277.2318726, tolerance: 851324810.643811\n",
      "  model = cd_fast.enet_coordinate_descent(\n"
     ]
    },
    {
     "name": "stdout",
     "output_type": "stream",
     "text": [
      "[CV 1/5] END model__alpha=17.799999999999972;, score=-570176023.305 total time=   0.2s\n",
      "[CV 2/5] END model__alpha=17.799999999999972;, score=-692112772.157 total time=   0.2s\n",
      "[CV 3/5] END model__alpha=17.799999999999972;, score=-601422876.337 total time=   0.2s\n",
      "[CV 4/5] END model__alpha=17.799999999999972;, score=-1611236711.000 total time=   0.2s\n"
     ]
    },
    {
     "name": "stderr",
     "output_type": "stream",
     "text": [
      "/Users/viloavila/opt/anaconda3/lib/python3.9/site-packages/sklearn/linear_model/_coordinate_descent.py:530: ConvergenceWarning: Objective did not converge. You might want to increase the number of iterations. Duality gap: 1379001881.5719604, tolerance: 797539424.6529875\n",
      "  model = cd_fast.enet_coordinate_descent(\n"
     ]
    },
    {
     "name": "stdout",
     "output_type": "stream",
     "text": [
      "[CV 5/5] END model__alpha=17.799999999999972;, score=-1641509626.712 total time=   0.2s\n",
      "[CV 1/5] END model__alpha=17.99999999999997;, score=-570102315.214 total time=   0.2s\n"
     ]
    },
    {
     "name": "stderr",
     "output_type": "stream",
     "text": [
      "/Users/viloavila/opt/anaconda3/lib/python3.9/site-packages/sklearn/linear_model/_coordinate_descent.py:530: ConvergenceWarning: Objective did not converge. You might want to increase the number of iterations. Duality gap: 1243971303.677246, tolerance: 823890400.1556158\n",
      "  model = cd_fast.enet_coordinate_descent(\n",
      "/Users/viloavila/opt/anaconda3/lib/python3.9/site-packages/sklearn/linear_model/_coordinate_descent.py:530: ConvergenceWarning: Objective did not converge. You might want to increase the number of iterations. Duality gap: 1093071383.762268, tolerance: 851324810.643811\n",
      "  model = cd_fast.enet_coordinate_descent(\n"
     ]
    },
    {
     "name": "stdout",
     "output_type": "stream",
     "text": [
      "[CV 2/5] END model__alpha=17.99999999999997;, score=-692021806.382 total time=   0.2s\n",
      "[CV 3/5] END model__alpha=17.99999999999997;, score=-601405570.730 total time=   0.2s\n"
     ]
    },
    {
     "name": "stderr",
     "output_type": "stream",
     "text": [
      "/Users/viloavila/opt/anaconda3/lib/python3.9/site-packages/sklearn/linear_model/_coordinate_descent.py:530: ConvergenceWarning: Objective did not converge. You might want to increase the number of iterations. Duality gap: 1384516160.482605, tolerance: 797539424.6529875\n",
      "  model = cd_fast.enet_coordinate_descent(\n"
     ]
    },
    {
     "name": "stdout",
     "output_type": "stream",
     "text": [
      "[CV 4/5] END model__alpha=17.99999999999997;, score=-1610835003.365 total time=   0.2s\n",
      "[CV 5/5] END model__alpha=17.99999999999997;, score=-1640492827.133 total time=   0.2s\n"
     ]
    },
    {
     "name": "stderr",
     "output_type": "stream",
     "text": [
      "/Users/viloavila/opt/anaconda3/lib/python3.9/site-packages/sklearn/linear_model/_coordinate_descent.py:530: ConvergenceWarning: Objective did not converge. You might want to increase the number of iterations. Duality gap: 1240350258.6311035, tolerance: 823890400.1556158\n",
      "  model = cd_fast.enet_coordinate_descent(\n",
      "/Users/viloavila/opt/anaconda3/lib/python3.9/site-packages/sklearn/linear_model/_coordinate_descent.py:530: ConvergenceWarning: Objective did not converge. You might want to increase the number of iterations. Duality gap: 1097098397.682434, tolerance: 851324810.643811\n",
      "  model = cd_fast.enet_coordinate_descent(\n"
     ]
    },
    {
     "name": "stdout",
     "output_type": "stream",
     "text": [
      "[CV 1/5] END model__alpha=18.19999999999997;, score=-570032161.753 total time=   0.2s\n",
      "[CV 2/5] END model__alpha=18.19999999999997;, score=-691931416.703 total time=   0.2s\n",
      "[CV 3/5] END model__alpha=18.19999999999997;, score=-601387046.969 total time=   0.2s\n",
      "[CV 4/5] END model__alpha=18.19999999999997;, score=-1610433669.662 total time=   0.2s\n"
     ]
    },
    {
     "name": "stderr",
     "output_type": "stream",
     "text": [
      "/Users/viloavila/opt/anaconda3/lib/python3.9/site-packages/sklearn/linear_model/_coordinate_descent.py:530: ConvergenceWarning: Objective did not converge. You might want to increase the number of iterations. Duality gap: 1389999335.1551514, tolerance: 797539424.6529875\n",
      "  model = cd_fast.enet_coordinate_descent(\n"
     ]
    },
    {
     "name": "stdout",
     "output_type": "stream",
     "text": [
      "[CV 5/5] END model__alpha=18.19999999999997;, score=-1639488028.253 total time=   0.2s\n",
      "[CV 1/5] END model__alpha=18.39999999999997;, score=-569958708.925 total time=   0.2s\n"
     ]
    },
    {
     "name": "stderr",
     "output_type": "stream",
     "text": [
      "/Users/viloavila/opt/anaconda3/lib/python3.9/site-packages/sklearn/linear_model/_coordinate_descent.py:530: ConvergenceWarning: Objective did not converge. You might want to increase the number of iterations. Duality gap: 1243079040.1466064, tolerance: 823890400.1556158\n",
      "  model = cd_fast.enet_coordinate_descent(\n",
      "/Users/viloavila/opt/anaconda3/lib/python3.9/site-packages/sklearn/linear_model/_coordinate_descent.py:530: ConvergenceWarning: Objective did not converge. You might want to increase the number of iterations. Duality gap: 1101078193.3294678, tolerance: 851324810.643811\n",
      "  model = cd_fast.enet_coordinate_descent(\n"
     ]
    },
    {
     "name": "stdout",
     "output_type": "stream",
     "text": [
      "[CV 2/5] END model__alpha=18.39999999999997;, score=-691841563.914 total time=   0.2s\n",
      "[CV 3/5] END model__alpha=18.39999999999997;, score=-601368841.035 total time=   0.2s\n"
     ]
    },
    {
     "name": "stderr",
     "output_type": "stream",
     "text": [
      "/Users/viloavila/opt/anaconda3/lib/python3.9/site-packages/sklearn/linear_model/_coordinate_descent.py:530: ConvergenceWarning: Objective did not converge. You might want to increase the number of iterations. Duality gap: 1395453673.5163574, tolerance: 797539424.6529875\n",
      "  model = cd_fast.enet_coordinate_descent(\n",
      "/Users/viloavila/opt/anaconda3/lib/python3.9/site-packages/sklearn/linear_model/_coordinate_descent.py:530: ConvergenceWarning: Objective did not converge. You might want to increase the number of iterations. Duality gap: 1200793920.394287, tolerance: 874706017.577294\n",
      "  model = cd_fast.enet_coordinate_descent(\n"
     ]
    },
    {
     "name": "stdout",
     "output_type": "stream",
     "text": [
      "[CV 4/5] END model__alpha=18.39999999999997;, score=-1610046035.627 total time=   0.2s\n",
      "[CV 5/5] END model__alpha=18.39999999999997;, score=-1638506053.413 total time=   0.2s\n"
     ]
    },
    {
     "name": "stderr",
     "output_type": "stream",
     "text": [
      "/Users/viloavila/opt/anaconda3/lib/python3.9/site-packages/sklearn/linear_model/_coordinate_descent.py:530: ConvergenceWarning: Objective did not converge. You might want to increase the number of iterations. Duality gap: 1243790846.9571533, tolerance: 823890400.1556158\n",
      "  model = cd_fast.enet_coordinate_descent(\n",
      "/Users/viloavila/opt/anaconda3/lib/python3.9/site-packages/sklearn/linear_model/_coordinate_descent.py:530: ConvergenceWarning: Objective did not converge. You might want to increase the number of iterations. Duality gap: 1105010495.5256958, tolerance: 851324810.643811\n",
      "  model = cd_fast.enet_coordinate_descent(\n"
     ]
    },
    {
     "name": "stdout",
     "output_type": "stream",
     "text": [
      "[CV 1/5] END model__alpha=18.59999999999997;, score=-569888605.355 total time=   0.2s\n",
      "[CV 2/5] END model__alpha=18.59999999999997;, score=-691752240.707 total time=   0.2s\n",
      "[CV 3/5] END model__alpha=18.59999999999997;, score=-601351100.958 total time=   0.2s\n",
      "[CV 4/5] END model__alpha=18.59999999999997;, score=-1609661235.822 total time=   0.2s\n"
     ]
    },
    {
     "name": "stderr",
     "output_type": "stream",
     "text": [
      "/Users/viloavila/opt/anaconda3/lib/python3.9/site-packages/sklearn/linear_model/_coordinate_descent.py:530: ConvergenceWarning: Objective did not converge. You might want to increase the number of iterations. Duality gap: 1400875816.5406494, tolerance: 797539424.6529875\n",
      "  model = cd_fast.enet_coordinate_descent(\n",
      "/Users/viloavila/opt/anaconda3/lib/python3.9/site-packages/sklearn/linear_model/_coordinate_descent.py:530: ConvergenceWarning: Objective did not converge. You might want to increase the number of iterations. Duality gap: 1244450893.5949707, tolerance: 874706017.577294\n",
      "  model = cd_fast.enet_coordinate_descent(\n"
     ]
    },
    {
     "name": "stdout",
     "output_type": "stream",
     "text": [
      "[CV 5/5] END model__alpha=18.59999999999997;, score=-1637517091.877 total time=   0.2s\n",
      "[CV 1/5] END model__alpha=18.79999999999997;, score=-569818799.500 total time=   0.2s\n"
     ]
    },
    {
     "name": "stderr",
     "output_type": "stream",
     "text": [
      "/Users/viloavila/opt/anaconda3/lib/python3.9/site-packages/sklearn/linear_model/_coordinate_descent.py:530: ConvergenceWarning: Objective did not converge. You might want to increase the number of iterations. Duality gap: 1246210897.0438232, tolerance: 823890400.1556158\n",
      "  model = cd_fast.enet_coordinate_descent(\n",
      "/Users/viloavila/opt/anaconda3/lib/python3.9/site-packages/sklearn/linear_model/_coordinate_descent.py:530: ConvergenceWarning: Objective did not converge. You might want to increase the number of iterations. Duality gap: 1108895508.382141, tolerance: 851324810.643811\n",
      "  model = cd_fast.enet_coordinate_descent(\n"
     ]
    },
    {
     "name": "stdout",
     "output_type": "stream",
     "text": [
      "[CV 2/5] END model__alpha=18.79999999999997;, score=-691663437.248 total time=   0.2s\n",
      "[CV 3/5] END model__alpha=18.79999999999997;, score=-601333636.241 total time=   0.2s\n"
     ]
    },
    {
     "name": "stderr",
     "output_type": "stream",
     "text": [
      "/Users/viloavila/opt/anaconda3/lib/python3.9/site-packages/sklearn/linear_model/_coordinate_descent.py:530: ConvergenceWarning: Objective did not converge. You might want to increase the number of iterations. Duality gap: 1406263534.0100708, tolerance: 797539424.6529875\n",
      "  model = cd_fast.enet_coordinate_descent(\n",
      "/Users/viloavila/opt/anaconda3/lib/python3.9/site-packages/sklearn/linear_model/_coordinate_descent.py:530: ConvergenceWarning: Objective did not converge. You might want to increase the number of iterations. Duality gap: 1242668350.9348145, tolerance: 874706017.577294\n",
      "  model = cd_fast.enet_coordinate_descent(\n"
     ]
    },
    {
     "name": "stdout",
     "output_type": "stream",
     "text": [
      "[CV 4/5] END model__alpha=18.79999999999997;, score=-1609266739.668 total time=   0.2s\n",
      "[CV 5/5] END model__alpha=18.79999999999997;, score=-1636507103.639 total time=   0.2s\n"
     ]
    },
    {
     "name": "stderr",
     "output_type": "stream",
     "text": [
      "/Users/viloavila/opt/anaconda3/lib/python3.9/site-packages/sklearn/linear_model/_coordinate_descent.py:530: ConvergenceWarning: Objective did not converge. You might want to increase the number of iterations. Duality gap: 1249914173.5458984, tolerance: 823890400.1556158\n",
      "  model = cd_fast.enet_coordinate_descent(\n",
      "/Users/viloavila/opt/anaconda3/lib/python3.9/site-packages/sklearn/linear_model/_coordinate_descent.py:530: ConvergenceWarning: Objective did not converge. You might want to increase the number of iterations. Duality gap: 1112733301.8261719, tolerance: 851324810.643811\n",
      "  model = cd_fast.enet_coordinate_descent(\n"
     ]
    },
    {
     "name": "stdout",
     "output_type": "stream",
     "text": [
      "[CV 1/5] END model__alpha=18.999999999999968;, score=-569761225.669 total time=   0.2s\n",
      "[CV 2/5] END model__alpha=18.999999999999968;, score=-691575131.356 total time=   0.2s\n",
      "[CV 3/5] END model__alpha=18.999999999999968;, score=-601316662.498 total time=   0.2s\n",
      "[CV 4/5] END model__alpha=18.999999999999968;, score=-1608887278.719 total time=   0.2s\n"
     ]
    },
    {
     "name": "stderr",
     "output_type": "stream",
     "text": [
      "/Users/viloavila/opt/anaconda3/lib/python3.9/site-packages/sklearn/linear_model/_coordinate_descent.py:530: ConvergenceWarning: Objective did not converge. You might want to increase the number of iterations. Duality gap: 1411664464.6295776, tolerance: 797539424.6529875\n",
      "  model = cd_fast.enet_coordinate_descent(\n",
      "/Users/viloavila/opt/anaconda3/lib/python3.9/site-packages/sklearn/linear_model/_coordinate_descent.py:530: ConvergenceWarning: Objective did not converge. You might want to increase the number of iterations. Duality gap: 1237814158.840454, tolerance: 874706017.577294\n",
      "  model = cd_fast.enet_coordinate_descent(\n"
     ]
    },
    {
     "name": "stdout",
     "output_type": "stream",
     "text": [
      "[CV 5/5] END model__alpha=18.999999999999968;, score=-1635485415.043 total time=   0.2s\n",
      "[CV 1/5] END model__alpha=19.199999999999967;, score=-569706805.423 total time=   0.2s\n"
     ]
    },
    {
     "name": "stderr",
     "output_type": "stream",
     "text": [
      "/Users/viloavila/opt/anaconda3/lib/python3.9/site-packages/sklearn/linear_model/_coordinate_descent.py:530: ConvergenceWarning: Objective did not converge. You might want to increase the number of iterations. Duality gap: 1254049607.6791992, tolerance: 823890400.1556158\n",
      "  model = cd_fast.enet_coordinate_descent(\n",
      "/Users/viloavila/opt/anaconda3/lib/python3.9/site-packages/sklearn/linear_model/_coordinate_descent.py:530: ConvergenceWarning: Objective did not converge. You might want to increase the number of iterations. Duality gap: 1116513361.7753906, tolerance: 851324810.643811\n",
      "  model = cd_fast.enet_coordinate_descent(\n"
     ]
    },
    {
     "name": "stdout",
     "output_type": "stream",
     "text": [
      "[CV 2/5] END model__alpha=19.199999999999967;, score=-691484969.022 total time=   0.2s\n",
      "[CV 3/5] END model__alpha=19.199999999999967;, score=-601296987.923 total time=   0.2s\n"
     ]
    },
    {
     "name": "stderr",
     "output_type": "stream",
     "text": [
      "/Users/viloavila/opt/anaconda3/lib/python3.9/site-packages/sklearn/linear_model/_coordinate_descent.py:530: ConvergenceWarning: Objective did not converge. You might want to increase the number of iterations. Duality gap: 1417048470.621338, tolerance: 797539424.6529875\n",
      "  model = cd_fast.enet_coordinate_descent(\n",
      "/Users/viloavila/opt/anaconda3/lib/python3.9/site-packages/sklearn/linear_model/_coordinate_descent.py:530: ConvergenceWarning: Objective did not converge. You might want to increase the number of iterations. Duality gap: 1241814721.685791, tolerance: 874706017.577294\n",
      "  model = cd_fast.enet_coordinate_descent(\n"
     ]
    },
    {
     "name": "stdout",
     "output_type": "stream",
     "text": [
      "[CV 4/5] END model__alpha=19.199999999999967;, score=-1608518514.383 total time=   0.2s\n",
      "[CV 5/5] END model__alpha=19.199999999999967;, score=-1634457726.352 total time=   0.2s\n"
     ]
    },
    {
     "name": "stderr",
     "output_type": "stream",
     "text": [
      "/Users/viloavila/opt/anaconda3/lib/python3.9/site-packages/sklearn/linear_model/_coordinate_descent.py:530: ConvergenceWarning: Objective did not converge. You might want to increase the number of iterations. Duality gap: 1258107702.0405273, tolerance: 823890400.1556158\n",
      "  model = cd_fast.enet_coordinate_descent(\n",
      "/Users/viloavila/opt/anaconda3/lib/python3.9/site-packages/sklearn/linear_model/_coordinate_descent.py:530: ConvergenceWarning: Objective did not converge. You might want to increase the number of iterations. Duality gap: 1120308199.0786743, tolerance: 851324810.643811\n",
      "  model = cd_fast.enet_coordinate_descent(\n"
     ]
    },
    {
     "name": "stdout",
     "output_type": "stream",
     "text": [
      "[CV 1/5] END model__alpha=19.399999999999967;, score=-569652483.735 total time=   0.2s\n",
      "[CV 2/5] END model__alpha=19.399999999999967;, score=-691376336.250 total time=   0.2s\n",
      "[CV 3/5] END model__alpha=19.399999999999967;, score=-601275133.581 total time=   0.2s\n",
      "[CV 4/5] END model__alpha=19.399999999999967;, score=-1608150005.423 total time=   0.2s\n"
     ]
    },
    {
     "name": "stderr",
     "output_type": "stream",
     "text": [
      "/Users/viloavila/opt/anaconda3/lib/python3.9/site-packages/sklearn/linear_model/_coordinate_descent.py:530: ConvergenceWarning: Objective did not converge. You might want to increase the number of iterations. Duality gap: 1422400486.6375732, tolerance: 797539424.6529875\n",
      "  model = cd_fast.enet_coordinate_descent(\n",
      "/Users/viloavila/opt/anaconda3/lib/python3.9/site-packages/sklearn/linear_model/_coordinate_descent.py:530: ConvergenceWarning: Objective did not converge. You might want to increase the number of iterations. Duality gap: 1251825201.1099854, tolerance: 874706017.577294\n",
      "  model = cd_fast.enet_coordinate_descent(\n"
     ]
    },
    {
     "name": "stdout",
     "output_type": "stream",
     "text": [
      "[CV 5/5] END model__alpha=19.399999999999967;, score=-1633435398.240 total time=   0.2s\n",
      "[CV 1/5] END model__alpha=19.599999999999966;, score=-569597901.939 total time=   0.2s\n"
     ]
    },
    {
     "name": "stderr",
     "output_type": "stream",
     "text": [
      "/Users/viloavila/opt/anaconda3/lib/python3.9/site-packages/sklearn/linear_model/_coordinate_descent.py:530: ConvergenceWarning: Objective did not converge. You might want to increase the number of iterations. Duality gap: 1261961865.2474365, tolerance: 823890400.1556158\n",
      "  model = cd_fast.enet_coordinate_descent(\n",
      "/Users/viloavila/opt/anaconda3/lib/python3.9/site-packages/sklearn/linear_model/_coordinate_descent.py:530: ConvergenceWarning: Objective did not converge. You might want to increase the number of iterations. Duality gap: 1124070521.9055786, tolerance: 851324810.643811\n",
      "  model = cd_fast.enet_coordinate_descent(\n"
     ]
    },
    {
     "name": "stdout",
     "output_type": "stream",
     "text": [
      "[CV 2/5] END model__alpha=19.599999999999966;, score=-691267875.191 total time=   0.2s\n",
      "[CV 3/5] END model__alpha=19.599999999999966;, score=-601259583.953 total time=   0.2s\n"
     ]
    },
    {
     "name": "stderr",
     "output_type": "stream",
     "text": [
      "/Users/viloavila/opt/anaconda3/lib/python3.9/site-packages/sklearn/linear_model/_coordinate_descent.py:530: ConvergenceWarning: Objective did not converge. You might want to increase the number of iterations. Duality gap: 1427720987.9926147, tolerance: 797539424.6529875\n",
      "  model = cd_fast.enet_coordinate_descent(\n",
      "/Users/viloavila/opt/anaconda3/lib/python3.9/site-packages/sklearn/linear_model/_coordinate_descent.py:530: ConvergenceWarning: Objective did not converge. You might want to increase the number of iterations. Duality gap: 1260350820.3029785, tolerance: 874706017.577294\n",
      "  model = cd_fast.enet_coordinate_descent(\n"
     ]
    },
    {
     "name": "stdout",
     "output_type": "stream",
     "text": [
      "[CV 4/5] END model__alpha=19.599999999999966;, score=-1607781752.571 total time=   0.2s\n",
      "[CV 5/5] END model__alpha=19.599999999999966;, score=-1632422726.637 total time=   0.2s\n"
     ]
    },
    {
     "name": "stderr",
     "output_type": "stream",
     "text": [
      "/Users/viloavila/opt/anaconda3/lib/python3.9/site-packages/sklearn/linear_model/_coordinate_descent.py:530: ConvergenceWarning: Objective did not converge. You might want to increase the number of iterations. Duality gap: 1265671253.394165, tolerance: 823890400.1556158\n",
      "  model = cd_fast.enet_coordinate_descent(\n",
      "/Users/viloavila/opt/anaconda3/lib/python3.9/site-packages/sklearn/linear_model/_coordinate_descent.py:530: ConvergenceWarning: Objective did not converge. You might want to increase the number of iterations. Duality gap: 1127798482.3179321, tolerance: 851324810.643811\n",
      "  model = cd_fast.enet_coordinate_descent(\n"
     ]
    },
    {
     "name": "stdout",
     "output_type": "stream",
     "text": [
      "[CV 1/5] END model__alpha=19.799999999999965;, score=-569543522.171 total time=   0.2s\n",
      "[CV 2/5] END model__alpha=19.799999999999965;, score=-691159872.187 total time=   0.2s\n",
      "[CV 3/5] END model__alpha=19.799999999999965;, score=-601247761.599 total time=   0.2s\n",
      "[CV 4/5] END model__alpha=19.799999999999965;, score=-1607413756.267 total time=   0.2s\n"
     ]
    },
    {
     "name": "stderr",
     "output_type": "stream",
     "text": [
      "/Users/viloavila/opt/anaconda3/lib/python3.9/site-packages/sklearn/linear_model/_coordinate_descent.py:530: ConvergenceWarning: Objective did not converge. You might want to increase the number of iterations. Duality gap: 1433010415.0525513, tolerance: 797539424.6529875\n",
      "  model = cd_fast.enet_coordinate_descent(\n",
      "/Users/viloavila/opt/anaconda3/lib/python3.9/site-packages/sklearn/linear_model/_coordinate_descent.py:530: ConvergenceWarning: Objective did not converge. You might want to increase the number of iterations. Duality gap: 1266719026.833252, tolerance: 874706017.577294\n",
      "  model = cd_fast.enet_coordinate_descent(\n"
     ]
    },
    {
     "name": "stdout",
     "output_type": "stream",
     "text": [
      "[CV 5/5] END model__alpha=19.799999999999965;, score=-1631412238.781 total time=   0.2s\n"
     ]
    },
    {
     "name": "stderr",
     "output_type": "stream",
     "text": [
      "/Users/viloavila/opt/anaconda3/lib/python3.9/site-packages/sklearn/linear_model/_coordinate_descent.py:530: ConvergenceWarning: Objective did not converge. You might want to increase the number of iterations. Duality gap: 1309900579.704956, tolerance: 1043549734.1816764\n",
      "  model = cd_fast.enet_coordinate_descent(\n"
     ]
    },
    {
     "data": {
      "text/plain": [
       "GridSearchCV(cv=5,\n",
       "             estimator=Pipeline(steps=[('scaler', StandardScaler()),\n",
       "                                       ('model', Lasso())]),\n",
       "             param_grid={'model__alpha': array([10. , 10.2, 10.4, 10.6, 10.8, 11. , 11.2, 11.4, 11.6, 11.8, 12. ,\n",
       "       12.2, 12.4, 12.6, 12.8, 13. , 13.2, 13.4, 13.6, 13.8, 14. , 14.2,\n",
       "       14.4, 14.6, 14.8, 15. , 15.2, 15.4, 15.6, 15.8, 16. , 16.2, 16.4,\n",
       "       16.6, 16.8, 17. , 17.2, 17.4, 17.6, 17.8, 18. , 18.2, 18.4, 18.6,\n",
       "       18.8, 19. , 19.2, 19.4, 19.6, 19.8])},\n",
       "             scoring='neg_mean_squared_error', verbose=3)"
      ]
     },
     "execution_count": 176,
     "metadata": {},
     "output_type": "execute_result"
    }
   ],
   "source": [
    "search.fit(X_train,y_train)"
   ]
  },
  {
   "cell_type": "code",
   "execution_count": 177,
   "id": "553ba09e",
   "metadata": {},
   "outputs": [
    {
     "data": {
      "text/plain": [
       "{'model__alpha': 19.799999999999965}"
      ]
     },
     "execution_count": 177,
     "metadata": {},
     "output_type": "execute_result"
    }
   ],
   "source": [
    "search.best_params_"
   ]
  },
  {
   "cell_type": "code",
   "execution_count": 178,
   "id": "8c62f0f3",
   "metadata": {},
   "outputs": [],
   "source": [
    "coefficients = search.best_estimator_.named_steps['model'].coef_"
   ]
  },
  {
   "cell_type": "code",
   "execution_count": 179,
   "id": "a0fb5e0d",
   "metadata": {},
   "outputs": [],
   "source": [
    "importance = np.abs(coefficients)"
   ]
  },
  {
   "cell_type": "code",
   "execution_count": 180,
   "id": "a0671189",
   "metadata": {
    "scrolled": true
   },
   "outputs": [
    {
     "data": {
      "text/plain": [
       "array(['id', 'pid', 'ms_subclass', 'lot_frontage', 'lot_area',\n",
       "       'overall_qual', 'overall_cond', 'year_built', 'year_remod/add',\n",
       "       'mas_vnr_area', 'bsmtfin_sf_1', 'bsmtfin_sf_2', 'total_bsmt_sf',\n",
       "       '1st_flr_sf', '2nd_flr_sf', 'low_qual_fin_sf', 'gr_liv_area',\n",
       "       'bsmt_full_bath', 'bsmt_half_bath', 'full_bath', 'half_bath',\n",
       "       'bedroom_abvgr', 'kitchen_abvgr', 'totrms_abvgrd', 'fireplaces',\n",
       "       'garage_yr_blt', 'garage_cars', 'garage_area', 'wood_deck_sf',\n",
       "       'open_porch_sf', 'enclosed_porch', '3ssn_porch', 'screen_porch',\n",
       "       'pool_area', 'misc_val', 'mo_sold', 'ms_zoning_A (agr)',\n",
       "       'ms_zoning_C (all)', 'ms_zoning_FV', 'ms_zoning_RH',\n",
       "       'ms_zoning_RM', 'street_Grvl', 'street_Pave', 'lot_shape_IR1',\n",
       "       'lot_shape_IR2', 'lot_shape_IR3', 'land_contour_Bnk',\n",
       "       'land_contour_HLS', 'land_contour_Low', 'lot_config_Corner',\n",
       "       'lot_config_CulDSac', 'lot_config_FR2', 'lot_config_FR3',\n",
       "       'land_slope_Mod', 'land_slope_Sev', 'neighborhood_Blmngtn',\n",
       "       'neighborhood_Blueste', 'neighborhood_BrDale',\n",
       "       'neighborhood_BrkSide', 'neighborhood_ClearCr',\n",
       "       'neighborhood_Crawfor', 'neighborhood_Edwards',\n",
       "       'neighborhood_Gilbert', 'neighborhood_Greens',\n",
       "       'neighborhood_GrnHill', 'neighborhood_Landmrk',\n",
       "       'neighborhood_MeadowV', 'neighborhood_Mitchel',\n",
       "       'neighborhood_NAmes', 'neighborhood_NPkVill',\n",
       "       'neighborhood_NWAmes', 'neighborhood_NoRidge',\n",
       "       'neighborhood_NridgHt', 'neighborhood_OldTown',\n",
       "       'neighborhood_SWISU', 'neighborhood_Sawyer',\n",
       "       'neighborhood_SawyerW', 'neighborhood_Somerst',\n",
       "       'neighborhood_StoneBr', 'neighborhood_Timber',\n",
       "       'neighborhood_Veenker', 'condition_1_Artery', 'condition_1_Norm',\n",
       "       'condition_1_PosA', 'condition_1_PosN', 'condition_1_RRAe',\n",
       "       'condition_1_RRAn', 'condition_1_RRNe', 'condition_1_RRNn',\n",
       "       'condition_2_Artery', 'condition_2_Feedr', 'condition_2_PosA',\n",
       "       'condition_2_PosN', 'condition_2_RRAn', 'condition_2_RRNn',\n",
       "       'bldg_type_1Fam', 'bldg_type_2fmCon', 'bldg_type_Twnhs',\n",
       "       'bldg_type_TwnhsE', 'house_style_1.5Fin', 'house_style_1.5Unf',\n",
       "       'house_style_1Story', 'house_style_2.5Fin', 'house_style_2.5Unf',\n",
       "       'house_style_2Story', 'roof_style_Flat', 'roof_style_Gambrel',\n",
       "       'roof_style_Hip', 'roof_style_Mansard', 'roof_style_Shed',\n",
       "       'roof_matl_ClyTile', 'roof_matl_CompShg', 'roof_matl_Membran',\n",
       "       'roof_matl_WdShake', 'roof_matl_WdShngl', 'exterior_1st_AsbShng',\n",
       "       'exterior_1st_AsphShn', 'exterior_1st_BrkComm',\n",
       "       'exterior_1st_BrkFace', 'exterior_1st_CBlock',\n",
       "       'exterior_1st_HdBoard', 'exterior_1st_ImStucc',\n",
       "       'exterior_1st_MetalSd', 'exterior_1st_Stone',\n",
       "       'exterior_1st_Stucco', 'exterior_1st_Wd Sdng',\n",
       "       'exterior_1st_WdShing', 'exterior_2nd_AsbShng',\n",
       "       'exterior_2nd_AsphShn', 'exterior_2nd_Brk Cmn',\n",
       "       'exterior_2nd_BrkFace', 'exterior_2nd_CBlock',\n",
       "       'exterior_2nd_CmentBd', 'exterior_2nd_ImStucc',\n",
       "       'exterior_2nd_Plywood', 'exterior_2nd_Stone',\n",
       "       'exterior_2nd_Stucco', 'exterior_2nd_VinylSd',\n",
       "       'exterior_2nd_Wd Sdng', 'mas_vnr_type_BrkCmn',\n",
       "       'mas_vnr_type_BrkFace', 'mas_vnr_type_None', 'mas_vnr_type_Stone',\n",
       "       'exter_qual_Ex', 'exter_qual_TA', 'exter_cond_Ex', 'exter_cond_Fa',\n",
       "       'exter_cond_Gd', 'exter_cond_Po', 'foundation_PConc',\n",
       "       'foundation_Slab', 'foundation_Stone', 'bsmt_qual_Ex',\n",
       "       'bsmt_qual_Gd', 'bsmt_qual_TA', 'bsmt_cond_Ex', 'bsmt_cond_Fa',\n",
       "       'bsmt_cond_Gd', 'bsmt_cond_Po', 'bsmt_cond_TA', 'bsmt_exposure_Av',\n",
       "       'bsmt_exposure_Gd', 'bsmt_exposure_Mn', 'bsmt_exposure_No',\n",
       "       'bsmtfin_type_1_BLQ', 'bsmtfin_type_1_GLQ', 'bsmtfin_type_1_LwQ',\n",
       "       'bsmtfin_type_1_Rec', 'bsmtfin_type_1_Unf', 'bsmtfin_type_2_ALQ',\n",
       "       'bsmtfin_type_2_BLQ', 'bsmtfin_type_2_GLQ', 'bsmtfin_type_2_LwQ',\n",
       "       'bsmtfin_type_2_Rec', 'heating_GasW', 'heating_Grav',\n",
       "       'heating_OthW', 'heating_Wall', 'heating_qc_Ex', 'heating_qc_Fa',\n",
       "       'heating_qc_Po', 'heating_qc_TA', 'central_air_N', 'central_air_Y',\n",
       "       'electrical_FuseF', 'electrical_FuseP', 'electrical_Mix',\n",
       "       'electrical_SBrkr', 'kitchen_qual_Ex', 'kitchen_qual_Fa',\n",
       "       'kitchen_qual_TA', 'functional_Maj1', 'functional_Maj2',\n",
       "       'functional_Min1', 'functional_Mod', 'functional_Sal',\n",
       "       'functional_Sev', 'functional_Typ', 'garage_type_2Types',\n",
       "       'garage_type_Basment', 'garage_type_BuiltIn',\n",
       "       'garage_type_CarPort', 'garage_type_Detchd', 'garage_finish_Fin',\n",
       "       'garage_finish_RFn', 'garage_qual_Ex', 'garage_qual_Fa',\n",
       "       'garage_qual_Gd', 'garage_qual_Po', 'garage_qual_TA',\n",
       "       'garage_cond_Ex', 'garage_cond_Fa', 'garage_cond_Gd',\n",
       "       'garage_cond_Po', 'paved_drive_Y', 'sale_type_COD',\n",
       "       'sale_type_CWD', 'sale_type_Con', 'sale_type_ConLD',\n",
       "       'sale_type_ConLI', 'sale_type_ConLw', 'sale_type_New',\n",
       "       'sale_type_Oth'], dtype=object)"
      ]
     },
     "execution_count": 180,
     "metadata": {},
     "output_type": "execute_result"
    }
   ],
   "source": [
    "np.array(X.columns)[importance > 0]"
   ]
  },
  {
   "cell_type": "code",
   "execution_count": 182,
   "id": "2d267c25",
   "metadata": {
    "scrolled": true
   },
   "outputs": [
    {
     "data": {
      "text/plain": [
       "array(['bsmt_unf_sf', 'yr_sold', 'ms_zoning_I (all)', 'ms_zoning_RL',\n",
       "       'lot_shape_Reg', 'land_contour_Lvl', 'utilities_AllPub',\n",
       "       'utilities_NoSeWa', 'utilities_NoSewr', 'lot_config_Inside',\n",
       "       'land_slope_Gtl', 'neighborhood_CollgCr', 'neighborhood_IDOTRR',\n",
       "       'condition_1_Feedr', 'condition_2_Norm', 'condition_2_RRAe',\n",
       "       'bldg_type_Duplex', 'house_style_SFoyer', 'house_style_SLvl',\n",
       "       'roof_style_Gable', 'roof_matl_Tar&Grv', 'exterior_1st_CemntBd',\n",
       "       'exterior_1st_Plywood', 'exterior_1st_VinylSd',\n",
       "       'exterior_2nd_HdBoard', 'exterior_2nd_MetalSd',\n",
       "       'exterior_2nd_Wd Shng', 'exter_qual_Fa', 'exter_qual_Gd',\n",
       "       'exter_cond_TA', 'foundation_BrkTil', 'foundation_CBlock',\n",
       "       'foundation_Wood', 'bsmt_qual_Fa', 'bsmt_qual_Po',\n",
       "       'bsmtfin_type_1_ALQ', 'bsmtfin_type_2_Unf', 'heating_GasA',\n",
       "       'heating_qc_Gd', 'electrical_FuseA', 'kitchen_qual_Gd',\n",
       "       'functional_Min2', 'garage_type_Attchd', 'garage_finish_Unf',\n",
       "       'garage_cond_TA', 'paved_drive_N', 'paved_drive_P',\n",
       "       'sale_type_WD '], dtype=object)"
      ]
     },
     "execution_count": 182,
     "metadata": {},
     "output_type": "execute_result"
    }
   ],
   "source": [
    "np.array(X.columns)[importance == 0]"
   ]
  },
  {
   "cell_type": "markdown",
   "id": "400207f7",
   "metadata": {},
   "source": [
    "### I used the same cleaning methods on the test Dataframe as I didn on the training Dataframe"
   ]
  },
  {
   "cell_type": "code",
   "execution_count": 183,
   "id": "9bfc3453",
   "metadata": {},
   "outputs": [
    {
     "data": {
      "text/plain": [
       "(878, 80)"
      ]
     },
     "execution_count": 183,
     "metadata": {},
     "output_type": "execute_result"
    }
   ],
   "source": [
    "test.shape"
   ]
  },
  {
   "cell_type": "code",
   "execution_count": 70,
   "id": "00a44288",
   "metadata": {},
   "outputs": [],
   "source": [
    "test.columns = [col.lower().replace(' ', '_') for col in test.columns]"
   ]
  },
  {
   "cell_type": "code",
   "execution_count": 71,
   "id": "809fa07a",
   "metadata": {},
   "outputs": [
    {
     "data": {
      "text/plain": [
       "lot_frontage      160\n",
       "alley             820\n",
       "mas_vnr_type        1\n",
       "mas_vnr_area        1\n",
       "bsmt_qual          25\n",
       "bsmt_cond          25\n",
       "bsmt_exposure      25\n",
       "bsmtfin_type_1     25\n",
       "bsmtfin_type_2     25\n",
       "electrical          1\n",
       "fireplace_qu      422\n",
       "garage_type        44\n",
       "garage_yr_blt      45\n",
       "garage_finish      45\n",
       "garage_qual        45\n",
       "garage_cond        45\n",
       "pool_qc           874\n",
       "fence             706\n",
       "misc_feature      837\n",
       "dtype: int64"
      ]
     },
     "execution_count": 71,
     "metadata": {},
     "output_type": "execute_result"
    }
   ],
   "source": [
    "check_nulls2 = test[test.columns[test.isnull().any()].tolist()].isnull().sum()\n",
    "\n",
    "check_nulls2"
   ]
  },
  {
   "cell_type": "code",
   "execution_count": 72,
   "id": "f77c64a0",
   "metadata": {},
   "outputs": [],
   "source": [
    "test.drop(['alley','fireplace_qu','pool_qc','fence','misc_feature'], axis=1, inplace=True)"
   ]
  },
  {
   "cell_type": "code",
   "execution_count": 73,
   "id": "b755a4dc",
   "metadata": {},
   "outputs": [
    {
     "data": {
      "text/plain": [
       "lot_frontage      160\n",
       "garage_cond        45\n",
       "garage_yr_blt      45\n",
       "garage_finish      45\n",
       "garage_qual        45\n",
       "garage_type        44\n",
       "bsmt_qual          25\n",
       "bsmtfin_type_2     25\n",
       "bsmtfin_type_1     25\n",
       "bsmt_exposure      25\n",
       "bsmt_cond          25\n",
       "mas_vnr_area        1\n",
       "electrical          1\n",
       "mas_vnr_type        1\n",
       "kitchen_abvgr       0\n",
       "dtype: int64"
      ]
     },
     "execution_count": 73,
     "metadata": {},
     "output_type": "execute_result"
    }
   ],
   "source": [
    "test.isnull().sum().sort_values(ascending=False)[:15]"
   ]
  },
  {
   "cell_type": "code",
   "execution_count": 74,
   "id": "ff3a4682",
   "metadata": {},
   "outputs": [],
   "source": [
    "test_dum = pd.get_dummies(test)"
   ]
  },
  {
   "cell_type": "markdown",
   "id": "792ae992",
   "metadata": {},
   "source": [
    "#### I discovered there were some mismatched columns from the training set to the testing set. Where some were missing I added them using dummy value of 0 so everything matched up"
   ]
  },
  {
   "cell_type": "code",
   "execution_count": 75,
   "id": "b80f428a",
   "metadata": {},
   "outputs": [],
   "source": [
    "missing = ['saleprice', 'ms_zoning_A (agr)', 'utilities_NoSeWa', 'neighborhood_GrnHill', 'neighborhood_Landmrk', 'condition_2_Artery', 'condition_2_PosN', 'condition_2_RRAe', 'condition_2_RRAn', 'condition_2_RRNn', 'roof_matl_ClyTile', 'roof_matl_Membran', 'exterior_1st_CBlock', 'exterior_1st_ImStucc', 'exterior_1st_Stone', 'exterior_2nd_Stone', 'bsmt_cond_Ex', 'bsmt_cond_Po', 'heating_OthW', 'heating_Wall', 'heating_qc_Po', 'electrical_Mix', 'functional_Sal', 'functional_Sev', 'garage_qual_Ex']"
   ]
  },
  {
   "cell_type": "code",
   "execution_count": 231,
   "id": "831d47bb",
   "metadata": {
    "scrolled": true
   },
   "outputs": [],
   "source": [
    "for i in test_dum:\n",
    "    if i not in train_clean_dummies.columns:\n",
    "        print(i)"
   ]
  },
  {
   "cell_type": "code",
   "execution_count": 232,
   "id": "67224a15",
   "metadata": {
    "scrolled": true
   },
   "outputs": [
    {
     "name": "stdout",
     "output_type": "stream",
     "text": [
      "saleprice\n"
     ]
    }
   ],
   "source": [
    "for i in train_clean_dummies:\n",
    "    if i not in test_dum.columns:\n",
    "        print(i)"
   ]
  },
  {
   "cell_type": "code",
   "execution_count": 225,
   "id": "0cd5836f",
   "metadata": {},
   "outputs": [],
   "source": [
    "train_clean_dummies.drop(['utilities_NoSewr'], axis=1, inplace=True)"
   ]
  },
  {
   "cell_type": "code",
   "execution_count": 79,
   "id": "853957e5",
   "metadata": {},
   "outputs": [],
   "source": [
    "test_dum.drop(['roof_matl_Metal',\n",
    "'roof_matl_Roll',\n",
    "'exterior_1st_PreCast',\n",
    "'exterior_2nd_Other',\n",
    "'exterior_2nd_PreCast',\n",
    "'mas_vnr_type_CBlock',\n",
    "'heating_Floor',\n",
    "'kitchen_qual_Po',\n",
    "'sale_type_VWD'], axis=1, inplace=True)"
   ]
  },
  {
   "cell_type": "code",
   "execution_count": 80,
   "id": "1c42333e",
   "metadata": {},
   "outputs": [],
   "source": [
    "test_dum[['ms_zoning_A (agr)', 'neighborhood_GrnHill', 'neighborhood_Landmrk', 'condition_2_Artery', 'condition_2_PosN',\\\n",
    "          'condition_2_RRAe', 'condition_2_RRAn', 'condition_2_RRNn',\\\n",
    "          'roof_matl_ClyTile', 'roof_matl_Membran', 'exterior_1st_CBlock',\\\n",
    "          'exterior_1st_ImStucc', 'exterior_1st_Stone', 'exterior_2nd_Stone',\\\n",
    "          'bsmt_cond_Ex', 'bsmt_cond_Po', 'heating_OthW', 'heating_Wall', 'heating_qc_Po',\\\n",
    "          'electrical_Mix', 'functional_Sal', 'functional_Sev', 'garage_qual_Ex']] = 0"
   ]
  },
  {
   "cell_type": "code",
   "execution_count": 322,
   "id": "f10b98a2",
   "metadata": {},
   "outputs": [
    {
     "data": {
      "text/plain": [
       "(2043, 271)"
      ]
     },
     "execution_count": 322,
     "metadata": {},
     "output_type": "execute_result"
    }
   ],
   "source": [
    "train_clean_dummies.shape"
   ]
  },
  {
   "cell_type": "code",
   "execution_count": 323,
   "id": "45aaa187",
   "metadata": {},
   "outputs": [
    {
     "data": {
      "text/plain": [
       "(878, 270)"
      ]
     },
     "execution_count": 323,
     "metadata": {},
     "output_type": "execute_result"
    }
   ],
   "source": [
    "test_dum.shape"
   ]
  },
  {
   "cell_type": "code",
   "execution_count": 83,
   "id": "3379244a",
   "metadata": {},
   "outputs": [],
   "source": [
    "test_dum.rename(columns={'utilities_NoSewr': 'utilities_NoSeWa'}, inplace=True)"
   ]
  },
  {
   "cell_type": "code",
   "execution_count": 324,
   "id": "76527191",
   "metadata": {
    "scrolled": false
   },
   "outputs": [
    {
     "data": {
      "text/plain": [
       "id                    0\n",
       "bsmtfin_type_1_LwQ    0\n",
       "bsmt_qual_Fa          0\n",
       "bsmt_qual_Gd          0\n",
       "bsmt_qual_Po          0\n",
       "bsmt_qual_TA          0\n",
       "bsmt_cond_Fa          0\n",
       "bsmt_cond_Gd          0\n",
       "bsmt_cond_TA          0\n",
       "bsmt_exposure_Av      0\n",
       "bsmt_exposure_Gd      0\n",
       "bsmt_exposure_Mn      0\n",
       "bsmt_exposure_No      0\n",
       "bsmtfin_type_1_ALQ    0\n",
       "bsmtfin_type_1_BLQ    0\n",
       "dtype: int64"
      ]
     },
     "execution_count": 324,
     "metadata": {},
     "output_type": "execute_result"
    }
   ],
   "source": [
    "test_dum.isnull().sum().sort_values(ascending=False)[:15]"
   ]
  },
  {
   "cell_type": "markdown",
   "id": "2d27bc2b",
   "metadata": {},
   "source": [
    "#### I filled in the remaining missing values from the testing dataframe with the mean of that column"
   ]
  },
  {
   "cell_type": "code",
   "execution_count": 87,
   "id": "d70f187d",
   "metadata": {},
   "outputs": [],
   "source": [
    "test_dum['lot_frontage'].fillna(value= 69, inplace = True)\n",
    "\n",
    "test_dum['garage_yr_blt'].fillna(value= 1976, inplace = True)\n",
    "\n",
    "test_dum['mas_vnr_area'].fillna(value= 106, inplace = True)"
   ]
  },
  {
   "cell_type": "code",
   "execution_count": 226,
   "id": "337d4b8b",
   "metadata": {},
   "outputs": [
    {
     "data": {
      "text/plain": [
       "(878, 270)"
      ]
     },
     "execution_count": 226,
     "metadata": {},
     "output_type": "execute_result"
    }
   ],
   "source": [
    "test_dum.shape"
   ]
  },
  {
   "cell_type": "code",
   "execution_count": 227,
   "id": "d87c58a1",
   "metadata": {},
   "outputs": [
    {
     "data": {
      "text/plain": [
       "(2043, 271)"
      ]
     },
     "execution_count": 227,
     "metadata": {},
     "output_type": "execute_result"
    }
   ],
   "source": [
    "train_clean_dummies.shape"
   ]
  },
  {
   "cell_type": "code",
   "execution_count": 325,
   "id": "1398b6ca",
   "metadata": {
    "scrolled": true
   },
   "outputs": [],
   "source": [
    "lasso_pred1 = lasso.predict(test_dum)"
   ]
  },
  {
   "cell_type": "code",
   "execution_count": 326,
   "id": "595cefd6",
   "metadata": {
    "scrolled": true
   },
   "outputs": [],
   "source": [
    "lasso_pred2 = lasso.predict(test_dum)"
   ]
  },
  {
   "cell_type": "code",
   "execution_count": null,
   "id": "d7f193b3",
   "metadata": {},
   "outputs": [],
   "source": [
    "lasso_pred3 = lasso.predict(test_dum)"
   ]
  },
  {
   "cell_type": "code",
   "execution_count": 96,
   "id": "91f062dc",
   "metadata": {},
   "outputs": [],
   "source": [
    "ridge_pred = clf.predict(test_dum)"
   ]
  },
  {
   "cell_type": "code",
   "execution_count": 367,
   "id": "9016e9d1",
   "metadata": {},
   "outputs": [],
   "source": [
    "lin_pred1 = lr.predict(test_dum[['overall_qual','gr_liv_area', 'total_bsmt_sf', 'garage_area', 'garage_cars', '1st_flr_sf',\\\n",
    "                'exter_qual_TA', 'bsmt_qual_Ex', 'year_built', 'kitchen_qual_Ex', 'year_remod/add',\\\n",
    "                'kitchen_qual_TA', 'full_bath', 'foundation_PConc', 'mas_vnr_area', 'garage_yr_blt', 'totrms_abvgrd']])"
   ]
  },
  {
   "cell_type": "code",
   "execution_count": 369,
   "id": "af72a0b0",
   "metadata": {},
   "outputs": [],
   "source": [
    "submission1 = pd.DataFrame()\n",
    "submission1['Id'] = test_dum['pid']\n",
    "submission1['Saleprice'] = y_pred\n",
    "submission1.rename(columns={'Saleprice': 'SalePrice'}, inplace=True)\n"
   ]
  },
  {
   "cell_type": "code",
   "execution_count": null,
   "id": "630ca809",
   "metadata": {
    "scrolled": false
   },
   "outputs": [],
   "source": [
    "submission2 = pd.DataFrame()\n",
    "submission2['Id'] = test_dum['pid']\n",
    "submission2['Saleprice'] = ridge_pred\n",
    "submission2.head()"
   ]
  },
  {
   "cell_type": "code",
   "execution_count": null,
   "id": "96667519",
   "metadata": {},
   "outputs": [],
   "source": [
    "submission2.head()"
   ]
  },
  {
   "cell_type": "code",
   "execution_count": null,
   "id": "2271bc14",
   "metadata": {},
   "outputs": [],
   "source": [
    "lasso2_pred = lasso.predict(test_dum)"
   ]
  },
  {
   "cell_type": "code",
   "execution_count": null,
   "id": "105617ef",
   "metadata": {},
   "outputs": [],
   "source": [
    "submission3 = pd.DataFrame()\n",
    "submission3['Id'] = test_dum['pid']\n",
    "submission3['SalePrice'] = lasso2_pred\n",
    "submission3.head()"
   ]
  },
  {
   "cell_type": "code",
   "execution_count": 237,
   "id": "a691ade6",
   "metadata": {
    "scrolled": true
   },
   "outputs": [
    {
     "data": {
      "text/html": [
       "<div>\n",
       "<style scoped>\n",
       "    .dataframe tbody tr th:only-of-type {\n",
       "        vertical-align: middle;\n",
       "    }\n",
       "\n",
       "    .dataframe tbody tr th {\n",
       "        vertical-align: top;\n",
       "    }\n",
       "\n",
       "    .dataframe thead th {\n",
       "        text-align: right;\n",
       "    }\n",
       "</style>\n",
       "<table border=\"1\" class=\"dataframe\">\n",
       "  <thead>\n",
       "    <tr style=\"text-align: right;\">\n",
       "      <th></th>\n",
       "      <th>Id</th>\n",
       "      <th>SalePrice</th>\n",
       "    </tr>\n",
       "  </thead>\n",
       "  <tbody>\n",
       "    <tr>\n",
       "      <th>0</th>\n",
       "      <td>902301120</td>\n",
       "      <td>139773.224676</td>\n",
       "    </tr>\n",
       "    <tr>\n",
       "      <th>1</th>\n",
       "      <td>905108090</td>\n",
       "      <td>162711.110810</td>\n",
       "    </tr>\n",
       "    <tr>\n",
       "      <th>2</th>\n",
       "      <td>528218130</td>\n",
       "      <td>199360.028238</td>\n",
       "    </tr>\n",
       "    <tr>\n",
       "      <th>3</th>\n",
       "      <td>902207150</td>\n",
       "      <td>102680.704028</td>\n",
       "    </tr>\n",
       "    <tr>\n",
       "      <th>4</th>\n",
       "      <td>535105100</td>\n",
       "      <td>182494.165918</td>\n",
       "    </tr>\n",
       "  </tbody>\n",
       "</table>\n",
       "</div>"
      ],
      "text/plain": [
       "          Id      SalePrice\n",
       "0  902301120  139773.224676\n",
       "1  905108090  162711.110810\n",
       "2  528218130  199360.028238\n",
       "3  902207150  102680.704028\n",
       "4  535105100  182494.165918"
      ]
     },
     "execution_count": 237,
     "metadata": {},
     "output_type": "execute_result"
    }
   ],
   "source": [
    "submission4 = pd.DataFrame()\n",
    "submission4['Id'] = test_dum['pid']\n",
    "submission4['SalePrice'] = y_pred1\n",
    "submission4.head()"
   ]
  },
  {
   "cell_type": "code",
   "execution_count": 257,
   "id": "726e02d7",
   "metadata": {},
   "outputs": [
    {
     "data": {
      "text/html": [
       "<div>\n",
       "<style scoped>\n",
       "    .dataframe tbody tr th:only-of-type {\n",
       "        vertical-align: middle;\n",
       "    }\n",
       "\n",
       "    .dataframe tbody tr th {\n",
       "        vertical-align: top;\n",
       "    }\n",
       "\n",
       "    .dataframe thead th {\n",
       "        text-align: right;\n",
       "    }\n",
       "</style>\n",
       "<table border=\"1\" class=\"dataframe\">\n",
       "  <thead>\n",
       "    <tr style=\"text-align: right;\">\n",
       "      <th></th>\n",
       "      <th>Id</th>\n",
       "      <th>SalePrice</th>\n",
       "    </tr>\n",
       "  </thead>\n",
       "  <tbody>\n",
       "    <tr>\n",
       "      <th>0</th>\n",
       "      <td>902301120</td>\n",
       "      <td>131043.507541</td>\n",
       "    </tr>\n",
       "    <tr>\n",
       "      <th>1</th>\n",
       "      <td>905108090</td>\n",
       "      <td>169834.781902</td>\n",
       "    </tr>\n",
       "    <tr>\n",
       "      <th>2</th>\n",
       "      <td>528218130</td>\n",
       "      <td>195200.157115</td>\n",
       "    </tr>\n",
       "    <tr>\n",
       "      <th>3</th>\n",
       "      <td>902207150</td>\n",
       "      <td>101379.406041</td>\n",
       "    </tr>\n",
       "    <tr>\n",
       "      <th>4</th>\n",
       "      <td>535105100</td>\n",
       "      <td>150346.758934</td>\n",
       "    </tr>\n",
       "  </tbody>\n",
       "</table>\n",
       "</div>"
      ],
      "text/plain": [
       "          Id      SalePrice\n",
       "0  902301120  131043.507541\n",
       "1  905108090  169834.781902\n",
       "2  528218130  195200.157115\n",
       "3  902207150  101379.406041\n",
       "4  535105100  150346.758934"
      ]
     },
     "execution_count": 257,
     "metadata": {},
     "output_type": "execute_result"
    }
   ],
   "source": [
    "submission5 = pd.DataFrame()\n",
    "submission5['Id'] = test_dum['pid']\n",
    "submission5['SalePrice'] = y_pred2\n",
    "submission5.head()"
   ]
  },
  {
   "cell_type": "code",
   "execution_count": 370,
   "id": "e9baddfc",
   "metadata": {
    "scrolled": true
   },
   "outputs": [
    {
     "data": {
      "text/html": [
       "<div>\n",
       "<style scoped>\n",
       "    .dataframe tbody tr th:only-of-type {\n",
       "        vertical-align: middle;\n",
       "    }\n",
       "\n",
       "    .dataframe tbody tr th {\n",
       "        vertical-align: top;\n",
       "    }\n",
       "\n",
       "    .dataframe thead th {\n",
       "        text-align: right;\n",
       "    }\n",
       "</style>\n",
       "<table border=\"1\" class=\"dataframe\">\n",
       "  <thead>\n",
       "    <tr style=\"text-align: right;\">\n",
       "      <th></th>\n",
       "      <th>Id</th>\n",
       "      <th>SalePrice</th>\n",
       "    </tr>\n",
       "  </thead>\n",
       "  <tbody>\n",
       "    <tr>\n",
       "      <th>0</th>\n",
       "      <td>902301120</td>\n",
       "      <td>161145.812887</td>\n",
       "    </tr>\n",
       "    <tr>\n",
       "      <th>1</th>\n",
       "      <td>905108090</td>\n",
       "      <td>207150.380385</td>\n",
       "    </tr>\n",
       "    <tr>\n",
       "      <th>2</th>\n",
       "      <td>528218130</td>\n",
       "      <td>180054.958882</td>\n",
       "    </tr>\n",
       "    <tr>\n",
       "      <th>3</th>\n",
       "      <td>902207150</td>\n",
       "      <td>128661.905199</td>\n",
       "    </tr>\n",
       "    <tr>\n",
       "      <th>4</th>\n",
       "      <td>535105100</td>\n",
       "      <td>179455.490667</td>\n",
       "    </tr>\n",
       "  </tbody>\n",
       "</table>\n",
       "</div>"
      ],
      "text/plain": [
       "          Id      SalePrice\n",
       "0  902301120  161145.812887\n",
       "1  905108090  207150.380385\n",
       "2  528218130  180054.958882\n",
       "3  902207150  128661.905199\n",
       "4  535105100  179455.490667"
      ]
     },
     "execution_count": 370,
     "metadata": {},
     "output_type": "execute_result"
    }
   ],
   "source": [
    "submission6 = pd.DataFrame()\n",
    "submission6['Id'] = test_dum['pid']\n",
    "submission6['SalePrice'] = lin_pred1\n",
    "submission6.head()"
   ]
  },
  {
   "cell_type": "code",
   "execution_count": 371,
   "id": "c087b357",
   "metadata": {},
   "outputs": [],
   "source": [
    "submission6.to_csv('./datasets/submission6.csv', index=False)"
   ]
  },
  {
   "cell_type": "code",
   "execution_count": 238,
   "id": "0d434423",
   "metadata": {},
   "outputs": [],
   "source": [
    "submission4.to_csv('./datasets/submission4.csv', index=False)"
   ]
  },
  {
   "cell_type": "code",
   "execution_count": 258,
   "id": "a522944a",
   "metadata": {},
   "outputs": [],
   "source": [
    "submission5.to_csv('./datasets/submission5.csv', index=False)"
   ]
  },
  {
   "cell_type": "code",
   "execution_count": null,
   "id": "2b7c51c4",
   "metadata": {},
   "outputs": [],
   "source": [
    "submission1.to_csv('./datasets/submission1.csv', index=False)"
   ]
  },
  {
   "cell_type": "code",
   "execution_count": null,
   "id": "23044385",
   "metadata": {},
   "outputs": [],
   "source": [
    "submission2.to_csv('./datasets/submission2.csv', index=False)"
   ]
  },
  {
   "cell_type": "code",
   "execution_count": null,
   "id": "c0fbe0b3",
   "metadata": {},
   "outputs": [],
   "source": [
    "submission3.to_csv('./datasets/submission3.csv', index=False)"
   ]
  },
  {
   "cell_type": "code",
   "execution_count": null,
   "id": "3c655d5a",
   "metadata": {},
   "outputs": [],
   "source": [
    "submission_df.to_csv('../project_2/datasets/submission_df.csv', index=False)"
   ]
  }
 ],
 "metadata": {
  "kernelspec": {
   "display_name": "Python 3 (ipykernel)",
   "language": "python",
   "name": "python3"
  },
  "language_info": {
   "codemirror_mode": {
    "name": "ipython",
    "version": 3
   },
   "file_extension": ".py",
   "mimetype": "text/x-python",
   "name": "python",
   "nbconvert_exporter": "python",
   "pygments_lexer": "ipython3",
   "version": "3.9.7"
  }
 },
 "nbformat": 4,
 "nbformat_minor": 5
}
